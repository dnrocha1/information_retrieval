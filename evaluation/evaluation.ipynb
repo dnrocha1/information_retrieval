{
  "nbformat": 4,
  "nbformat_minor": 0,
  "metadata": {
    "colab": {
      "name": "evaluation.ipynb",
      "version": "0.3.2",
      "provenance": [],
      "collapsed_sections": [],
      "toc_visible": true
    },
    "kernelspec": {
      "name": "python3",
      "display_name": "Python 3"
    }
  },
  "cells": [
    {
      "cell_type": "code",
      "metadata": {
        "id": "dd76WLsnPo5W",
        "colab_type": "code",
        "colab": {}
      },
      "source": [
        "%%capture\n",
        "\n",
        "import pandas as pd\n",
        "import nltk\n",
        "from nltk.corpus import stopwords\n",
        "from nltk.tokenize import RegexpTokenizer\n",
        "from collections import Counter\n",
        "import math\n",
        "from IPython.display import display\n",
        "\n",
        "nltk.download('stopwords')"
      ],
      "execution_count": 0,
      "outputs": []
    },
    {
      "cell_type": "code",
      "metadata": {
        "id": "QPIe1QzHMU5p",
        "colab_type": "code",
        "colab": {}
      },
      "source": [
        "data = pd.read_csv('https://raw.githubusercontent.com/dnrocha1/information_retrieval/master/lab02/data/results.csv')"
      ],
      "execution_count": 0,
      "outputs": []
    },
    {
      "cell_type": "code",
      "metadata": {
        "id": "cMLsUB-NPt74",
        "colab_type": "code",
        "colab": {}
      },
      "source": [
        "#pre-process\n",
        "\n",
        "stopwords = stopwords.words('portuguese')\n",
        "documents = data['text'].apply(lambda x: x.lower())\n",
        "\n",
        "regex = RegexpTokenizer(r'\\b[A-zÀ-ú-\\'\\d]{3,}')\n",
        "# tokens = regex.tokenize(texts)"
      ],
      "execution_count": 0,
      "outputs": []
    },
    {
      "cell_type": "code",
      "metadata": {
        "id": "Eko6w9PfQBy8",
        "colab_type": "code",
        "colab": {}
      },
      "source": [
        "M = len(documents)\n",
        "\n",
        "def build_index(documents=documents):\n",
        "  inverted_list = {}\n",
        "\n",
        "  n_doc = 0\n",
        "  for document in documents:\n",
        "    token = [w for w in regex.tokenize(document) if w not in stopwords]\n",
        "    counter = list(Counter(token).items())\n",
        "    for elem in counter:\n",
        "      key = elem[0]\n",
        "      freq = elem[1]\n",
        "      if key in inverted_list.keys():\n",
        "        if n_doc not in inverted_list[key][0]:\n",
        "          inverted_list[key].append((n_doc,freq))\n",
        "      else:\n",
        "        inverted_list[key] = [(n_doc,freq)]\n",
        "    n_doc += 1\n",
        "  \n",
        "  for elem in inverted_list:\n",
        "    k = len(inverted_list[elem])\n",
        "    idf = math.log((M+1)/k)\n",
        "    inverted_list[elem].append(idf)\n",
        "  \n",
        "  return inverted_list\n",
        "\n",
        "index = build_index()\n",
        "\n",
        "vocabulary = list(index.keys())"
      ],
      "execution_count": 0,
      "outputs": []
    },
    {
      "cell_type": "code",
      "metadata": {
        "id": "sNhSj6-2TlSA",
        "colab_type": "code",
        "colab": {}
      },
      "source": [
        "# binary\n",
        "\n",
        "def vec_model_bin(query,document,index=index):\n",
        "  q = {}\n",
        "  d = {}\n",
        "  \n",
        "  for word in vocabulary:\n",
        "    q[word] = 0\n",
        "    if word in query.split():\n",
        "      q[word] = 1\n",
        "      \n",
        "  tokens = [w for w in regex.tokenize(document) if w not in stopwords]\n",
        "  for word in vocabulary:\n",
        "    d[word] = 0\n",
        "    if word in list(set(tokens)):\n",
        "      d[word] = 1\n",
        "      \n",
        "  acc = 0\n",
        "  for word in vocabulary:\n",
        "    if q[word] > 0 and d[word] > 0:\n",
        "      acc = acc + q[word]*d[word]\n",
        "      \n",
        "  return acc\n",
        "\n",
        "# vec_model_bin(\"forças armadas\",documents[149])"
      ],
      "execution_count": 0,
      "outputs": []
    },
    {
      "cell_type": "code",
      "metadata": {
        "id": "uYyC8B1tT1j_",
        "colab_type": "code",
        "colab": {}
      },
      "source": [
        "# tf\n",
        "\n",
        "def vec_model_tf(query,document,index=index):\n",
        "  q = {}\n",
        "  d = {}\n",
        "  \n",
        "  for word in vocabulary:\n",
        "    q[word] = 0\n",
        "    if word in query.split():\n",
        "      q[word] = 1\n",
        "  \n",
        "  tokens = [w for w in regex.tokenize(document) if w not in stopwords]\n",
        "  counter = Counter(tokens)\n",
        "  \n",
        "  for word in vocabulary:\n",
        "    d[word] = 0\n",
        "    if word in list(counter.keys()):\n",
        "      d[word] = counter[word]\n",
        "      \n",
        "  acc = 0\n",
        "  for word in vocabulary:\n",
        "    if q[word] > 0 and d[word] > 0:\n",
        "      acc = acc + q[word]*d[word]\n",
        "      \n",
        "  return acc\n",
        "\n",
        "# vec_model_tf(\"juíza federal\",documents[0])"
      ],
      "execution_count": 0,
      "outputs": []
    },
    {
      "cell_type": "code",
      "metadata": {
        "id": "Ll7I1C5JT4uF",
        "colab_type": "code",
        "colab": {}
      },
      "source": [
        "# tf-idf\n",
        "\n",
        "def vec_model_tf_idf(query,document,index=index):\n",
        "  q = {}\n",
        "  d = {}\n",
        "  \n",
        "  for word in vocabulary:\n",
        "    q[word] = 0\n",
        "    if word in query.split():\n",
        "      q[word] = 1\n",
        "  \n",
        "  tokens = [w for w in regex.tokenize(document) if w not in stopwords]\n",
        "  counter = Counter(tokens)\n",
        "  \n",
        "  for word in vocabulary:\n",
        "    d[word] = 0\n",
        "    if word in list(counter.keys()):\n",
        "      d[word] = counter[word]\n",
        "      \n",
        "  acc = 0\n",
        "  for word in vocabulary:\n",
        "    idf = index[word][-1]\n",
        "    if q[word] > 0 and d[word] > 0:\n",
        "      acc = acc + q[word]*d[word]*idf\n",
        "      \n",
        "  return acc\n",
        "\n",
        "# vec_model_tf_idf(\"juíza federal\",documents[14])"
      ],
      "execution_count": 0,
      "outputs": []
    },
    {
      "cell_type": "code",
      "metadata": {
        "id": "et6tzkmkT-y-",
        "colab_type": "code",
        "colab": {}
      },
      "source": [
        "# bm25\n",
        "\n",
        "k = 1\n",
        "def bm25(query,document,index=index):\n",
        "  doc_tokens = [w for w in regex.tokenize(document) if w not in stopwords]\n",
        "  query_words = query.split()\n",
        "  \n",
        "  matched_words = list(set(doc_tokens) & set(query_words))\n",
        "  \n",
        "  score = 0\n",
        "  \n",
        "  for word in matched_words:\n",
        "    cwq = query_words.count(word)\n",
        "    cwd = doc_tokens.count(word)\n",
        "    dfw = len(index[word][:-1])\n",
        "    y = ((k+1)*cwd)/(cwd+k)\n",
        "    score += cwq * y * math.log((M+1)/dfw)\n",
        "    \n",
        "  \n",
        "  return score\n",
        "\n",
        "# bm25(\"forças armadas\",documents[149])"
      ],
      "execution_count": 0,
      "outputs": []
    },
    {
      "cell_type": "code",
      "metadata": {
        "id": "11fOGaUmVUks",
        "colab_type": "code",
        "colab": {}
      },
      "source": [
        "def get_best(query,fun):\n",
        "  doc_id = 0\n",
        "  scores = []\n",
        "  docs = {}\n",
        "  for document in documents:\n",
        "    score = fun(query,document)\n",
        "    docs[doc_id] = score\n",
        "    doc_id += 1\n",
        "    \n",
        "  return sorted(docs.items(), key=lambda kv:kv[1], reverse=True)\n",
        "\n",
        "def build_query_results(query):\n",
        "  funs = [vec_model_bin,vec_model_tf,vec_model_tf_idf,bm25]\n",
        "  table = {}\n",
        "  for fun in funs:\n",
        "    top = get_best(query,fun)\n",
        "    table[fun.__name__] = top\n",
        "    \n",
        "  return pd.DataFrame(table)"
      ],
      "execution_count": 0,
      "outputs": []
    },
    {
      "cell_type": "markdown",
      "metadata": {
        "id": "xq0KMzJQQR0P",
        "colab_type": "text"
      },
      "source": [
        "## 1. Escolha um documento dentre aqueles da base do aluno Bernardi e crie uma consulta que você acha que tem boas chances de recuperar este documento. Em seguida, avalie os resultados de tal consulta usando a métrica de avaliação Reciprocal Rank"
      ]
    },
    {
      "cell_type": "code",
      "metadata": {
        "id": "1D1HKPYHQU8-",
        "colab_type": "code",
        "colab": {
          "base_uri": "https://localhost:8080/",
          "height": 69
        },
        "outputId": "70180ae8-c2eb-4eee-99ef-1bf4f5507722"
      },
      "source": [
        "doc_num = 17\n",
        "query = 'twitter bolsonaro'\n",
        "print(f\"Título do documento: '{data.iloc[doc_num].title}'\")\n",
        "print(f\"Subtítulo do documento: '{data.iloc[doc_num].subtitle}'\")\n",
        "print(f\"Consulta: '{query}'\")"
      ],
      "execution_count": 10,
      "outputs": [
        {
          "output_type": "stream",
          "text": [
            "Título do documento: 'Um tuíte muito vulgar'\n",
            "Subtítulo do documento: 'Bolsonaro lança cortina de fumaça nas redes sociais em detrimento da imagem institucional do Brasil'\n",
            "Consulta: 'twitter bolsonaro'\n"
          ],
          "name": "stdout"
        }
      ]
    },
    {
      "cell_type": "code",
      "metadata": {
        "id": "RM6jkwlkWSoA",
        "colab_type": "code",
        "colab": {
          "base_uri": "https://localhost:8080/",
          "height": 363
        },
        "outputId": "a71670a6-78a1-4e24-bc25-e1c077a6e046"
      },
      "source": [
        "results = build_query_results(query)\n",
        "display(results.head(10))"
      ],
      "execution_count": 11,
      "outputs": [
        {
          "output_type": "display_data",
          "data": {
            "text/html": [
              "<div>\n",
              "<style scoped>\n",
              "    .dataframe tbody tr th:only-of-type {\n",
              "        vertical-align: middle;\n",
              "    }\n",
              "\n",
              "    .dataframe tbody tr th {\n",
              "        vertical-align: top;\n",
              "    }\n",
              "\n",
              "    .dataframe thead th {\n",
              "        text-align: right;\n",
              "    }\n",
              "</style>\n",
              "<table border=\"1\" class=\"dataframe\">\n",
              "  <thead>\n",
              "    <tr style=\"text-align: right;\">\n",
              "      <th></th>\n",
              "      <th>vec_model_bin</th>\n",
              "      <th>vec_model_tf</th>\n",
              "      <th>vec_model_tf_idf</th>\n",
              "      <th>bm25</th>\n",
              "    </tr>\n",
              "  </thead>\n",
              "  <tbody>\n",
              "    <tr>\n",
              "      <th>0</th>\n",
              "      <td>(17, 2)</td>\n",
              "      <td>(150, 47)</td>\n",
              "      <td>(150, 63.606491175962056)</td>\n",
              "      <td>(18, 6.08007067362192)</td>\n",
              "    </tr>\n",
              "    <tr>\n",
              "      <th>1</th>\n",
              "      <td>(18, 2)</td>\n",
              "      <td>(165, 38)</td>\n",
              "      <td>(165, 51.62023559343967)</td>\n",
              "      <td>(204, 5.845771438984137)</td>\n",
              "    </tr>\n",
              "    <tr>\n",
              "      <th>2</th>\n",
              "      <td>(104, 2)</td>\n",
              "      <td>(206, 35)</td>\n",
              "      <td>(206, 46.61321615425373)</td>\n",
              "      <td>(17, 5.344219743078769)</td>\n",
              "    </tr>\n",
              "    <tr>\n",
              "      <th>3</th>\n",
              "      <td>(119, 2)</td>\n",
              "      <td>(18, 29)</td>\n",
              "      <td>(18, 41.65718183427425)</td>\n",
              "      <td>(150, 4.950346835958886)</td>\n",
              "    </tr>\n",
              "    <tr>\n",
              "      <th>4</th>\n",
              "      <td>(139, 2)</td>\n",
              "      <td>(41, 12)</td>\n",
              "      <td>(204, 16.352864493393646)</td>\n",
              "      <td>(165, 4.936924377299847)</td>\n",
              "    </tr>\n",
              "    <tr>\n",
              "      <th>5</th>\n",
              "      <td>(150, 2)</td>\n",
              "      <td>(207, 12)</td>\n",
              "      <td>(41, 15.98167411002985)</td>\n",
              "      <td>(104, 4.626503388947136)</td>\n",
              "    </tr>\n",
              "    <tr>\n",
              "      <th>6</th>\n",
              "      <td>(165, 2)</td>\n",
              "      <td>(215, 11)</td>\n",
              "      <td>(207, 15.98167411002985)</td>\n",
              "      <td>(202, 4.474296968851615)</td>\n",
              "    </tr>\n",
              "    <tr>\n",
              "      <th>7</th>\n",
              "      <td>(202, 2)</td>\n",
              "      <td>(204, 10)</td>\n",
              "      <td>(215, 14.64986793419403)</td>\n",
              "      <td>(214, 4.474296968851615)</td>\n",
              "    </tr>\n",
              "    <tr>\n",
              "      <th>8</th>\n",
              "      <td>(204, 2)</td>\n",
              "      <td>(110, 8)</td>\n",
              "      <td>(17, 11.345845054207706)</td>\n",
              "      <td>(228, 4.474296968851615)</td>\n",
              "    </tr>\n",
              "    <tr>\n",
              "      <th>9</th>\n",
              "      <td>(208, 2)</td>\n",
              "      <td>(224, 8)</td>\n",
              "      <td>(110, 10.654449406686567)</td>\n",
              "      <td>(139, 4.341116351268032)</td>\n",
              "    </tr>\n",
              "  </tbody>\n",
              "</table>\n",
              "</div>"
            ],
            "text/plain": [
              "  vec_model_bin  ...                      bm25\n",
              "0       (17, 2)  ...    (18, 6.08007067362192)\n",
              "1       (18, 2)  ...  (204, 5.845771438984137)\n",
              "2      (104, 2)  ...   (17, 5.344219743078769)\n",
              "3      (119, 2)  ...  (150, 4.950346835958886)\n",
              "4      (139, 2)  ...  (165, 4.936924377299847)\n",
              "5      (150, 2)  ...  (104, 4.626503388947136)\n",
              "6      (165, 2)  ...  (202, 4.474296968851615)\n",
              "7      (202, 2)  ...  (214, 4.474296968851615)\n",
              "8      (204, 2)  ...  (228, 4.474296968851615)\n",
              "9      (208, 2)  ...  (139, 4.341116351268032)\n",
              "\n",
              "[10 rows x 4 columns]"
            ]
          },
          "metadata": {
            "tags": []
          }
        }
      ]
    },
    {
      "cell_type": "code",
      "metadata": {
        "id": "iTo-gpzlYjUi",
        "colab_type": "code",
        "colab": {
          "base_uri": "https://localhost:8080/",
          "height": 175
        },
        "outputId": "edeb6c3f-ac3c-40a7-b4d5-6a99863a90fe"
      },
      "source": [
        "def reciprocal_rank(col,doc_id):\n",
        "  n = 1\n",
        "  for doc,score in col:\n",
        "    if doc == doc_id:\n",
        "      return round(1 / n, 2)\n",
        "    else:\n",
        "      n += 1\n",
        "  return 0\n",
        "\n",
        "ranking_rr = {}\n",
        "for col in results:\n",
        "  ranking_rr[col] = reciprocal_rank(results[col].head(10), doc_num)\n",
        "  \n",
        "rr = pd.DataFrame(ranking_rr.items(),columns=['model','reciprocal'])\n",
        "display(rr)"
      ],
      "execution_count": 12,
      "outputs": [
        {
          "output_type": "display_data",
          "data": {
            "text/html": [
              "<div>\n",
              "<style scoped>\n",
              "    .dataframe tbody tr th:only-of-type {\n",
              "        vertical-align: middle;\n",
              "    }\n",
              "\n",
              "    .dataframe tbody tr th {\n",
              "        vertical-align: top;\n",
              "    }\n",
              "\n",
              "    .dataframe thead th {\n",
              "        text-align: right;\n",
              "    }\n",
              "</style>\n",
              "<table border=\"1\" class=\"dataframe\">\n",
              "  <thead>\n",
              "    <tr style=\"text-align: right;\">\n",
              "      <th></th>\n",
              "      <th>model</th>\n",
              "      <th>reciprocal</th>\n",
              "    </tr>\n",
              "  </thead>\n",
              "  <tbody>\n",
              "    <tr>\n",
              "      <th>0</th>\n",
              "      <td>vec_model_bin</td>\n",
              "      <td>1.00</td>\n",
              "    </tr>\n",
              "    <tr>\n",
              "      <th>1</th>\n",
              "      <td>vec_model_tf</td>\n",
              "      <td>0.00</td>\n",
              "    </tr>\n",
              "    <tr>\n",
              "      <th>2</th>\n",
              "      <td>vec_model_tf_idf</td>\n",
              "      <td>0.11</td>\n",
              "    </tr>\n",
              "    <tr>\n",
              "      <th>3</th>\n",
              "      <td>bm25</td>\n",
              "      <td>0.33</td>\n",
              "    </tr>\n",
              "  </tbody>\n",
              "</table>\n",
              "</div>"
            ],
            "text/plain": [
              "              model  reciprocal\n",
              "0     vec_model_bin        1.00\n",
              "1      vec_model_tf        0.00\n",
              "2  vec_model_tf_idf        0.11\n",
              "3              bm25        0.33"
            ]
          },
          "metadata": {
            "tags": []
          }
        }
      ]
    },
    {
      "cell_type": "markdown",
      "metadata": {
        "id": "UT6AXtDZe-IO",
        "colab_type": "text"
      },
      "source": [
        "## 2. A partir do gabarito fornecido em OBS1, calcule o MAP para cada algoritmo abaixo e aponte qual obteve o melhor resultado. Para os cálculos do MAP, considere que um documento é relevante para uma dada consulta se este documento estiver entre os documentos do gabarito para essa consulta, senão ele deve ser considerado irrelevante."
      ]
    },
    {
      "cell_type": "code",
      "metadata": {
        "id": "GexXEmRffGBj",
        "colab_type": "code",
        "colab": {}
      },
      "source": [
        ""
      ],
      "execution_count": 0,
      "outputs": []
    }
  ]
}