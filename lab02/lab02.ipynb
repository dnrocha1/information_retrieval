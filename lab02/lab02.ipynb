{
 "cells": [
  {
   "cell_type": "code",
   "execution_count": null,
   "metadata": {},
   "outputs": [],
   "source": [
    "import pandas as pd\n",
    "import matplotlib.pyplot as plt\n",
    "import numpy as np\n",
    "import nltk\n",
    "from nltk.tokenize import RegexpTokenizer\n",
    "import collections"
   ]
  },
  {
   "cell_type": "code",
   "execution_count": null,
   "metadata": {},
   "outputs": [],
   "source": [
    "data = pd.read_csv('data/results.csv')"
   ]
  },
  {
   "cell_type": "code",
   "execution_count": null,
   "metadata": {},
   "outputs": [],
   "source": [
    "'''\n",
    "Total documents\n",
    "Total word occurrences\n",
    "Vocabulary size\n",
    "Words occurring > 1000 times\n",
    "Words occurring once\n",
    "'''\n",
    "\n",
    "total_documents = data.text.count()\n",
    "# texts = ''.join(data.text).split()\n",
    "texts = ''.join(data.text).lower()"
   ]
  },
  {
   "cell_type": "code",
   "execution_count": null,
   "metadata": {},
   "outputs": [],
   "source": [
    "# print(collections.Counter([x.lower() for x in ['a', 'b', 'c', 'a', 'b', 'b', 'A', 'B']]))\n",
    "# pre process text\n",
    "\n",
    "# REMOVER STOPWORDS?\n",
    "# remover palavras maior que 3?\n",
    "# remover palavras com acento?\n",
    "# removido números\n",
    "\n",
    "regex = RegexpTokenizer(r'\\b[^\\d\\W]+')\n",
    "tokens = regex.tokenize(texts)"
   ]
  },
  {
   "cell_type": "code",
   "execution_count": null,
   "metadata": {},
   "outputs": [],
   "source": [
    "# considerar números??\n",
    "# list(filter(lambda x:len(x)>3, tokens))"
   ]
  },
  {
   "cell_type": "code",
   "execution_count": null,
   "metadata": {},
   "outputs": [],
   "source": [
    "word_counter = collections.Counter(tokens)\n",
    "total_word_occurrences = sum(word_counter.values())\n",
    "vocabulary_size = len(word_counter.keys())"
   ]
  },
  {
   "cell_type": "code",
   "execution_count": null,
   "metadata": {},
   "outputs": [],
   "source": [
    "most_frequent_words = len({x: word_counter[x] for x in word_counter if word_counter[x] > 1000})\n",
    "less_frequent_words = len({x: word_counter[x] for x in word_counter if word_counter[x] == 1})"
   ]
  },
  {
   "cell_type": "code",
   "execution_count": null,
   "metadata": {},
   "outputs": [],
   "source": [
    "table1 = pd.DataFrame(data={'names':[\n",
    "                            'Total Documents', \n",
    "                            'Total word ocurrences', \n",
    "                            'Vocabulary size', \n",
    "                            'Words occurring > 1000 times', \n",
    "                            'Words occurring once'\n",
    "                            ], \n",
    "                   'values':[\n",
    "                           total_documents, \n",
    "                           total_word_occurrences, \n",
    "                           vocabulary_size, \n",
    "                           most_frequent_words, \n",
    "                           less_frequent_words\n",
    "                           ]\n",
    "                  })\n",
    "print(table1)\n",
    "# print(table1.to_string(index=False, header=False))"
   ]
  },
  {
   "cell_type": "code",
   "execution_count": null,
   "metadata": {},
   "outputs": [],
   "source": [
    "#QUESTAO 2\n",
    "'''\n",
    "word, freq, ranking, Pr(%), r.Pr\n",
    "'''\n",
    "ranking = 1\n",
    "words, frequencies, rankings, probs, rprobs = [], [], [], [], []\n",
    "for k,v in word_counter.most_common(50):\n",
    "    prob = round((v/total_word_occurrences) * 100, 2)\n",
    "    words.append(k)\n",
    "    frequencies.append(v)\n",
    "    rankings.append(ranking)\n",
    "    probs.append(prob)\n",
    "    rprobs.append(round(ranking * prob / 100, 3))\n",
    "    ranking += 1\n",
    "\n",
    "dataq2 = {'Word': words, 'Freq': frequencies, 'r': rankings, 'Pr(%)': probs, 'r.Pr': rprobs}\n",
    "pd.DataFrame(dataq2)"
   ]
  }
 ],
 "metadata": {
  "kernelspec": {
   "display_name": "Python 3",
   "language": "python",
   "name": "python3"
  },
  "language_info": {
   "codemirror_mode": {
    "name": "ipython",
    "version": 3
   },
   "file_extension": ".py",
   "mimetype": "text/x-python",
   "name": "python",
   "nbconvert_exporter": "python",
   "pygments_lexer": "ipython3",
   "version": "3.7.1"
  }
 },
 "nbformat": 4,
 "nbformat_minor": 2
}
