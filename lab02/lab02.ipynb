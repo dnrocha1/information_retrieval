{
 "cells": [
  {
   "cell_type": "code",
   "execution_count": 1,
   "metadata": {},
   "outputs": [],
   "source": [
    "import pandas as pd\n",
    "import matplotlib.pyplot as plt\n",
    "import numpy as np\n",
    "import nltk\n",
    "from nltk.tokenize import RegexpTokenizer\n",
    "import collections"
   ]
  },
  {
   "cell_type": "code",
   "execution_count": 2,
   "metadata": {},
   "outputs": [],
   "source": [
    "data = pd.read_csv('data/results.csv')"
   ]
  },
  {
   "cell_type": "code",
   "execution_count": 14,
   "metadata": {},
   "outputs": [],
   "source": [
    "'''\n",
    "Total documents\n",
    "Total word occurrences\n",
    "Vocabulary size\n",
    "Words occurring > 1000 times\n",
    "Words occurring once\n",
    "'''\n",
    "\n",
    "total_documents = data.text.count()\n",
    "# texts = ''.join(data.text).split()\n",
    "texts = ''.join(data.text).lower()"
   ]
  },
  {
   "cell_type": "code",
   "execution_count": 35,
   "metadata": {},
   "outputs": [],
   "source": [
    "# print(collections.Counter([x.lower() for x in ['a', 'b', 'c', 'a', 'b', 'b', 'A', 'B']]))\n",
    "# pre process text\n",
    "\n",
    "# REMOVER STOPWORDS?\n",
    "\n",
    "regex = RegexpTokenizer(r'\\w+')\n",
    "tokens = regex.tokenize(texts)"
   ]
  },
  {
   "cell_type": "code",
   "execution_count": 36,
   "metadata": {},
   "outputs": [],
   "source": [
    "word_counter = collections.Counter(tokens)\n",
    "total_word_occurrences = sum(word_counter.values())\n",
    "vocabulary_size = len(word_counter.keys())"
   ]
  },
  {
   "cell_type": "code",
   "execution_count": 52,
   "metadata": {},
   "outputs": [],
   "source": [
    "most_frequent_words = len({x: word_counter[x] for x in word_counter if word_counter[x] > 1000})\n",
    "less_frequent_words = len({x: word_counter[x] for x in word_counter if word_counter[x] == 1})"
   ]
  },
  {
   "cell_type": "code",
   "execution_count": 54,
   "metadata": {},
   "outputs": [
    {
     "data": {
      "text/html": [
       "<div>\n",
       "<style scoped>\n",
       "    .dataframe tbody tr th:only-of-type {\n",
       "        vertical-align: middle;\n",
       "    }\n",
       "\n",
       "    .dataframe tbody tr th {\n",
       "        vertical-align: top;\n",
       "    }\n",
       "\n",
       "    .dataframe thead th {\n",
       "        text-align: right;\n",
       "    }\n",
       "</style>\n",
       "<table border=\"1\" class=\"dataframe\">\n",
       "  <thead>\n",
       "    <tr style=\"text-align: right;\">\n",
       "      <th></th>\n",
       "      <th>names</th>\n",
       "      <th>values</th>\n",
       "    </tr>\n",
       "  </thead>\n",
       "  <tbody>\n",
       "    <tr>\n",
       "      <th>0</th>\n",
       "      <td>Total Documents</td>\n",
       "      <td>249</td>\n",
       "    </tr>\n",
       "    <tr>\n",
       "      <th>1</th>\n",
       "      <td>Total word ocurrences</td>\n",
       "      <td>216704</td>\n",
       "    </tr>\n",
       "    <tr>\n",
       "      <th>2</th>\n",
       "      <td>Vocabulary size</td>\n",
       "      <td>22995</td>\n",
       "    </tr>\n",
       "    <tr>\n",
       "      <th>3</th>\n",
       "      <td>Words occurring &gt; 1000 times</td>\n",
       "      <td>23</td>\n",
       "    </tr>\n",
       "    <tr>\n",
       "      <th>4</th>\n",
       "      <td>Words occurring once</td>\n",
       "      <td>11215</td>\n",
       "    </tr>\n",
       "  </tbody>\n",
       "</table>\n",
       "</div>"
      ],
      "text/plain": [
       "                          names  values\n",
       "0               Total Documents     249\n",
       "1         Total word ocurrences  216704\n",
       "2               Vocabulary size   22995\n",
       "3  Words occurring > 1000 times      23\n",
       "4          Words occurring once   11215"
      ]
     },
     "execution_count": 54,
     "metadata": {},
     "output_type": "execute_result"
    }
   ],
   "source": [
    "pd.DataFrame(data={'names':[\n",
    "                            'Total Documents', \n",
    "                            'Total word ocurrences', \n",
    "                            'Vocabulary size', \n",
    "                            'Words occurring > 1000 times', \n",
    "                            'Words occurring once'\n",
    "                            ], \n",
    "                   'values':[\n",
    "                           total_documents, \n",
    "                           total_word_occurrences, \n",
    "                           vocabulary_size, \n",
    "                           most_frequent_words, \n",
    "                           less_frequent_words\n",
    "                           ]\n",
    "                  })"
   ]
  }
 ],
 "metadata": {
  "kernelspec": {
   "display_name": "Python 3",
   "language": "python",
   "name": "python3"
  },
  "language_info": {
   "codemirror_mode": {
    "name": "ipython",
    "version": 3
   },
   "file_extension": ".py",
   "mimetype": "text/x-python",
   "name": "python",
   "nbconvert_exporter": "python",
   "pygments_lexer": "ipython3",
   "version": "3.7.1"
  }
 },
 "nbformat": 4,
 "nbformat_minor": 2
}
