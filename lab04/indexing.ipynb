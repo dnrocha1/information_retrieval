{
 "cells": [
  {
   "cell_type": "code",
   "execution_count": 1,
   "metadata": {},
   "outputs": [],
   "source": [
    "import pandas as pd\n",
    "from nltk.tokenize import RegexpTokenizer\n",
    "from collections import Counter\n",
    "import heapq as hp"
   ]
  },
  {
   "cell_type": "code",
   "execution_count": 2,
   "metadata": {},
   "outputs": [],
   "source": [
    "data = pd.read_csv('https://raw.githubusercontent.com/dnrocha1/information_retrieval/master/lab02/data/results.csv')"
   ]
  },
  {
   "cell_type": "code",
   "execution_count": 3,
   "metadata": {},
   "outputs": [],
   "source": [
    "#pre-process\n",
    "\n",
    "documents = data['text'].apply(lambda x: x.lower())\n",
    "\n",
    "regex = RegexpTokenizer(r'\\b[A-zÀ-ú-\\'\\d]{3,}')\n",
    "# tokens = regex.tokenize(texts)"
   ]
  },
  {
   "cell_type": "code",
   "execution_count": 4,
   "metadata": {},
   "outputs": [],
   "source": [
    "def build_index(documents=documents):\n",
    "  inverted_list = {}\n",
    "\n",
    "  n_doc = 0\n",
    "  for document in documents:\n",
    "    n_doc += 1\n",
    "    token = regex.tokenize(document)\n",
    "    counter = list(Counter(token).items())\n",
    "    for elem in counter:\n",
    "      key = elem[0]\n",
    "      freq = elem[1]\n",
    "      if key in inverted_list.keys():\n",
    "        if n_doc not in inverted_list[key][0]:\n",
    "          inverted_list[key].append((n_doc,freq))\n",
    "      else:\n",
    "        inverted_list[key] = [(n_doc,freq)]\n",
    "  \n",
    "  return inverted_list\n",
    "\n",
    "index = build_index()"
   ]
  },
  {
   "cell_type": "code",
   "execution_count": 5,
   "metadata": {},
   "outputs": [],
   "source": [
    "%%capture\n",
    "\n",
    "def get_doc_list(postings):\n",
    "  \n",
    "  def filter_n_doc(postings=postings):\n",
    "    return [[e[0] for e in elem] for elem in postings]\n",
    "  \n",
    "  docs = filter_n_doc()\n",
    "  flat_list = [item for sublist in docs for item in sublist]\n",
    "  return list(set(flat_list))\n",
    "    \n",
    "\n",
    "get_doc_list(index.values())"
   ]
  },
  {
   "cell_type": "code",
   "execution_count": 6,
   "metadata": {},
   "outputs": [
    {
     "data": {
      "text/plain": [
       "[(5, 151),\n",
       " (4, 173),\n",
       " (4, 1),\n",
       " (3, 248),\n",
       " (3, 229),\n",
       " (3, 220),\n",
       " (3, 214),\n",
       " (3, 7),\n",
       " (2, 239),\n",
       " (2, 228)]"
      ]
     },
     "execution_count": 6,
     "metadata": {},
     "output_type": "execute_result"
    }
   ],
   "source": [
    "def document_at_time(query, index, k):\n",
    "  query_words = query.split()    \n",
    "  inverted_lists = []\n",
    "  priority_queue = []\n",
    "\n",
    "  for word in query_words:\n",
    "    if word in index.keys():\n",
    "      inverted_lists.append(index[word])\n",
    "\n",
    "  docs = get_doc_list(index.values())\n",
    "  for d in docs:\n",
    "    score = 0\n",
    "    for inv in inverted_lists:\n",
    "      for posting in inv:\n",
    "        if d == posting[0]:\n",
    "          score += posting[1]\n",
    "    if score != 0:\n",
    "      priority_queue.append((score,d))\n",
    "    \n",
    "  hp._heapify_max(priority_queue)\n",
    "  \n",
    "  top_k = []\n",
    "  \n",
    "  for i in range(1,k+1):\n",
    "    if priority_queue != []:\n",
    "      top = hp._heappop_max(priority_queue)\n",
    "      top_k.append(top)\n",
    "  \n",
    "  return top_k\n",
    "\n",
    "document_at_time(\"juíza federal\", index, 10)"
   ]
  },
  {
   "cell_type": "code",
   "execution_count": 7,
   "metadata": {},
   "outputs": [
    {
     "data": {
      "text/plain": [
       "[(5, 151),\n",
       " (4, 173),\n",
       " (4, 1),\n",
       " (3, 248),\n",
       " (3, 229),\n",
       " (3, 220),\n",
       " (3, 214),\n",
       " (3, 7),\n",
       " (2, 239),\n",
       " (2, 228)]"
      ]
     },
     "execution_count": 7,
     "metadata": {},
     "output_type": "execute_result"
    }
   ],
   "source": [
    "def term_at_time(query, index, k):\n",
    "  query_words = query.split()    \n",
    "  inverted_lists = []\n",
    "  acc = {}\n",
    "\n",
    "  for word in query_words:\n",
    "    if word in index.keys():\n",
    "      inverted_lists.append(index[word])\n",
    "\n",
    "  for lst in inverted_lists:\n",
    "    for posting in lst:\n",
    "      d = posting[0]\n",
    "      freq = posting[1]\n",
    "      if d in acc.keys():\n",
    "        acc[d] = acc[d] + freq\n",
    "      else:\n",
    "        acc[d] = freq\n",
    "  \n",
    "  priority_queue = list(map(lambda elem: (elem[1],elem[0]), acc.items()))\n",
    "  \n",
    "  hp._heapify_max(priority_queue)\n",
    "  \n",
    "  top_k = []\n",
    "  \n",
    "  for i in range(1,k+1):\n",
    "    if priority_queue != []:\n",
    "      top = hp._heappop_max(priority_queue)\n",
    "      top_k.append(top)\n",
    "  \n",
    "  return top_k\n",
    "\n",
    "term_at_time(\"juíza federal\", index, 10)  "
   ]
  },
  {
   "cell_type": "code",
   "execution_count": 8,
   "metadata": {},
   "outputs": [],
   "source": [
    "queries = [\"educação\",\"polícia\",\"cortes\",\"presidente\",\"segurança\"]"
   ]
  },
  {
   "cell_type": "code",
   "execution_count": 9,
   "metadata": {},
   "outputs": [
    {
     "data": {
      "text/html": [
       "<div>\n",
       "<style scoped>\n",
       "    .dataframe tbody tr th:only-of-type {\n",
       "        vertical-align: middle;\n",
       "    }\n",
       "\n",
       "    .dataframe tbody tr th {\n",
       "        vertical-align: top;\n",
       "    }\n",
       "\n",
       "    .dataframe thead th {\n",
       "        text-align: right;\n",
       "    }\n",
       "</style>\n",
       "<table border=\"1\" class=\"dataframe\">\n",
       "  <thead>\n",
       "    <tr style=\"text-align: right;\">\n",
       "      <th></th>\n",
       "      <th>query</th>\n",
       "      <th>document_at_time</th>\n",
       "      <th>term_at_time</th>\n",
       "      <th>compare</th>\n",
       "    </tr>\n",
       "  </thead>\n",
       "  <tbody>\n",
       "    <tr>\n",
       "      <th>0</th>\n",
       "      <td>educação</td>\n",
       "      <td>[(22, 221), (11, 222), (7, 130), (6, 239), (5, 160), (5, 37), (4, 215), (4, 110), (3, 233), (3, 205)]</td>\n",
       "      <td>[(22, 221), (11, 222), (7, 130), (6, 239), (5, 160), (5, 37), (4, 215), (4, 110), (3, 233), (3, 205)]</td>\n",
       "      <td>True</td>\n",
       "    </tr>\n",
       "    <tr>\n",
       "      <th>1</th>\n",
       "      <td>polícia</td>\n",
       "      <td>[(8, 151), (4, 214), (4, 93), (3, 241), (3, 150), (3, 65), (2, 249), (2, 230), (2, 207), (2, 181)]</td>\n",
       "      <td>[(8, 151), (4, 214), (4, 93), (3, 241), (3, 150), (3, 65), (2, 249), (2, 230), (2, 207), (2, 181)]</td>\n",
       "      <td>True</td>\n",
       "    </tr>\n",
       "    <tr>\n",
       "      <th>2</th>\n",
       "      <td>cortes</td>\n",
       "      <td>[(2, 136), (1, 217), (1, 203), (1, 138), (1, 98), (1, 94), (1, 37), (1, 20)]</td>\n",
       "      <td>[(2, 136), (1, 217), (1, 203), (1, 138), (1, 98), (1, 94), (1, 37), (1, 20)]</td>\n",
       "      <td>True</td>\n",
       "    </tr>\n",
       "    <tr>\n",
       "      <th>3</th>\n",
       "      <td>presidente</td>\n",
       "      <td>[(16, 166), (15, 63), (12, 151), (11, 216), (11, 19), (9, 205), (9, 86), (8, 25), (7, 174), (6, 235)]</td>\n",
       "      <td>[(16, 166), (15, 63), (12, 151), (11, 216), (11, 19), (9, 205), (9, 86), (8, 25), (7, 174), (6, 235)]</td>\n",
       "      <td>True</td>\n",
       "    </tr>\n",
       "    <tr>\n",
       "      <th>4</th>\n",
       "      <td>segurança</td>\n",
       "      <td>[(6, 239), (6, 65), (3, 151), (3, 134), (3, 12), (2, 247), (2, 179), (2, 153), (2, 150), (2, 143)]</td>\n",
       "      <td>[(6, 239), (6, 65), (3, 151), (3, 134), (3, 12), (2, 247), (2, 179), (2, 153), (2, 150), (2, 143)]</td>\n",
       "      <td>True</td>\n",
       "    </tr>\n",
       "  </tbody>\n",
       "</table>\n",
       "</div>"
      ],
      "text/plain": [
       "        query  \\\n",
       "0    educação   \n",
       "1     polícia   \n",
       "2      cortes   \n",
       "3  presidente   \n",
       "4   segurança   \n",
       "\n",
       "                                                                                        document_at_time  \\\n",
       "0  [(22, 221), (11, 222), (7, 130), (6, 239), (5, 160), (5, 37), (4, 215), (4, 110), (3, 233), (3, 205)]   \n",
       "1     [(8, 151), (4, 214), (4, 93), (3, 241), (3, 150), (3, 65), (2, 249), (2, 230), (2, 207), (2, 181)]   \n",
       "2                           [(2, 136), (1, 217), (1, 203), (1, 138), (1, 98), (1, 94), (1, 37), (1, 20)]   \n",
       "3  [(16, 166), (15, 63), (12, 151), (11, 216), (11, 19), (9, 205), (9, 86), (8, 25), (7, 174), (6, 235)]   \n",
       "4     [(6, 239), (6, 65), (3, 151), (3, 134), (3, 12), (2, 247), (2, 179), (2, 153), (2, 150), (2, 143)]   \n",
       "\n",
       "                                                                                            term_at_time  \\\n",
       "0  [(22, 221), (11, 222), (7, 130), (6, 239), (5, 160), (5, 37), (4, 215), (4, 110), (3, 233), (3, 205)]   \n",
       "1     [(8, 151), (4, 214), (4, 93), (3, 241), (3, 150), (3, 65), (2, 249), (2, 230), (2, 207), (2, 181)]   \n",
       "2                           [(2, 136), (1, 217), (1, 203), (1, 138), (1, 98), (1, 94), (1, 37), (1, 20)]   \n",
       "3  [(16, 166), (15, 63), (12, 151), (11, 216), (11, 19), (9, 205), (9, 86), (8, 25), (7, 174), (6, 235)]   \n",
       "4     [(6, 239), (6, 65), (3, 151), (3, 134), (3, 12), (2, 247), (2, 179), (2, 153), (2, 150), (2, 143)]   \n",
       "\n",
       "   compare  \n",
       "0     True  \n",
       "1     True  \n",
       "2     True  \n",
       "3     True  \n",
       "4     True  "
      ]
     },
     "execution_count": 9,
     "metadata": {},
     "output_type": "execute_result"
    }
   ],
   "source": [
    "pd.options.display.max_colwidth = 120\n",
    "\n",
    "results_document = []\n",
    "results_term = []\n",
    "k = 10\n",
    "\n",
    "for query in queries:\n",
    "  d = document_at_time(query, index, k)\n",
    "  results_document.append(d)\n",
    "  \n",
    "  t = term_at_time(query, index, k)\n",
    "  results_term.append(t)\n",
    "\n",
    "df = pd.DataFrame()\n",
    "\n",
    "df['query'] = queries\n",
    "df['document_at_time'] = results_document\n",
    "df['term_at_time'] = results_term\n",
    "df['compare'] = df.document_at_time == df.term_at_time\n",
    "\n",
    "df"
   ]
  }
 ],
 "metadata": {
  "kernelspec": {
   "display_name": "Python 3",
   "language": "python",
   "name": "python3"
  },
  "language_info": {
   "codemirror_mode": {
    "name": "ipython",
    "version": 3
   },
   "file_extension": ".py",
   "mimetype": "text/x-python",
   "name": "python",
   "nbconvert_exporter": "python",
   "pygments_lexer": "ipython3",
   "version": "3.7.1"
  }
 },
 "nbformat": 4,
 "nbformat_minor": 2
}
