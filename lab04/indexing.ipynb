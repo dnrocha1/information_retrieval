{
 "cells": [
  {
   "cell_type": "code",
   "execution_count": null,
   "metadata": {},
   "outputs": [],
   "source": [
    "import pandas as pd\n",
    "from nltk.tokenize import RegexpTokenizer\n",
    "from collections import Counter"
   ]
  },
  {
   "cell_type": "code",
   "execution_count": null,
   "metadata": {},
   "outputs": [],
   "source": [
    "data = pd.read_csv('https://raw.githubusercontent.com/dnrocha1/information_retrieval/master/lab02/data/results.csv')"
   ]
  },
  {
   "cell_type": "code",
   "execution_count": null,
   "metadata": {},
   "outputs": [],
   "source": [
    "#pre-process\n",
    "\n",
    "documents = data['text'].apply(lambda x: x.lower())\n",
    "\n",
    "regex = RegexpTokenizer(r'\\b[A-zÀ-ú-\\'\\d]{3,}')\n",
    "# tokens = regex.tokenize(texts)"
   ]
  },
  {
   "cell_type": "code",
   "execution_count": null,
   "metadata": {},
   "outputs": [],
   "source": [
    "def build_index(documents=documents):\n",
    "  inverted_list = {}\n",
    "\n",
    "  n_doc = 0\n",
    "  for document in documents:\n",
    "    n_doc += 1\n",
    "    token = regex.tokenize(document)\n",
    "    counter = list(Counter(token).items())\n",
    "    for elem in counter:\n",
    "      key = elem[0]\n",
    "      freq = elem[1]\n",
    "      if key in inverted_list.keys():\n",
    "        if n_doc not in inverted_list[key][0]:\n",
    "          inverted_list[key].append((n_doc,freq))\n",
    "      else:\n",
    "        inverted_list[key] = [(n_doc,freq)]\n",
    "  \n",
    "  return inverted_list\n",
    "\n",
    "build_index()"
   ]
  }
 ],
 "metadata": {
  "kernelspec": {
   "display_name": "Python 3",
   "language": "python",
   "name": "python3"
  },
  "language_info": {
   "codemirror_mode": {
    "name": "ipython",
    "version": 3
   },
   "file_extension": ".py",
   "mimetype": "text/x-python",
   "name": "python",
   "nbconvert_exporter": "python",
   "pygments_lexer": "ipython3",
   "version": "3.7.1"
  }
 },
 "nbformat": 4,
 "nbformat_minor": 2
}
