{
 "cells": [
  {
   "cell_type": "code",
   "execution_count": 1,
   "metadata": {},
   "outputs": [],
   "source": [
    "import pandas as pd\n",
    "from nltk.tokenize import RegexpTokenizer\n",
    "from collections import Counter\n",
    "import heapq as hp\n",
    "import time"
   ]
  },
  {
   "cell_type": "code",
   "execution_count": 2,
   "metadata": {},
   "outputs": [],
   "source": [
    "data = pd.read_csv('https://raw.githubusercontent.com/dnrocha1/information_retrieval/master/lab02/data/results.csv')"
   ]
  },
  {
   "cell_type": "markdown",
   "metadata": {},
   "source": [
    "# Pré-processamento dos dados"
   ]
  },
  {
   "cell_type": "markdown",
   "metadata": {},
   "source": [
    "Os dados serão tratados da mesma forma que os exercícios anteriores: os conteúdos dos documentos tiveram as letras transformadas para minúsculas, contendo caractéres alfanuméricos. Novamente, os tokens criados consideram apenas palavras com tamanho maior ou igual a três e inclui termos que possuam hífen e apóstrofo."
   ]
  },
  {
   "cell_type": "code",
   "execution_count": 3,
   "metadata": {},
   "outputs": [],
   "source": [
    "documents = data['text'].apply(lambda x: x.lower())\n",
    "\n",
    "regex = RegexpTokenizer(r'\\b[A-zÀ-ú-\\'\\d]{3,}')\n",
    "# tokens = regex.tokenize(texts)"
   ]
  },
  {
   "cell_type": "markdown",
   "metadata": {},
   "source": [
    "# Questão 1\n",
    "\n",
    "### Execute o algoritmo ilustrado na Fig. 5.8 do livro texto (pag. 157) para gerar um índice similar o mostrado na Fig. 5.4 (pag. 134). Guarde o índice em disco em formato csv."
   ]
  },
  {
   "cell_type": "markdown",
   "metadata": {},
   "source": [
    "O índice gerado utiliza um dicionário para guardar as informações necessárias. A chave será composta pelos tokens produzidos, enquanto o respectivo valor será uma lista de tuplas. Cada tupla é definida pelo id do documento e pela frequência da palavra dentro desse documento."
   ]
  },
  {
   "cell_type": "code",
   "execution_count": 4,
   "metadata": {},
   "outputs": [],
   "source": [
    "doc_list = []\n",
    "\n",
    "def build_index(documents=documents):\n",
    "  inverted_list = {}\n",
    "\n",
    "  n_doc = 0\n",
    "  for document in documents:\n",
    "    n_doc += 1\n",
    "    doc_list.append(n_doc)\n",
    "    token = regex.tokenize(document)\n",
    "    counter = list(Counter(token).items())\n",
    "    for elem in counter:\n",
    "      key = elem[0]\n",
    "      freq = elem[1]\n",
    "      if key in inverted_list.keys():\n",
    "        if n_doc not in inverted_list[key][0]:\n",
    "          inverted_list[key].append((n_doc,freq))\n",
    "      else:\n",
    "        inverted_list[key] = [(n_doc,freq)]\n",
    "  \n",
    "  return inverted_list\n",
    "\n",
    "index = build_index()"
   ]
  },
  {
   "cell_type": "markdown",
   "metadata": {},
   "source": [
    "O trecho abaixo corresponde ao código necessário para guardar o índice construído no disco, no formato `.csv`."
   ]
  },
  {
   "cell_type": "code",
   "execution_count": 5,
   "metadata": {},
   "outputs": [],
   "source": [
    "# Guarde o índice em disco em formato csv\n",
    "\n",
    "csv = pd.DataFrame()\n",
    "csv['tokens'] = list(index.keys())\n",
    "csv['postings'] = list(index.values())\n",
    "\n",
    "csv.to_csv('index.csv', index=False)"
   ]
  },
  {
   "cell_type": "markdown",
   "metadata": {},
   "source": [
    "# Questão 2\n",
    "### Implemente as abordagens de processamento de consulta documento-por-vez e termo-por-vez (Fig. 5.16 e 5.18)."
   ]
  },
  {
   "cell_type": "markdown",
   "metadata": {},
   "source": [
    "Abaixo estão as implementações das duas abordagens vistas no livro. A função `get_doc_list` é utilizada dentro da implementação do processamento `document_at_time`. Isso é necessário para recuperar todos os documentos existentes em `index`, que é passado como parâmetro. "
   ]
  },
  {
   "cell_type": "code",
   "execution_count": 6,
   "metadata": {},
   "outputs": [],
   "source": [
    "%%capture\n",
    "\n",
    "def get_doc_list(postings):\n",
    "  \n",
    "  def filter_n_doc(postings=postings):\n",
    "    return [[e[0] for e in elem] for elem in postings]\n",
    "  \n",
    "  docs = filter_n_doc()\n",
    "  flat_list = [item for sublist in docs for item in sublist]\n",
    "  return list(set(flat_list))\n",
    "    \n",
    "\n",
    "get_doc_list(index.values())"
   ]
  },
  {
   "cell_type": "markdown",
   "metadata": {},
   "source": [
    "Implementação do processamento documento-por-vez. A variável `priority_queue` utiliza uma lista que é transformada em fila de prioridade, de forma similar ao pseudocódigo desse algoritmo."
   ]
  },
  {
   "cell_type": "code",
   "execution_count": 7,
   "metadata": {},
   "outputs": [],
   "source": [
    "def document_at_time(query, index, k):\n",
    "  query_words = query.split()    \n",
    "  inverted_lists = []\n",
    "  priority_queue = []\n",
    "\n",
    "  for word in query_words:\n",
    "    if word in index.keys():\n",
    "      inverted_lists.append(index[word])\n",
    "\n",
    "  doc_list = get_doc_list(index.values())\n",
    "  for d in doc_list:\n",
    "    score = 0\n",
    "    for inv in inverted_lists:\n",
    "      for posting in inv:\n",
    "        if d == posting[0]:\n",
    "          score += posting[1]\n",
    "    if score != 0:\n",
    "      priority_queue.append((score,d))\n",
    "    \n",
    "  hp._heapify_max(priority_queue)\n",
    "  \n",
    "  top_k = []\n",
    "  \n",
    "  for i in range(1,k+1):\n",
    "    if priority_queue != []:\n",
    "      top = hp._heappop_max(priority_queue)\n",
    "      top_k.append(top)\n",
    "  \n",
    "  return top_k\n",
    "\n",
    "# document_at_time(\"juíza federal\", index, 10)"
   ]
  },
  {
   "cell_type": "markdown",
   "metadata": {},
   "source": [
    "Implementação do processamento termo-por-vez. A fila de prioridade é utilizada de forma similar ao algoritmo anterior. Aqui é definido um dicionário `acc`, que serve para registrar os acumuladores dos documentos. Nesse caso, a chave será o id do documento, enquanto o valor será o score deste documento."
   ]
  },
  {
   "cell_type": "code",
   "execution_count": 8,
   "metadata": {},
   "outputs": [],
   "source": [
    "def term_at_time(query, index, k):\n",
    "  query_words = query.split()    \n",
    "  inverted_lists = []\n",
    "  acc = {}\n",
    "\n",
    "  for word in query_words:\n",
    "    if word in index.keys():\n",
    "      inverted_lists.append(index[word])\n",
    "\n",
    "  for lst in inverted_lists:\n",
    "    for posting in lst:\n",
    "      d = posting[0]\n",
    "      freq = posting[1]\n",
    "      if d in acc.keys():\n",
    "        acc[d] = acc[d] + freq\n",
    "      else:\n",
    "        acc[d] = freq\n",
    "  \n",
    "  priority_queue = list(map(lambda elem: (elem[1],elem[0]), acc.items()))\n",
    "  \n",
    "  hp._heapify_max(priority_queue)\n",
    "  \n",
    "  top_k = []\n",
    "  \n",
    "  for i in range(1,k+1):\n",
    "    if priority_queue != []:\n",
    "      top = hp._heappop_max(priority_queue)\n",
    "      top_k.append(top)\n",
    "  \n",
    "  return top_k\n",
    "\n",
    "# term_at_time(\"juíza federal\", index, 10)"
   ]
  },
  {
   "cell_type": "markdown",
   "metadata": {},
   "source": [
    "### Defina 5 consultas de um termo somente."
   ]
  },
  {
   "cell_type": "markdown",
   "metadata": {},
   "source": [
    "As cinco consultas definidas são atribuídas à variável `queries`."
   ]
  },
  {
   "cell_type": "code",
   "execution_count": 9,
   "metadata": {},
   "outputs": [],
   "source": [
    "queries = [\"educação\",\"polícia\",\"cortes\",\"presidente\",\"segurança\"]"
   ]
  },
  {
   "cell_type": "markdown",
   "metadata": {},
   "source": [
    "### Execute as 5 consultas em cada algoritmo retornando os top-10 documentos (parâmetro k do algoritmo)."
   ]
  },
  {
   "cell_type": "markdown",
   "metadata": {},
   "source": [
    "A execuçao de cada uma das implementações foi feita e o k definido como sendo igual a 10. Os resultados das consultas foram guardados em listas, para depois serem comparados. De modo similar, os tempos de processamento das consultas também foram salvos."
   ]
  },
  {
   "cell_type": "markdown",
   "metadata": {},
   "source": [
    "### Dê evidências de que sua implementação está correta e compare os tempos médios de execução e uso de memória de cada algoritmo."
   ]
  },
  {
   "cell_type": "code",
   "execution_count": 10,
   "metadata": {},
   "outputs": [],
   "source": [
    "results_document = []\n",
    "results_term = []\n",
    "k = 10\n",
    "\n",
    "doc_times = []\n",
    "term_times = []\n",
    "\n",
    "for query in queries:\n",
    "  start = time.time()\n",
    "  d = document_at_time(query, index, k)\n",
    "  end = time.time()\n",
    "  \n",
    "  results_document.append(d)  \n",
    "  doc_times.append(end - start)\n",
    "  \n",
    "  start = time.time()\n",
    "  t = term_at_time(query, index, k)\n",
    "  end = time.time()\n",
    "  \n",
    "  results_term.append(t)\n",
    "  term_times.append(end - start)"
   ]
  },
  {
   "cell_type": "markdown",
   "metadata": {},
   "source": [
    "### Dê evidências de que sua implementação está correta e compare os tempos médios de execução e uso de memória de cada algoritmo."
   ]
  },
  {
   "cell_type": "markdown",
   "metadata": {},
   "source": [
    "A corretude das implementações corresponde a comparação dos resultados de cada uma. Isso corresponde à coluna `compare` da tabela abaixo. Como podemos observar, todos os resultados dessa variável são equivalentes. "
   ]
  },
  {
   "cell_type": "code",
   "execution_count": 11,
   "metadata": {},
   "outputs": [
    {
     "data": {
      "text/html": [
       "<div>\n",
       "<style scoped>\n",
       "    .dataframe tbody tr th:only-of-type {\n",
       "        vertical-align: middle;\n",
       "    }\n",
       "\n",
       "    .dataframe tbody tr th {\n",
       "        vertical-align: top;\n",
       "    }\n",
       "\n",
       "    .dataframe thead th {\n",
       "        text-align: right;\n",
       "    }\n",
       "</style>\n",
       "<table border=\"1\" class=\"dataframe\">\n",
       "  <thead>\n",
       "    <tr style=\"text-align: right;\">\n",
       "      <th></th>\n",
       "      <th>query</th>\n",
       "      <th>document_at_time</th>\n",
       "      <th>term_at_time</th>\n",
       "      <th>compare</th>\n",
       "      <th>time_DAAT</th>\n",
       "      <th>time_TAAT</th>\n",
       "    </tr>\n",
       "  </thead>\n",
       "  <tbody>\n",
       "    <tr>\n",
       "      <th>0</th>\n",
       "      <td>educação</td>\n",
       "      <td>[(22, 221), (11, 222), (7, 130), (6, 239), (5, 160), (5, 37), (4, 215), (4, 110), (3, 233), (3, 205)]</td>\n",
       "      <td>[(22, 221), (11, 222), (7, 130), (6, 239), (5, 160), (5, 37), (4, 215), (4, 110), (3, 233), (3, 205)]</td>\n",
       "      <td>True</td>\n",
       "      <td>0.018773</td>\n",
       "      <td>0.000026</td>\n",
       "    </tr>\n",
       "    <tr>\n",
       "      <th>1</th>\n",
       "      <td>polícia</td>\n",
       "      <td>[(8, 151), (4, 214), (4, 93), (3, 241), (3, 150), (3, 65), (2, 249), (2, 230), (2, 207), (2, 181)]</td>\n",
       "      <td>[(8, 151), (4, 214), (4, 93), (3, 241), (3, 150), (3, 65), (2, 249), (2, 230), (2, 207), (2, 181)]</td>\n",
       "      <td>True</td>\n",
       "      <td>0.052742</td>\n",
       "      <td>0.000021</td>\n",
       "    </tr>\n",
       "    <tr>\n",
       "      <th>2</th>\n",
       "      <td>cortes</td>\n",
       "      <td>[(2, 136), (1, 217), (1, 203), (1, 138), (1, 98), (1, 94), (1, 37), (1, 20)]</td>\n",
       "      <td>[(2, 136), (1, 217), (1, 203), (1, 138), (1, 98), (1, 94), (1, 37), (1, 20)]</td>\n",
       "      <td>True</td>\n",
       "      <td>0.017621</td>\n",
       "      <td>0.000015</td>\n",
       "    </tr>\n",
       "    <tr>\n",
       "      <th>3</th>\n",
       "      <td>presidente</td>\n",
       "      <td>[(16, 166), (15, 63), (12, 151), (11, 216), (11, 19), (9, 205), (9, 86), (8, 25), (7, 174), (6, 235)]</td>\n",
       "      <td>[(16, 166), (15, 63), (12, 151), (11, 216), (11, 19), (9, 205), (9, 86), (8, 25), (7, 174), (6, 235)]</td>\n",
       "      <td>True</td>\n",
       "      <td>0.019398</td>\n",
       "      <td>0.000047</td>\n",
       "    </tr>\n",
       "    <tr>\n",
       "      <th>4</th>\n",
       "      <td>segurança</td>\n",
       "      <td>[(6, 239), (6, 65), (3, 151), (3, 134), (3, 12), (2, 247), (2, 179), (2, 153), (2, 150), (2, 143)]</td>\n",
       "      <td>[(6, 239), (6, 65), (3, 151), (3, 134), (3, 12), (2, 247), (2, 179), (2, 153), (2, 150), (2, 143)]</td>\n",
       "      <td>True</td>\n",
       "      <td>0.017339</td>\n",
       "      <td>0.000043</td>\n",
       "    </tr>\n",
       "  </tbody>\n",
       "</table>\n",
       "</div>"
      ],
      "text/plain": [
       "        query  \\\n",
       "0    educação   \n",
       "1     polícia   \n",
       "2      cortes   \n",
       "3  presidente   \n",
       "4   segurança   \n",
       "\n",
       "                                                                                        document_at_time  \\\n",
       "0  [(22, 221), (11, 222), (7, 130), (6, 239), (5, 160), (5, 37), (4, 215), (4, 110), (3, 233), (3, 205)]   \n",
       "1     [(8, 151), (4, 214), (4, 93), (3, 241), (3, 150), (3, 65), (2, 249), (2, 230), (2, 207), (2, 181)]   \n",
       "2                           [(2, 136), (1, 217), (1, 203), (1, 138), (1, 98), (1, 94), (1, 37), (1, 20)]   \n",
       "3  [(16, 166), (15, 63), (12, 151), (11, 216), (11, 19), (9, 205), (9, 86), (8, 25), (7, 174), (6, 235)]   \n",
       "4     [(6, 239), (6, 65), (3, 151), (3, 134), (3, 12), (2, 247), (2, 179), (2, 153), (2, 150), (2, 143)]   \n",
       "\n",
       "                                                                                            term_at_time  \\\n",
       "0  [(22, 221), (11, 222), (7, 130), (6, 239), (5, 160), (5, 37), (4, 215), (4, 110), (3, 233), (3, 205)]   \n",
       "1     [(8, 151), (4, 214), (4, 93), (3, 241), (3, 150), (3, 65), (2, 249), (2, 230), (2, 207), (2, 181)]   \n",
       "2                           [(2, 136), (1, 217), (1, 203), (1, 138), (1, 98), (1, 94), (1, 37), (1, 20)]   \n",
       "3  [(16, 166), (15, 63), (12, 151), (11, 216), (11, 19), (9, 205), (9, 86), (8, 25), (7, 174), (6, 235)]   \n",
       "4     [(6, 239), (6, 65), (3, 151), (3, 134), (3, 12), (2, 247), (2, 179), (2, 153), (2, 150), (2, 143)]   \n",
       "\n",
       "   compare  time_DAAT  time_TAAT  \n",
       "0     True   0.018773   0.000026  \n",
       "1     True   0.052742   0.000021  \n",
       "2     True   0.017621   0.000015  \n",
       "3     True   0.019398   0.000047  \n",
       "4     True   0.017339   0.000043  "
      ]
     },
     "execution_count": 11,
     "metadata": {},
     "output_type": "execute_result"
    }
   ],
   "source": [
    "pd.options.display.max_colwidth = 120\n",
    "\n",
    "df = pd.DataFrame()\n",
    "\n",
    "df['query'] = queries\n",
    "df['document_at_time'] = results_document\n",
    "df['term_at_time'] = results_term\n",
    "df['compare'] = df.document_at_time == df.term_at_time\n",
    "df['time_DAAT'] = doc_times\n",
    "df['time_TAAT'] = term_times\n",
    "\n",
    "df"
   ]
  },
  {
   "cell_type": "code",
   "execution_count": 12,
   "metadata": {},
   "outputs": [
    {
     "name": "stdout",
     "output_type": "stream",
     "text": [
      "O tempo médio do documento-por-vez foi 0.0251746655, enquanto o termo-por-vez foi de 0.0000304699\n"
     ]
    }
   ],
   "source": [
    "print(\"O tempo médio do documento-por-vez foi {:.10f}, enquanto o termo-por-vez foi de {:.10f}\".format(sum(doc_times)/len(queries), sum(term_times)/len(queries)))"
   ]
  },
  {
   "cell_type": "markdown",
   "metadata": {},
   "source": [
    "Em relação aos tempos de execução, verifica-se que o tempo médio do documento-por-vez é muito maior do que do termo-por-vez. Isso pode acontecer por conta dele precisar recuperar todos documentos do índice, o que acaba sendo muito custoso."
   ]
  },
  {
   "cell_type": "markdown",
   "metadata": {},
   "source": [
    "# Questão 3\n",
    "### Implemente uma das versões de consulta conjuntiva (AND) (Fig. 5.20 ou 5.21)."
   ]
  },
  {
   "cell_type": "markdown",
   "metadata": {},
   "source": [
    "A implementação feita foi a do documento-por-vez em sua versão conjuntiva. Nele, foram combinados todos os termos das listas invertidas que recuperados anteriormente. Feito isso, o objetivo é garantir que o documento `d` aparece em todos as listas invertidas, para que todos os termos da consulta estejam presentes em um determinado documento."
   ]
  },
  {
   "cell_type": "code",
   "execution_count": 13,
   "metadata": {},
   "outputs": [],
   "source": [
    "def document_at_time_conj(query, index, k):\n",
    "\n",
    "  query_words = query.split()    \n",
    "  inverted_lists = []\n",
    "  priority_queue = []\n",
    "\n",
    "  for word in query_words:\n",
    "    if word in index.keys():\n",
    "      inverted_lists.append(index[word])\n",
    "\n",
    "  merged = [item for sublist in inverted_lists for item in sublist]\n",
    "  merged.sort()\n",
    "\n",
    "  for i in range(len(merged)):\n",
    "    score = 0\n",
    "    d = merged.pop()\n",
    "    count = 1\n",
    "    for posting in merged:\n",
    "      if posting[0] == d[0]:\n",
    "        score = score + posting[1]\n",
    "        count += 1\n",
    "      if score != 0 and count == len(inverted_lists):\n",
    "        score += d[1]\n",
    "        priority_queue.append((score,d[0]))\n",
    "\n",
    "  hp._heapify_max(priority_queue)\n",
    "\n",
    "  top_k = []\n",
    "\n",
    "  for i in range(1,k+1):\n",
    "    if priority_queue != []:\n",
    "      top = hp._heappop_max(priority_queue)\n",
    "      top_k.append(top)\n",
    "\n",
    "  return top_k\n",
    "\n",
    "# document_at_time_conj(\"segurança federal\",index,10)"
   ]
  },
  {
   "cell_type": "markdown",
   "metadata": {},
   "source": [
    "### Defina 5 consultas conjuntivas (AND)."
   ]
  },
  {
   "cell_type": "code",
   "execution_count": 14,
   "metadata": {},
   "outputs": [],
   "source": [
    "queries_conj = [\"governo federal\", \"jair bolsonaro\", \"forças armadas\", \"ditadura militar\", \"golpe estado\", \"juíza federal\"]"
   ]
  },
  {
   "cell_type": "markdown",
   "metadata": {},
   "source": [
    "### Execute as 5 consultas em cada algoritmo retornando os top-10 documentos (parâmetro k do algoritmo)."
   ]
  },
  {
   "cell_type": "code",
   "execution_count": 15,
   "metadata": {},
   "outputs": [],
   "source": [
    "results = []\n",
    "k = 10\n",
    "\n",
    "for query in queries_conj:\n",
    "  d = document_at_time_conj(query, index, k)\n",
    "  results.append(d)"
   ]
  },
  {
   "cell_type": "code",
   "execution_count": 16,
   "metadata": {},
   "outputs": [
    {
     "data": {
      "text/html": [
       "<div>\n",
       "<style scoped>\n",
       "    .dataframe tbody tr th:only-of-type {\n",
       "        vertical-align: middle;\n",
       "    }\n",
       "\n",
       "    .dataframe tbody tr th {\n",
       "        vertical-align: top;\n",
       "    }\n",
       "\n",
       "    .dataframe thead th {\n",
       "        text-align: right;\n",
       "    }\n",
       "</style>\n",
       "<table border=\"1\" class=\"dataframe\">\n",
       "  <thead>\n",
       "    <tr style=\"text-align: right;\">\n",
       "      <th></th>\n",
       "      <th>query</th>\n",
       "      <th>results</th>\n",
       "    </tr>\n",
       "  </thead>\n",
       "  <tbody>\n",
       "    <tr>\n",
       "      <th>0</th>\n",
       "      <td>governo federal</td>\n",
       "      <td>[(19, 173), (14, 166), (13, 248), (12, 115), (11, 229), (10, 225), (10, 138), (9, 205), (9, 37), (8, 208)]</td>\n",
       "    </tr>\n",
       "    <tr>\n",
       "      <th>1</th>\n",
       "      <td>jair bolsonaro</td>\n",
       "      <td>[(52, 151), (48, 207), (39, 166), (12, 216), (6, 238), (6, 237), (5, 25), (4, 222), (3, 231), (3, 220)]</td>\n",
       "    </tr>\n",
       "    <tr>\n",
       "      <th>2</th>\n",
       "      <td>forças armadas</td>\n",
       "      <td>[(15, 150), (9, 25), (8, 208), (8, 166), (6, 151), (6, 6), (6, 1), (5, 249), (5, 65), (4, 115)]</td>\n",
       "    </tr>\n",
       "    <tr>\n",
       "      <th>3</th>\n",
       "      <td>ditadura militar</td>\n",
       "      <td>[(25, 7), (18, 115), (16, 238), (15, 223), (15, 216), (13, 25), (12, 208), (12, 165), (12, 95), (11, 172)]</td>\n",
       "    </tr>\n",
       "    <tr>\n",
       "      <th>4</th>\n",
       "      <td>golpe estado</td>\n",
       "      <td>[(14, 25), (8, 166), (8, 3), (7, 165), (6, 208), (6, 151), (6, 1), (5, 233), (4, 114), (4, 98)]</td>\n",
       "    </tr>\n",
       "    <tr>\n",
       "      <th>5</th>\n",
       "      <td>juíza federal</td>\n",
       "      <td>[(4, 1)]</td>\n",
       "    </tr>\n",
       "  </tbody>\n",
       "</table>\n",
       "</div>"
      ],
      "text/plain": [
       "              query  \\\n",
       "0   governo federal   \n",
       "1    jair bolsonaro   \n",
       "2    forças armadas   \n",
       "3  ditadura militar   \n",
       "4      golpe estado   \n",
       "5     juíza federal   \n",
       "\n",
       "                                                                                                      results  \n",
       "0  [(19, 173), (14, 166), (13, 248), (12, 115), (11, 229), (10, 225), (10, 138), (9, 205), (9, 37), (8, 208)]  \n",
       "1     [(52, 151), (48, 207), (39, 166), (12, 216), (6, 238), (6, 237), (5, 25), (4, 222), (3, 231), (3, 220)]  \n",
       "2             [(15, 150), (9, 25), (8, 208), (8, 166), (6, 151), (6, 6), (6, 1), (5, 249), (5, 65), (4, 115)]  \n",
       "3  [(25, 7), (18, 115), (16, 238), (15, 223), (15, 216), (13, 25), (12, 208), (12, 165), (12, 95), (11, 172)]  \n",
       "4             [(14, 25), (8, 166), (8, 3), (7, 165), (6, 208), (6, 151), (6, 1), (5, 233), (4, 114), (4, 98)]  \n",
       "5                                                                                                    [(4, 1)]  "
      ]
     },
     "execution_count": 16,
     "metadata": {},
     "output_type": "execute_result"
    }
   ],
   "source": [
    "pd.options.display.max_colwidth = 120\n",
    "\n",
    "df = pd.DataFrame()\n",
    "\n",
    "df['query'] = queries_conj\n",
    "df['results'] = results\n",
    "\n",
    "df"
   ]
  },
  {
   "cell_type": "markdown",
   "metadata": {},
   "source": [
    "### Dê evidências de que sua implementação está correta."
   ]
  },
  {
   "cell_type": "markdown",
   "metadata": {},
   "source": [
    "Isso pode ser feito por meio de uma consulta com mais termos e observando o índice invertido de cada um dos termos da consulta."
   ]
  },
  {
   "cell_type": "code",
   "execution_count": 17,
   "metadata": {},
   "outputs": [
    {
     "data": {
      "text/plain": [
       "[(14, 6)]"
      ]
     },
     "execution_count": 17,
     "metadata": {},
     "output_type": "execute_result"
    }
   ],
   "source": [
    "query = \"aniversário das forças armadas\"\n",
    "terms = query.split()\n",
    "\n",
    "postings = [index[term] for term in terms]\n",
    "\n",
    "document_at_time_conj(query, index, 10)"
   ]
  },
  {
   "cell_type": "code",
   "execution_count": 18,
   "metadata": {},
   "outputs": [
    {
     "data": {
      "text/html": [
       "<div>\n",
       "<style scoped>\n",
       "    .dataframe tbody tr th:only-of-type {\n",
       "        vertical-align: middle;\n",
       "    }\n",
       "\n",
       "    .dataframe tbody tr th {\n",
       "        vertical-align: top;\n",
       "    }\n",
       "\n",
       "    .dataframe thead th {\n",
       "        text-align: right;\n",
       "    }\n",
       "</style>\n",
       "<table border=\"1\" class=\"dataframe\">\n",
       "  <thead>\n",
       "    <tr style=\"text-align: right;\">\n",
       "      <th></th>\n",
       "      <th>terms</th>\n",
       "      <th>inv_list</th>\n",
       "    </tr>\n",
       "  </thead>\n",
       "  <tbody>\n",
       "    <tr>\n",
       "      <th>0</th>\n",
       "      <td>aniversário</td>\n",
       "      <td>[(1, 1), (6, 2), (20, 1), (34, 1), (80, 1), (94, 1), (169, 2), (172, 5), (174, 1), (175, 2), (228, 1)]</td>\n",
       "    </tr>\n",
       "    <tr>\n",
       "      <th>1</th>\n",
       "      <td>das</td>\n",
       "      <td>[(2, 1), (3, 3), (4, 1), (6, 6), (7, 5), (8, 3), (9, 2), (11, 8), (12, 8), (13, 2), (14, 1), (15, 2), (16, 2), (17, 3), (18, 2), (19, 4), (20, 6), (21, 2), (22, 4), (23, 3), (24, 2), (25, 6), (26, 1), (27, 4), (28, 1), (29, 5), (30, 4), (31, 1), (32, 6), (33, 4), (34, 6), (35, 1), (36, 2), (37, 5), (38, 1), (39, 1), (40, 1), (41, 2), (42, 2), (43, 3), (46, 1), (47, 3), (48, 1), (49, 1), (50, 3), (51, 1), (53, 1), (54, 3), (55, 3), (56, 6), (57, 1), (59, 4), (60, 4), (61, 2), (63, 10), (64, 2...</td>\n",
       "    </tr>\n",
       "    <tr>\n",
       "      <th>2</th>\n",
       "      <td>forças</td>\n",
       "      <td>[(1, 3), (6, 3), (7, 1), (12, 1), (19, 3), (20, 1), (25, 5), (42, 1), (63, 2), (65, 3), (73, 1), (94, 1), (98, 1), (99, 2), (107, 1), (115, 2), (150, 8), (151, 4), (162, 1), (165, 1), (166, 4), (167, 1), (173, 1), (182, 1), (195, 1), (205, 1), (208, 4), (209, 1), (210, 3), (218, 2), (223, 1), (228, 1), (245, 3), (246, 1), (247, 1), (248, 2), (249, 4)]</td>\n",
       "    </tr>\n",
       "    <tr>\n",
       "      <th>3</th>\n",
       "      <td>armadas</td>\n",
       "      <td>[(1, 3), (6, 3), (12, 1), (25, 4), (42, 1), (65, 2), (99, 2), (115, 2), (150, 7), (151, 2), (156, 1), (165, 1), (166, 4), (205, 1), (208, 4), (218, 1), (223, 1), (246, 1), (249, 1)]</td>\n",
       "    </tr>\n",
       "  </tbody>\n",
       "</table>\n",
       "</div>"
      ],
      "text/plain": [
       "         terms  \\\n",
       "0  aniversário   \n",
       "1          das   \n",
       "2       forças   \n",
       "3      armadas   \n",
       "\n",
       "                                                                                                                                                                                                                                                                                                                                                                                                                                                                                                              inv_list  \n",
       "0                                                                                                                                                                                                                                                                                                                                                                                                               [(1, 1), (6, 2), (20, 1), (34, 1), (80, 1), (94, 1), (169, 2), (172, 5), (174, 1), (175, 2), (228, 1)]  \n",
       "1  [(2, 1), (3, 3), (4, 1), (6, 6), (7, 5), (8, 3), (9, 2), (11, 8), (12, 8), (13, 2), (14, 1), (15, 2), (16, 2), (17, 3), (18, 2), (19, 4), (20, 6), (21, 2), (22, 4), (23, 3), (24, 2), (25, 6), (26, 1), (27, 4), (28, 1), (29, 5), (30, 4), (31, 1), (32, 6), (33, 4), (34, 6), (35, 1), (36, 2), (37, 5), (38, 1), (39, 1), (40, 1), (41, 2), (42, 2), (43, 3), (46, 1), (47, 3), (48, 1), (49, 1), (50, 3), (51, 1), (53, 1), (54, 3), (55, 3), (56, 6), (57, 1), (59, 4), (60, 4), (61, 2), (63, 10), (64, 2...  \n",
       "2                                                                                                                                                    [(1, 3), (6, 3), (7, 1), (12, 1), (19, 3), (20, 1), (25, 5), (42, 1), (63, 2), (65, 3), (73, 1), (94, 1), (98, 1), (99, 2), (107, 1), (115, 2), (150, 8), (151, 4), (162, 1), (165, 1), (166, 4), (167, 1), (173, 1), (182, 1), (195, 1), (205, 1), (208, 4), (209, 1), (210, 3), (218, 2), (223, 1), (228, 1), (245, 3), (246, 1), (247, 1), (248, 2), (249, 4)]  \n",
       "3                                                                                                                                                                                                                                                                                                                                [(1, 3), (6, 3), (12, 1), (25, 4), (42, 1), (65, 2), (99, 2), (115, 2), (150, 7), (151, 2), (156, 1), (165, 1), (166, 4), (205, 1), (208, 4), (218, 1), (223, 1), (246, 1), (249, 1)]  "
      ]
     },
     "execution_count": 18,
     "metadata": {},
     "output_type": "execute_result"
    }
   ],
   "source": [
    "pd.options.display.max_colwidth = 500\n",
    "\n",
    "df = pd.DataFrame()\n",
    "\n",
    "df['terms'] = terms\n",
    "df['inv_list'] = postings\n",
    "\n",
    "df"
   ]
  },
  {
   "cell_type": "raw",
   "metadata": {},
   "source": [
    "A consulta conjuntiva resultou no documento 6 com um score 14. Observando os postings da lista invertida de cada um dos termos da consulta, é possíevl observar que se somarmos as frequências do documento 6 para cada um dos termos resultará em uma pontuação 14, evidenciando a corretude da implementação."
   ]
  }
 ],
 "metadata": {
  "kernelspec": {
   "display_name": "Python 3",
   "language": "python",
   "name": "python3"
  },
  "language_info": {
   "codemirror_mode": {
    "name": "ipython",
    "version": 3
   },
   "file_extension": ".py",
   "mimetype": "text/x-python",
   "name": "python",
   "nbconvert_exporter": "python",
   "pygments_lexer": "ipython3",
   "version": "3.7.1"
  }
 },
 "nbformat": 4,
 "nbformat_minor": 2
}
