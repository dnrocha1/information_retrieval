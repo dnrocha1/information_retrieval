{
 "cells": [
  {
   "cell_type": "code",
   "execution_count": 1,
   "metadata": {},
   "outputs": [],
   "source": [
    "import pandas as pd\n",
    "from nltk.tokenize import RegexpTokenizer\n",
    "from collections import Counter\n",
    "import heapq as hp"
   ]
  },
  {
   "cell_type": "code",
   "execution_count": 2,
   "metadata": {},
   "outputs": [],
   "source": [
    "data = pd.read_csv('https://raw.githubusercontent.com/dnrocha1/information_retrieval/master/lab02/data/results.csv')"
   ]
  },
  {
   "cell_type": "code",
   "execution_count": 3,
   "metadata": {},
   "outputs": [],
   "source": [
    "#pre-process\n",
    "\n",
    "documents = data['text'].apply(lambda x: x.lower())\n",
    "\n",
    "regex = RegexpTokenizer(r'\\b[A-zÀ-ú-\\'\\d]{3,}')\n",
    "# tokens = regex.tokenize(texts)"
   ]
  },
  {
   "cell_type": "code",
   "execution_count": 4,
   "metadata": {},
   "outputs": [],
   "source": [
    "def build_index(documents=documents):\n",
    "  inverted_list = {}\n",
    "\n",
    "  n_doc = 0\n",
    "  for document in documents:\n",
    "    n_doc += 1\n",
    "    token = regex.tokenize(document)\n",
    "    counter = list(Counter(token).items())\n",
    "    for elem in counter:\n",
    "      key = elem[0]\n",
    "      freq = elem[1]\n",
    "      if key in inverted_list.keys():\n",
    "        if n_doc not in inverted_list[key][0]:\n",
    "          inverted_list[key].append((n_doc,freq))\n",
    "      else:\n",
    "        inverted_list[key] = [(n_doc,freq)]\n",
    "  \n",
    "  return inverted_list\n",
    "\n",
    "index = build_index()"
   ]
  },
  {
   "cell_type": "code",
   "execution_count": 5,
   "metadata": {},
   "outputs": [],
   "source": [
    "%%capture\n",
    "\n",
    "def get_doc_list(postings):\n",
    "  \n",
    "  def filter_n_doc(postings=postings):\n",
    "    return [[e[0] for e in elem] for elem in postings]\n",
    "  \n",
    "  docs = filter_n_doc()\n",
    "  flat_list = [item for sublist in docs for item in sublist]\n",
    "  return list(set(flat_list))\n",
    "    \n",
    "\n",
    "get_doc_list(index.values())"
   ]
  },
  {
   "cell_type": "code",
   "execution_count": 6,
   "metadata": {},
   "outputs": [
    {
     "data": {
      "text/plain": [
       "[(5, 151),\n",
       " (4, 173),\n",
       " (4, 1),\n",
       " (3, 248),\n",
       " (3, 229),\n",
       " (3, 220),\n",
       " (3, 214),\n",
       " (3, 7),\n",
       " (2, 239),\n",
       " (2, 228)]"
      ]
     },
     "execution_count": 6,
     "metadata": {},
     "output_type": "execute_result"
    }
   ],
   "source": [
    "def document_at_time(query, index, k):\n",
    "  query_words = query.split()    \n",
    "  inverted_lists = []\n",
    "  priority_queue = []\n",
    "\n",
    "  for word in query_words:\n",
    "    if word in index.keys():\n",
    "      inverted_lists.append(index[word])\n",
    "\n",
    "  docs = get_doc_list(index.values())\n",
    "  for d in docs:\n",
    "    score = 0\n",
    "    for inv in inverted_lists:\n",
    "      for posting in inv:\n",
    "        if d == posting[0]:\n",
    "          score += posting[1]\n",
    "    if score != 0:\n",
    "      priority_queue.append((score,d))\n",
    "    \n",
    "  hp._heapify_max(priority_queue)\n",
    "  \n",
    "  top_k = []\n",
    "  \n",
    "  for i in range(1,k+1):\n",
    "    if priority_queue != []:\n",
    "      top = hp._heappop_max(priority_queue)\n",
    "      top_k.append(top)\n",
    "  \n",
    "  return top_k\n",
    "\n",
    "document_at_time(\"juíza federal\", index, 10)"
   ]
  },
  {
   "cell_type": "code",
   "execution_count": 7,
   "metadata": {},
   "outputs": [
    {
     "data": {
      "text/plain": [
       "[(5, 151),\n",
       " (4, 173),\n",
       " (4, 1),\n",
       " (3, 248),\n",
       " (3, 229),\n",
       " (3, 220),\n",
       " (3, 214),\n",
       " (3, 7),\n",
       " (2, 239),\n",
       " (2, 228)]"
      ]
     },
     "execution_count": 7,
     "metadata": {},
     "output_type": "execute_result"
    }
   ],
   "source": [
    "def term_at_time(query, index, k):\n",
    "  query_words = query.split()    \n",
    "  inverted_lists = []\n",
    "  acc = {}\n",
    "\n",
    "  for word in query_words:\n",
    "    if word in index.keys():\n",
    "      inverted_lists.append(index[word])\n",
    "\n",
    "  for lst in inverted_lists:\n",
    "    for posting in lst:\n",
    "      d = posting[0]\n",
    "      freq = posting[1]\n",
    "      if d in acc.keys():\n",
    "        acc[d] = acc[d] + freq\n",
    "      else:\n",
    "        acc[d] = freq\n",
    "  \n",
    "  priority_queue = list(map(lambda elem: (elem[1],elem[0]), acc.items()))\n",
    "  \n",
    "  hp._heapify_max(priority_queue)\n",
    "  \n",
    "  top_k = []\n",
    "  \n",
    "  for i in range(1,k+1):\n",
    "    if priority_queue != []:\n",
    "      top = hp._heappop_max(priority_queue)\n",
    "      top_k.append(top)\n",
    "  \n",
    "  return top_k\n",
    "\n",
    "term_at_time(\"juíza federal\", index, 10)  "
   ]
  },
  {
   "cell_type": "code",
   "execution_count": 8,
   "metadata": {},
   "outputs": [],
   "source": [
    "queries = [\"educação\",\"polícia\",\"cortes\",\"presidente\",\"segurança\"]"
   ]
  },
  {
   "cell_type": "code",
   "execution_count": 9,
   "metadata": {},
   "outputs": [
    {
     "ename": "IndexError",
     "evalue": "index out of range",
     "output_type": "error",
     "traceback": [
      "\u001b[0;31m---------------------------------------------------------------------------\u001b[0m",
      "\u001b[0;31mIndexError\u001b[0m                                Traceback (most recent call last)",
      "\u001b[0;32m<ipython-input-9-37c7885dac82>\u001b[0m in \u001b[0;36m<module>\u001b[0;34m\u001b[0m\n\u001b[1;32m      9\u001b[0m   \u001b[0mresults_document\u001b[0m\u001b[0;34m.\u001b[0m\u001b[0mappend\u001b[0m\u001b[0;34m(\u001b[0m\u001b[0md\u001b[0m\u001b[0;34m)\u001b[0m\u001b[0;34m\u001b[0m\u001b[0;34m\u001b[0m\u001b[0m\n\u001b[1;32m     10\u001b[0m \u001b[0;34m\u001b[0m\u001b[0m\n\u001b[0;32m---> 11\u001b[0;31m   \u001b[0mt\u001b[0m \u001b[0;34m=\u001b[0m \u001b[0mterm_at_time\u001b[0m\u001b[0;34m(\u001b[0m\u001b[0mquery\u001b[0m\u001b[0;34m,\u001b[0m \u001b[0mindex\u001b[0m\u001b[0;34m,\u001b[0m \u001b[0mk\u001b[0m\u001b[0;34m)\u001b[0m\u001b[0;34m\u001b[0m\u001b[0;34m\u001b[0m\u001b[0m\n\u001b[0m\u001b[1;32m     12\u001b[0m   \u001b[0mresults_term\u001b[0m\u001b[0;34m.\u001b[0m\u001b[0mappend\u001b[0m\u001b[0;34m(\u001b[0m\u001b[0mt\u001b[0m\u001b[0;34m)\u001b[0m\u001b[0;34m\u001b[0m\u001b[0;34m\u001b[0m\u001b[0m\n\u001b[1;32m     13\u001b[0m \u001b[0;34m\u001b[0m\u001b[0m\n",
      "\u001b[0;32m<ipython-input-7-7c4832130f38>\u001b[0m in \u001b[0;36mterm_at_time\u001b[0;34m(query, index, k)\u001b[0m\n\u001b[1;32m     24\u001b[0m \u001b[0;34m\u001b[0m\u001b[0m\n\u001b[1;32m     25\u001b[0m   \u001b[0;32mfor\u001b[0m \u001b[0mi\u001b[0m \u001b[0;32min\u001b[0m \u001b[0mrange\u001b[0m\u001b[0;34m(\u001b[0m\u001b[0;36m1\u001b[0m\u001b[0;34m,\u001b[0m\u001b[0mk\u001b[0m\u001b[0;34m+\u001b[0m\u001b[0;36m1\u001b[0m\u001b[0;34m)\u001b[0m\u001b[0;34m:\u001b[0m\u001b[0;34m\u001b[0m\u001b[0;34m\u001b[0m\u001b[0m\n\u001b[0;32m---> 26\u001b[0;31m     \u001b[0mtop\u001b[0m \u001b[0;34m=\u001b[0m \u001b[0mhp\u001b[0m\u001b[0;34m.\u001b[0m\u001b[0m_heappop_max\u001b[0m\u001b[0;34m(\u001b[0m\u001b[0mpriority_queue\u001b[0m\u001b[0;34m)\u001b[0m\u001b[0;34m\u001b[0m\u001b[0;34m\u001b[0m\u001b[0m\n\u001b[0m\u001b[1;32m     27\u001b[0m     \u001b[0mtop_k\u001b[0m\u001b[0;34m.\u001b[0m\u001b[0mappend\u001b[0m\u001b[0;34m(\u001b[0m\u001b[0mtop\u001b[0m\u001b[0;34m)\u001b[0m\u001b[0;34m\u001b[0m\u001b[0;34m\u001b[0m\u001b[0m\n\u001b[1;32m     28\u001b[0m \u001b[0;34m\u001b[0m\u001b[0m\n",
      "\u001b[0;31mIndexError\u001b[0m: index out of range"
     ]
    }
   ],
   "source": [
    "pd.options.display.max_colwidth = 120\n",
    "\n",
    "results_document = []\n",
    "results_term = []\n",
    "k = 10\n",
    "\n",
    "for query in queries:\n",
    "  d = document_at_time(query, index, k)\n",
    "  results_document.append(d)\n",
    "  \n",
    "  t = term_at_time(query, index, k)\n",
    "  results_term.append(t)\n",
    "\n",
    "df = pd.DataFrame()\n",
    "\n",
    "df['query'] = queries\n",
    "df['document_at_time'] = results_document\n",
    "df['term_at_time'] = results_term\n",
    "df['compare'] = df.document_at_time == df.term_at_time\n",
    "\n",
    "df"
   ]
  }
 ],
 "metadata": {
  "kernelspec": {
   "display_name": "Python 3",
   "language": "python",
   "name": "python3"
  },
  "language_info": {
   "codemirror_mode": {
    "name": "ipython",
    "version": 3
   },
   "file_extension": ".py",
   "mimetype": "text/x-python",
   "name": "python",
   "nbconvert_exporter": "python",
   "pygments_lexer": "ipython3",
   "version": "3.7.1"
  }
 },
 "nbformat": 4,
 "nbformat_minor": 2
}
