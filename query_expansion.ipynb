{
  "nbformat": 4,
  "nbformat_minor": 0,
  "metadata": {
    "colab": {
      "name": "query_expansion.ipynb",
      "version": "0.3.2",
      "provenance": [],
      "collapsed_sections": []
    },
    "kernelspec": {
      "name": "python3",
      "display_name": "Python 3"
    }
  },
  "cells": [
    {
      "cell_type": "code",
      "metadata": {
        "id": "Cm5Xy8tqr3EG",
        "colab_type": "code",
        "colab": {}
      },
      "source": [
        "import pandas as pd\n",
        "from nltk.tokenize import RegexpTokenizer\n",
        "from collections import Counter,OrderedDict\n",
        "import math\n",
        "from tabulate import tabulate"
      ],
      "execution_count": 0,
      "outputs": []
    },
    {
      "cell_type": "code",
      "metadata": {
        "id": "0HqFF1HcsTIw",
        "colab_type": "code",
        "colab": {}
      },
      "source": [
        "data = pd.read_csv('https://raw.githubusercontent.com/dnrocha1/information_retrieval/master/lab02/data/results.csv')"
      ],
      "execution_count": 0,
      "outputs": []
    },
    {
      "cell_type": "code",
      "metadata": {
        "id": "3G0Wz9jJsdP6",
        "colab_type": "code",
        "colab": {}
      },
      "source": [
        "#pre-process\n",
        "\n",
        "documents = data['text'].apply(lambda x: x.lower())\n",
        "\n",
        "regex = RegexpTokenizer(r'\\b[A-zÀ-ú-\\'\\d]{3,}')\n",
        "# tokens = regex.tokenize(texts)"
      ],
      "execution_count": 0,
      "outputs": []
    },
    {
      "cell_type": "code",
      "metadata": {
        "id": "hp01Qfl6ummO",
        "colab_type": "code",
        "colab": {}
      },
      "source": [
        "doc_list = []\n",
        "\n",
        "def build_index(documents=documents):\n",
        "  inverted_list = {}\n",
        "\n",
        "  n_doc = 0\n",
        "  for document in documents:\n",
        "    n_doc += 1\n",
        "    doc_list.append(n_doc)\n",
        "    token = regex.tokenize(document)\n",
        "    counter = list(Counter(token).items())\n",
        "    for elem in counter:\n",
        "      key = elem[0]\n",
        "      freq = elem[1]\n",
        "      if key in inverted_list.keys():\n",
        "        if n_doc not in inverted_list[key][0]:\n",
        "          inverted_list[key].append((n_doc,freq))\n",
        "      else:\n",
        "        inverted_list[key] = [(n_doc,freq)]\n",
        "  \n",
        "  return inverted_list\n",
        "\n",
        "index = build_index()"
      ],
      "execution_count": 0,
      "outputs": []
    },
    {
      "cell_type": "code",
      "metadata": {
        "id": "7fAqQNsD4pNL",
        "colab_type": "code",
        "colab": {}
      },
      "source": [
        "%%capture\n",
        "def mutual_info(word,index=index):\n",
        "  \n",
        "  ranking = {}\n",
        "  docs_word = set(map(lambda x: x[0], index[word]))\n",
        "  n_a = len(docs_word)\n",
        "  \n",
        "  for key in index:\n",
        "    if key != word:\n",
        "      docs_b = set(map(lambda x: x[0], index[key]))\n",
        "      n_b = len(docs_b)\n",
        "      n_ab = len(docs_word & docs_b)\n",
        "      if n_ab == 0: continue\n",
        "      ranking[key] = n_ab/(n_a*n_b)\n",
        "  \n",
        "  return OrderedDict(sorted(ranking.items(), key=lambda x: x[1], reverse=True))\n",
        "  \n",
        "mutual_info(\"governo\")"
      ],
      "execution_count": 0,
      "outputs": []
    },
    {
      "cell_type": "code",
      "metadata": {
        "id": "Li_6163uKqhs",
        "colab_type": "code",
        "colab": {}
      },
      "source": [
        "%%capture\n",
        "def expected_mutual_info(word,index=index):\n",
        "  \n",
        "  ranking = {}\n",
        "  docs_word = set(map(lambda x: x[0], index[word]))\n",
        "  n_a = len(docs_word)\n",
        "  n = len(documents)\n",
        "  \n",
        "  for key in index:\n",
        "    if key != word:\n",
        "      docs_b = set(map(lambda x: x[0], index[key]))\n",
        "      n_b = len(docs_b)\n",
        "      n_ab = len(docs_word & docs_b)\n",
        "      if n_ab == 0: continue\n",
        "      ranking[key] = n_ab * math.log(n*(n_ab/(n_a*n_b)))\n",
        "  \n",
        "  return OrderedDict(sorted(ranking.items(), key=lambda x: x[1], reverse=True))\n",
        "  \n",
        "expected_mutual_info(\"bolsonaro\")"
      ],
      "execution_count": 0,
      "outputs": []
    },
    {
      "cell_type": "code",
      "metadata": {
        "id": "-CsE0eTSMF26",
        "colab_type": "code",
        "colab": {}
      },
      "source": [
        "%%capture\n",
        "def chi_square(word,index=index):\n",
        "  \n",
        "  ranking = {}\n",
        "  docs_word = set(map(lambda x: x[0], index[word]))\n",
        "  n_a = len(docs_word)\n",
        "  n = len(documents)\n",
        "  \n",
        "  for key in index:\n",
        "    if key != word:\n",
        "      docs_b = set(map(lambda x: x[0], index[key]))\n",
        "      n_b = len(docs_b)\n",
        "      n_ab = len(docs_word & docs_b)\n",
        "      if n_ab == 0: continue\n",
        "      ranking[key] = (n_ab-(1/n)*n_a*n_b)**2 / (n_a*n_b)\n",
        "  \n",
        "  return OrderedDict(sorted(ranking.items(), key=lambda x: x[1], reverse=True))\n",
        "  \n",
        "chi_square(\"bolsonaro\")"
      ],
      "execution_count": 0,
      "outputs": []
    },
    {
      "cell_type": "code",
      "metadata": {
        "id": "vrMHlJn2MPb9",
        "colab_type": "code",
        "colab": {}
      },
      "source": [
        "%%capture\n",
        "def dice(word,index=index):\n",
        "  \n",
        "  ranking = {}\n",
        "  docs_word = set(map(lambda x: x[0], index[word]))\n",
        "  n_a = len(docs_word)\n",
        "  \n",
        "  for key in index:\n",
        "    if key != word:\n",
        "      docs_b = set(map(lambda x: x[0], index[key]))\n",
        "      n_b = len(docs_b)\n",
        "      n_ab = len(docs_word & docs_b)\n",
        "      if n_ab == 0: continue\n",
        "      ranking[key] = n_ab/(n_a+n_b)\n",
        "  \n",
        "  return OrderedDict(sorted(ranking.items(), key=lambda x: x[1], reverse=True))\n",
        "  \n",
        "dice(\"governo\")"
      ],
      "execution_count": 0,
      "outputs": []
    },
    {
      "cell_type": "code",
      "metadata": {
        "id": "zgz_TxE5QT-J",
        "colab_type": "code",
        "colab": {}
      },
      "source": [
        "queries = [\"educação\",\"polícia\",\"cortes\",\"presidente\",\"segurança\"]\n",
        "\n",
        "def build_table(query):\n",
        "  df = pd.DataFrame()\n",
        "\n",
        "  df['MIM'] = list(mutual_info(query).keys())\n",
        "  df['EMIM'] = list(expected_mutual_info(query).keys())\n",
        "  df['X2'] = list(chi_square(query).keys())\n",
        "  df['Dice'] = list(dice(query).keys())\n",
        "  \n",
        "  return df.head(10)"
      ],
      "execution_count": 0,
      "outputs": []
    },
    {
      "cell_type": "code",
      "metadata": {
        "id": "ol1jItKSg1HS",
        "colab_type": "code",
        "colab": {
          "base_uri": "https://localhost:8080/",
          "height": 1493
        },
        "outputId": "4a74f381-9f7a-4094-d2ac-0a10402d56c0"
      },
      "source": [
        "for query in queries:\n",
        "  df = build_table(query)\n",
        "  print(query)\n",
        "  print(tabulate(df, headers='keys', tablefmt='psql'))\n",
        "  print(\"\\n\")"
      ],
      "execution_count": 10,
      "outputs": [
        {
          "output_type": "stream",
          "text": [
            "educação\n",
            "+----+--------------+----------+-------------+-------------+\n",
            "|    | MIM          | EMIM     | X2          | Dice        |\n",
            "|----+--------------+----------+-------------+-------------|\n",
            "|  0 | enriquecer   | social   | aluno       | escolas     |\n",
            "|  1 | controversa  | alunos   | vélez       | alunos      |\n",
            "|  2 | resgatar     | escolas  | alunos      | social      |\n",
            "|  3 | fabian       | discurso | ex-alunos   | mudanças    |\n",
            "|  4 | salvioli     | escola   | aula        | discurso    |\n",
            "|  5 | ouve         | governo  | aulas       | escola      |\n",
            "|  6 | reverbera    | tenha    | mec         | comissão    |\n",
            "|  7 | napolitano   | mudanças | pasta       | necessidade |\n",
            "|  8 | negacionismo | comissão | escolas     | jovens      |\n",
            "|  9 | distorce     | vélez    | educacional | pasta       |\n",
            "+----+--------------+----------+-------------+-------------+\n",
            "\n",
            "\n",
            "polícia\n",
            "+----+------------+--------------+--------------+--------------+\n",
            "|    | MIM        | EMIM         | X2           | Dice         |\n",
            "|----+------------+--------------+--------------+--------------|\n",
            "|  0 | aílton     | policial     | policial     | policial     |\n",
            "|  1 | malhães    | policiais    | policiais    | policiais    |\n",
            "|  2 | azeredo    | crime        | investiga    | armados      |\n",
            "|  3 | aloy       | armados      | buscas       | crime        |\n",
            "|  4 | jupiara    | outros       | paula        | vêm          |\n",
            "|  5 | otavio     | exército     | assassinadas | investigação |\n",
            "|  6 | escalados  | militar      | trabalhado   | exército     |\n",
            "|  7 | repressor  | grupo        | nomeados     | assassinado  |\n",
            "|  8 | ostracismo | investigação | remuneração  | flávio       |\n",
            "|  9 | matadores  | vêm          | ocorrência   | detido       |\n",
            "+----+------------+--------------+--------------+--------------+\n",
            "\n",
            "\n",
            "cortes\n",
            "+----+-----------------+---------------+---------------+---------------+\n",
            "|    | MIM             | EMIM          | X2            | Dice          |\n",
            "|----+-----------------+---------------+---------------+---------------|\n",
            "|  0 | celebra-se      | fortemente    | despesas      | fortemente    |\n",
            "|  1 | sustentada      | despesas      | fortemente    | despesas      |\n",
            "|  2 | arraigada       | necessidades  | especulações  | necessidades  |\n",
            "|  3 | 1931-39         | capacidade    | atrito        | atinge        |\n",
            "|  4 | observa-se      | atinge        | desconforto   | especulações  |\n",
            "|  5 | argumentativa   | investimentos | comprometida  | atrito        |\n",
            "|  6 | impulsionadas   | longo         | interrupções  | desconforto   |\n",
            "|  7 | viralmente      | vigor         | administrando | comprometida  |\n",
            "|  8 | consolidando-se | aposentadoria | 2023          | interrupções  |\n",
            "|  9 | eclosão         | especulações  | baixíssima    | administrando |\n",
            "+----+-----------------+---------------+---------------+---------------+\n",
            "\n",
            "\n",
            "presidente\n",
            "+----+-------------+-----------+-------------+-----------+\n",
            "|    | MIM         | EMIM      | X2          | Dice      |\n",
            "|----+-------------+-----------+-------------+-----------|\n",
            "|  0 | juíza       | bolsonaro | bolsonaro   | governo   |\n",
            "|  1 | ivani       | governo   | ministro    | pelo      |\n",
            "|  2 | comemorarem | ministro  | governo     | bolsonaro |\n",
            "|  3 | instaurou   | político  | deputado    | uma       |\n",
            "|  4 | citando     | disse     | presidência | não       |\n",
            "|  5 | rememorar   | segurança | secretário  | por       |\n",
            "|  6 | alusiva     | deputado  | militares   | ele       |\n",
            "|  7 | compatível  | justiça   | twitter     | como      |\n",
            "|  8 | promovido   | militares | câmara      | sobre     |\n",
            "|  9 | desobedece  | ele       | guedes      | que       |\n",
            "+----+-------------+-----------+-------------+-----------+\n",
            "\n",
            "\n",
            "segurança\n",
            "+----+---------------+------------+---------------+------------+\n",
            "|    | MIM           | EMIM       | X2            | Dice       |\n",
            "|----+---------------+------------+---------------+------------|\n",
            "|  0 | juíza         | presidente | milícias      | presidente |\n",
            "|  1 | instaurou     | estados    | milícia       | estados    |\n",
            "|  2 | alusiva       | unidos     | netanyahu     | unidos     |\n",
            "|  3 | compatível    | imagem     | proteger      | ministro   |\n",
            "|  4 | desobedece    | chefe      | embaixada     | governo    |\n",
            "|  5 | magistrada    | ministro   | politicamente | nacional   |\n",
            "|  6 | comemorativas | milícias   | jerusalém     | imagem     |\n",
            "|  7 | justapõe      | proteger   | tel           | chefe      |\n",
            "|  8 | chancelado    | forças     | aviv          | forças     |\n",
            "|  9 | ulysses       | nacional   | café          | número     |\n",
            "+----+---------------+------------+---------------+------------+\n",
            "\n",
            "\n"
          ],
          "name": "stdout"
        }
      ]
    }
  ]
}