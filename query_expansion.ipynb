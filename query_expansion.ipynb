{
  "nbformat": 4,
  "nbformat_minor": 0,
  "metadata": {
    "colab": {
      "name": "query_expansion.ipynb",
      "version": "0.3.2",
      "provenance": [],
      "collapsed_sections": []
    },
    "kernelspec": {
      "name": "python3",
      "display_name": "Python 3"
    }
  },
  "cells": [
    {
      "cell_type": "code",
      "metadata": {
        "id": "Cm5Xy8tqr3EG",
        "colab_type": "code",
        "colab": {}
      },
      "source": [
        "%%capture\n",
        "\n",
        "import pandas as pd\n",
        "import nltk\n",
        "from nltk.corpus import stopwords\n",
        "from nltk.tokenize import RegexpTokenizer\n",
        "from collections import Counter,OrderedDict\n",
        "import math\n",
        "from tabulate import tabulate\n",
        "import heapq as hp\n",
        "\n",
        "nltk.download('stopwords')"
      ],
      "execution_count": 0,
      "outputs": []
    },
    {
      "cell_type": "code",
      "metadata": {
        "id": "0HqFF1HcsTIw",
        "colab_type": "code",
        "colab": {}
      },
      "source": [
        "data = pd.read_csv('https://raw.githubusercontent.com/dnrocha1/information_retrieval/master/lab02/data/results.csv')"
      ],
      "execution_count": 0,
      "outputs": []
    },
    {
      "cell_type": "code",
      "metadata": {
        "id": "3G0Wz9jJsdP6",
        "colab_type": "code",
        "colab": {}
      },
      "source": [
        "#pre-process\n",
        "\n",
        "stopwords = stopwords.words('portuguese')\n",
        "documents = data['text'].apply(lambda x: x.lower())\n",
        "\n",
        "regex = RegexpTokenizer(r'\\b[A-zÀ-ú-\\'\\d]{3,}')\n",
        "# tokens = regex.tokenize(texts)"
      ],
      "execution_count": 0,
      "outputs": []
    },
    {
      "cell_type": "code",
      "metadata": {
        "id": "hp01Qfl6ummO",
        "colab_type": "code",
        "colab": {}
      },
      "source": [
        "doc_list = []\n",
        "\n",
        "def build_index(documents=documents):\n",
        "  inverted_list = {}\n",
        "\n",
        "  n_doc = 0\n",
        "  for document in documents:\n",
        "    n_doc += 1\n",
        "    doc_list.append(n_doc)\n",
        "    token = [w for w in regex.tokenize(document) if w not in stopwords]\n",
        "    counter = list(Counter(token).items())\n",
        "    for elem in counter:\n",
        "      key = elem[0]\n",
        "      freq = elem[1]\n",
        "      if key in inverted_list.keys():\n",
        "        if n_doc not in inverted_list[key][0]:\n",
        "          inverted_list[key].append((n_doc,freq))\n",
        "      else:\n",
        "        inverted_list[key] = [(n_doc,freq)]\n",
        "  \n",
        "  return inverted_list\n",
        "\n",
        "index = build_index()"
      ],
      "execution_count": 0,
      "outputs": []
    },
    {
      "cell_type": "markdown",
      "metadata": {
        "id": "49MiOgv-aTSI",
        "colab_type": "text"
      },
      "source": [
        "## Questão 1"
      ]
    },
    {
      "cell_type": "code",
      "metadata": {
        "id": "7fAqQNsD4pNL",
        "colab_type": "code",
        "colab": {}
      },
      "source": [
        "%%capture\n",
        "def mutual_info(word,index=index):\n",
        "  \n",
        "  ranking = {}\n",
        "  docs_word = set(map(lambda x: x[0], index[word]))\n",
        "  n_a = len(docs_word)\n",
        "  \n",
        "  for key in index:\n",
        "    if key != word:\n",
        "      docs_b = set(map(lambda x: x[0], index[key]))\n",
        "      n_b = len(docs_b)\n",
        "      n_ab = len(docs_word & docs_b)\n",
        "      if n_ab == 0: continue\n",
        "      ranking[key] = n_ab/(n_a*n_b)\n",
        "  \n",
        "  return OrderedDict(sorted(ranking.items(), key=lambda x: x[1], reverse=True))\n",
        "  \n",
        "mutual_info(\"governo\")"
      ],
      "execution_count": 0,
      "outputs": []
    },
    {
      "cell_type": "code",
      "metadata": {
        "id": "Li_6163uKqhs",
        "colab_type": "code",
        "colab": {}
      },
      "source": [
        "%%capture\n",
        "def expected_mutual_info(word,index=index):\n",
        "  \n",
        "  ranking = {}\n",
        "  docs_word = set(map(lambda x: x[0], index[word]))\n",
        "  n_a = len(docs_word)\n",
        "  n = len(documents)\n",
        "  \n",
        "  for key in index:\n",
        "    if key != word:\n",
        "      docs_b = set(map(lambda x: x[0], index[key]))\n",
        "      n_b = len(docs_b)\n",
        "      n_ab = len(docs_word & docs_b)\n",
        "      if n_ab == 0: continue\n",
        "      ranking[key] = n_ab * math.log(n*(n_ab/(n_a*n_b)))\n",
        "  \n",
        "  return OrderedDict(sorted(ranking.items(), key=lambda x: x[1], reverse=True))\n",
        "  \n",
        "expected_mutual_info(\"bolsonaro\")"
      ],
      "execution_count": 0,
      "outputs": []
    },
    {
      "cell_type": "code",
      "metadata": {
        "id": "-CsE0eTSMF26",
        "colab_type": "code",
        "colab": {}
      },
      "source": [
        "%%capture\n",
        "def chi_square(word,index=index):\n",
        "  \n",
        "  ranking = {}\n",
        "  docs_word = set(map(lambda x: x[0], index[word]))\n",
        "  n_a = len(docs_word)\n",
        "  n = len(documents)\n",
        "  \n",
        "  for key in index:\n",
        "    if key != word:\n",
        "      docs_b = set(map(lambda x: x[0], index[key]))\n",
        "      n_b = len(docs_b)\n",
        "      n_ab = len(docs_word & docs_b)\n",
        "      if n_ab == 0: continue\n",
        "      ranking[key] = (n_ab-(1/n)*n_a*n_b)**2 / (n_a*n_b)\n",
        "  \n",
        "  return OrderedDict(sorted(ranking.items(), key=lambda x: x[1], reverse=True))\n",
        "  \n",
        "chi_square(\"bolsonaro\")"
      ],
      "execution_count": 0,
      "outputs": []
    },
    {
      "cell_type": "code",
      "metadata": {
        "id": "vrMHlJn2MPb9",
        "colab_type": "code",
        "colab": {}
      },
      "source": [
        "%%capture\n",
        "def dice(word,index=index):\n",
        "  \n",
        "  ranking = {}\n",
        "  docs_word = set(map(lambda x: x[0], index[word]))\n",
        "  n_a = len(docs_word)\n",
        "  \n",
        "  for key in index:\n",
        "    if key != word:\n",
        "      docs_b = set(map(lambda x: x[0], index[key]))\n",
        "      n_b = len(docs_b)\n",
        "      n_ab = len(docs_word & docs_b)\n",
        "      if n_ab == 0: continue\n",
        "      ranking[key] = n_ab/(n_a+n_b)\n",
        "  \n",
        "  return OrderedDict(sorted(ranking.items(), key=lambda x: x[1], reverse=True))\n",
        "  \n",
        "dice(\"governo\")"
      ],
      "execution_count": 0,
      "outputs": []
    },
    {
      "cell_type": "code",
      "metadata": {
        "id": "zgz_TxE5QT-J",
        "colab_type": "code",
        "colab": {}
      },
      "source": [
        "# define o conjunto de consultas e a função que constroi a tabela comparativa\n",
        "\n",
        "queries = [\"educação\",\"polícia\",\"cortes\",\"presidente\",\"segurança\"]\n",
        "\n",
        "def build_table(query):\n",
        "  df = pd.DataFrame()\n",
        "\n",
        "  df['MIM'] = list(mutual_info(query).keys())\n",
        "  df['EMIM'] = list(expected_mutual_info(query).keys())\n",
        "  df['X2'] = list(chi_square(query).keys())\n",
        "  df['Dice'] = list(dice(query).keys())\n",
        "  \n",
        "  return df.head(10)"
      ],
      "execution_count": 0,
      "outputs": []
    },
    {
      "cell_type": "code",
      "metadata": {
        "id": "ol1jItKSg1HS",
        "colab_type": "code",
        "outputId": "1f1e2832-06f0-408d-aa54-9e7df30fabce",
        "colab": {
          "base_uri": "https://localhost:8080/",
          "height": 1493
        }
      },
      "source": [
        "for query in queries:\n",
        "  df = build_table(query)\n",
        "  print(query)\n",
        "  print(tabulate(df, headers='keys', tablefmt='psql'))\n",
        "  print(\"\\n\")"
      ],
      "execution_count": 48,
      "outputs": [
        {
          "output_type": "stream",
          "text": [
            "educação\n",
            "+----+--------------+----------+-------------+-------------+\n",
            "|    | MIM          | EMIM     | X2          | Dice        |\n",
            "|----+--------------+----------+-------------+-------------|\n",
            "|  0 | enriquecer   | social   | aluno       | escolas     |\n",
            "|  1 | controversa  | alunos   | vélez       | alunos      |\n",
            "|  2 | resgatar     | escolas  | alunos      | social      |\n",
            "|  3 | fabian       | discurso | ex-alunos   | mudanças    |\n",
            "|  4 | salvioli     | escola   | aula        | discurso    |\n",
            "|  5 | ouve         | governo  | aulas       | escola      |\n",
            "|  6 | reverbera    | mudanças | mec         | comissão    |\n",
            "|  7 | napolitano   | comissão | pasta       | necessidade |\n",
            "|  8 | negacionismo | vélez    | escolas     | jovens      |\n",
            "|  9 | distorce     | pasta    | educacional | pasta       |\n",
            "+----+--------------+----------+-------------+-------------+\n",
            "\n",
            "\n",
            "polícia\n",
            "+----+------------+--------------+--------------+--------------+\n",
            "|    | MIM        | EMIM         | X2           | Dice         |\n",
            "|----+------------+--------------+--------------+--------------|\n",
            "|  0 | aílton     | policial     | policial     | policial     |\n",
            "|  1 | malhães    | policiais    | policiais    | policiais    |\n",
            "|  2 | azeredo    | crime        | investiga    | armados      |\n",
            "|  3 | aloy       | armados      | buscas       | crime        |\n",
            "|  4 | jupiara    | outros       | paula        | vêm          |\n",
            "|  5 | otavio     | exército     | assassinadas | investigação |\n",
            "|  6 | escalados  | militar      | trabalhado   | exército     |\n",
            "|  7 | repressor  | grupo        | nomeados     | assassinado  |\n",
            "|  8 | ostracismo | investigação | remuneração  | flávio       |\n",
            "|  9 | matadores  | vêm          | ocorrência   | detido       |\n",
            "+----+------------+--------------+--------------+--------------+\n",
            "\n",
            "\n",
            "cortes\n",
            "+----+-----------------+---------------+---------------+---------------+\n",
            "|    | MIM             | EMIM          | X2            | Dice          |\n",
            "|----+-----------------+---------------+---------------+---------------|\n",
            "|  0 | celebra-se      | fortemente    | despesas      | fortemente    |\n",
            "|  1 | sustentada      | despesas      | fortemente    | despesas      |\n",
            "|  2 | arraigada       | necessidades  | especulações  | necessidades  |\n",
            "|  3 | 1931-39         | capacidade    | atrito        | atinge        |\n",
            "|  4 | observa-se      | atinge        | desconforto   | especulações  |\n",
            "|  5 | argumentativa   | investimentos | comprometida  | atrito        |\n",
            "|  6 | impulsionadas   | longo         | interrupções  | desconforto   |\n",
            "|  7 | viralmente      | vigor         | administrando | comprometida  |\n",
            "|  8 | consolidando-se | aposentadoria | 2023          | interrupções  |\n",
            "|  9 | eclosão         | especulações  | baixíssima    | administrando |\n",
            "+----+-----------------+---------------+---------------+---------------+\n",
            "\n",
            "\n",
            "presidente\n",
            "+----+-------------+-----------+-------------+-----------+\n",
            "|    | MIM         | EMIM      | X2          | Dice      |\n",
            "|----+-------------+-----------+-------------+-----------|\n",
            "|  0 | juíza       | bolsonaro | bolsonaro   | governo   |\n",
            "|  1 | ivani       | governo   | ministro    | bolsonaro |\n",
            "|  2 | comemorarem | ministro  | governo     | sobre     |\n",
            "|  3 | instaurou   | político  | deputado    | ainda     |\n",
            "|  4 | citando     | disse     | presidência | país      |\n",
            "|  5 | rememorar   | segurança | secretário  | ser       |\n",
            "|  6 | alusiva     | deputado  | militares   | disse     |\n",
            "|  7 | compatível  | justiça   | twitter     | brasil    |\n",
            "|  8 | promovido   | militares | câmara      | ter       |\n",
            "|  9 | desobedece  | afirmou   | guedes      | antes     |\n",
            "+----+-------------+-----------+-------------+-----------+\n",
            "\n",
            "\n",
            "segurança\n",
            "+----+---------------+------------+---------------+------------+\n",
            "|    | MIM           | EMIM       | X2            | Dice       |\n",
            "|----+---------------+------------+---------------+------------|\n",
            "|  0 | juíza         | presidente | milícias      | presidente |\n",
            "|  1 | instaurou     | estados    | milícia       | estados    |\n",
            "|  2 | alusiva       | unidos     | netanyahu     | unidos     |\n",
            "|  3 | compatível    | imagem     | proteger      | ministro   |\n",
            "|  4 | desobedece    | chefe      | embaixada     | governo    |\n",
            "|  5 | magistrada    | ministro   | politicamente | nacional   |\n",
            "|  6 | comemorativas | milícias   | jerusalém     | imagem     |\n",
            "|  7 | justapõe      | proteger   | tel           | chefe      |\n",
            "|  8 | chancelado    | forças     | aviv          | forças     |\n",
            "|  9 | ulysses       | nacional   | café          | número     |\n",
            "+----+---------------+------------+---------------+------------+\n",
            "\n",
            "\n"
          ],
          "name": "stdout"
        }
      ]
    },
    {
      "cell_type": "markdown",
      "metadata": {
        "id": "d-18KBdFjt30",
        "colab_type": "text"
      },
      "source": [
        "De acordo com os resultados produzidos, é possível observar que o EMIM apresenta palavras mais condizentes com os termos correspondentes. A métrica Dice também possui bons resultados, no entanto as palavras produzidas são mais gerais, ao contrário do EMIM, que ao meu modo de ver, é um pouco mais específico."
      ]
    },
    {
      "cell_type": "markdown",
      "metadata": {
        "id": "P-w8_HXVN9U5",
        "colab_type": "text"
      },
      "source": [
        "## Questão 2"
      ]
    },
    {
      "cell_type": "code",
      "metadata": {
        "id": "zH8jOgRoXTiW",
        "colab_type": "code",
        "colab": {}
      },
      "source": [
        "# retorna item composto por score,document\n",
        "\n",
        "def term_at_time(query, index, k=100):\n",
        "  query_words = query.split()    \n",
        "  inverted_lists = []\n",
        "  acc = {}\n",
        "\n",
        "  for word in query_words:\n",
        "    if word in index.keys():\n",
        "      inverted_lists.append(index[word])\n",
        "\n",
        "  for lst in inverted_lists:\n",
        "    for posting in lst:\n",
        "      d = posting[0]\n",
        "      freq = posting[1]\n",
        "      if d in acc.keys():\n",
        "        acc[d] = acc[d] + freq\n",
        "      else:\n",
        "        acc[d] = freq\n",
        "  \n",
        "  priority_queue = list(map(lambda elem: (elem[1],elem[0]), acc.items()))\n",
        "  \n",
        "  hp._heapify_max(priority_queue)\n",
        "  \n",
        "  top_k = []\n",
        "  \n",
        "  for i in range(1,k+1):\n",
        "    if priority_queue != []:\n",
        "      top = hp._heappop_max(priority_queue)\n",
        "      top_k.append(top)\n",
        "  \n",
        "  return top_k"
      ],
      "execution_count": 0,
      "outputs": []
    },
    {
      "cell_type": "code",
      "metadata": {
        "colab_type": "code",
        "id": "SC-2gOsnUfi4",
        "colab": {}
      },
      "source": [
        "pd.options.display.max_colwidth = 500\n",
        "\n",
        "def print_docs(query):\n",
        "  query_result = term_at_time(query,index,10)\n",
        "  doc_list = [doc for score,doc in query_result]\n",
        "  print(\"Os top 10 documentos processados para \\\"\" + query + \"\\\" foram:\", doc_list)\n",
        "  return doc_list\n",
        "\n",
        "def print_title(doc_list): \n",
        "  return data.loc[list(map(lambda x: x-1, doc_list))][['title','subtitle']]\n",
        "\n",
        "def get_similar_terms(query, k):\n",
        "  return query + \" \" + \" \".join(list(expected_mutual_info(query).keys())[:k])"
      ],
      "execution_count": 0,
      "outputs": []
    },
    {
      "cell_type": "markdown",
      "metadata": {
        "id": "ajvbP4o_OGDn",
        "colab_type": "text"
      },
      "source": [
        "Temos que \"educação\" é a primeira palavra dentro do conjunto de queries definido. Vamos observar o comportamento desse termo para o processamento dessa consulta. Observaremos os títulos e subtitulos dos documentos."
      ]
    },
    {
      "cell_type": "code",
      "metadata": {
        "id": "VhUpif8nOqTe",
        "colab_type": "code",
        "colab": {
          "base_uri": "https://localhost:8080/",
          "height": 34
        },
        "outputId": "0458325c-7c1a-4434-c353-615310e5c8fe"
      },
      "source": [
        "query = \"educação\"\n",
        "docs = print_docs(query)"
      ],
      "execution_count": 200,
      "outputs": [
        {
          "output_type": "stream",
          "text": [
            "Os top 10 documentos processados para \"educação\" foram: [221, 222, 130, 239, 160, 37, 215, 110, 233, 205]\n"
          ],
          "name": "stdout"
        }
      ]
    },
    {
      "cell_type": "code",
      "metadata": {
        "id": "DD_Ub4wNPk8L",
        "colab_type": "code",
        "colab": {
          "base_uri": "https://localhost:8080/",
          "height": 485
        },
        "outputId": "01b97e07-4905-4337-9ce5-50026111a7e4"
      },
      "source": [
        "print_title(docs)"
      ],
      "execution_count": 201,
      "outputs": [
        {
          "output_type": "execute_result",
          "data": {
            "text/html": [
              "<div>\n",
              "<style scoped>\n",
              "    .dataframe tbody tr th:only-of-type {\n",
              "        vertical-align: middle;\n",
              "    }\n",
              "\n",
              "    .dataframe tbody tr th {\n",
              "        vertical-align: top;\n",
              "    }\n",
              "\n",
              "    .dataframe thead th {\n",
              "        text-align: right;\n",
              "    }\n",
              "</style>\n",
              "<table border=\"1\" class=\"dataframe\">\n",
              "  <thead>\n",
              "    <tr style=\"text-align: right;\">\n",
              "      <th></th>\n",
              "      <th>title</th>\n",
              "      <th>subtitle</th>\n",
              "    </tr>\n",
              "  </thead>\n",
              "  <tbody>\n",
              "    <tr>\n",
              "      <th>220</th>\n",
              "      <td>“A gente está vendo a corrosão geral das políticas estabelecidas no MEC”</td>\n",
              "      <td>Para diretor da Ação Educativa  pautas reais vêm sendo abandonadas por questões ideológicas.</td>\n",
              "    </tr>\n",
              "    <tr>\n",
              "      <th>221</th>\n",
              "      <td>A jovem deputada que jogou contra as cordas o ministro da Educação e sua “lista de desejos”</td>\n",
              "      <td>Neófita no Congresso  Tabata Amaral (PDT-SP) sugere que Ricardo Vélez se demita do MEC  o deixa em silêncio  e agrava ainda mais a situação do ministro olavista de Bolsonaro</td>\n",
              "    </tr>\n",
              "    <tr>\n",
              "      <th>129</th>\n",
              "      <td>A universidade que quer oferecer uma educação do nível de Harvard pela metade do preço</td>\n",
              "      <td>Chama-se Minerva  e seus alunos estudam em sete cidades espalhadas pelo mundo  provocando uma revolução no panorama universitário dos EUA</td>\n",
              "    </tr>\n",
              "    <tr>\n",
              "      <th>238</th>\n",
              "      <td>Saúde mental dos estudantes  mais um desafio para as escolas brasileiras</td>\n",
              "      <td>Massacre de Suzano reabre debate sobre papel das instituições de ensino em identificar transtornos psiquiátricos. 80% dos alunos da rede pública com algum problema não recebem tratamento</td>\n",
              "    </tr>\n",
              "    <tr>\n",
              "      <th>159</th>\n",
              "      <td>Querer colocar a Bíblia no centro da educação escolar significa devolver o Brasil às cavernas</td>\n",
              "      <td>A ideia do novo Governo ultraconservador de Bolsonaro é colocar a Bíblia no centro do ensino  não somente como matéria religiosa  e sim para servir de base até para matérias como matemática  história e geografia</td>\n",
              "    </tr>\n",
              "    <tr>\n",
              "      <th>36</th>\n",
              "      <td>Os percalços dos planos A e B de Paulo Guedes para controlar o gasto público</td>\n",
              "      <td>Superministro propõe incluir sistema de capitalização em reforma da Previdência. Ele já pôs na mesa banir regras de gasto obrigatório com saúde e educação</td>\n",
              "    </tr>\n",
              "    <tr>\n",
              "      <th>214</th>\n",
              "      <td>Bolsonaro X Maia  a trama se adensa enquanto o dólar tem forte alta</td>\n",
              "      <td>Investidores expressaram cautela em meio a mais um dia de trocas de farpas.</td>\n",
              "    </tr>\n",
              "    <tr>\n",
              "      <th>109</th>\n",
              "      <td>Só sete jovens negros no Olimpo da educação pública de Nova York</td>\n",
              "      <td>O célebre colégio Stuyvesant se torna também o epicentro da segregação: apenas 7 dos 895 novos alunos para o próximo ano letivo são afro-americanos  enquanto três quartos são asiáticos</td>\n",
              "    </tr>\n",
              "    <tr>\n",
              "      <th>232</th>\n",
              "      <td>Ministro promete mudar livros didáticos por “visão mais ampla” da ditadura</td>\n",
              "      <td>Em entrevista ao 'Valor'  Ricardo Vélez  da Educação  diz que não ocorreu um golpe em 1964</td>\n",
              "    </tr>\n",
              "    <tr>\n",
              "      <th>204</th>\n",
              "      <td>A guerra de todos contra todos no Governo Bolsonaro</td>\n",
              "      <td>Com chamado aberto à comemoração do golpe de 1964  presidente dobra sua aposta na polarização política</td>\n",
              "    </tr>\n",
              "  </tbody>\n",
              "</table>\n",
              "</div>"
            ],
            "text/plain": [
              "                                                                                             title                                                                                                                                                                                                             subtitle\n",
              "220                       “A gente está vendo a corrosão geral das políticas estabelecidas no MEC”                                                                                                                         Para diretor da Ação Educativa  pautas reais vêm sendo abandonadas por questões ideológicas.\n",
              "221    A jovem deputada que jogou contra as cordas o ministro da Educação e sua “lista de desejos”                                        Neófita no Congresso  Tabata Amaral (PDT-SP) sugere que Ricardo Vélez se demita do MEC  o deixa em silêncio  e agrava ainda mais a situação do ministro olavista de Bolsonaro\n",
              "129         A universidade que quer oferecer uma educação do nível de Harvard pela metade do preço                                                                            Chama-se Minerva  e seus alunos estudam em sete cidades espalhadas pelo mundo  provocando uma revolução no panorama universitário dos EUA\n",
              "238                       Saúde mental dos estudantes  mais um desafio para as escolas brasileiras                           Massacre de Suzano reabre debate sobre papel das instituições de ensino em identificar transtornos psiquiátricos. 80% dos alunos da rede pública com algum problema não recebem tratamento\n",
              "159  Querer colocar a Bíblia no centro da educação escolar significa devolver o Brasil às cavernas  A ideia do novo Governo ultraconservador de Bolsonaro é colocar a Bíblia no centro do ensino  não somente como matéria religiosa  e sim para servir de base até para matérias como matemática  história e geografia\n",
              "36                    Os percalços dos planos A e B de Paulo Guedes para controlar o gasto público                                                           Superministro propõe incluir sistema de capitalização em reforma da Previdência. Ele já pôs na mesa banir regras de gasto obrigatório com saúde e educação\n",
              "214                            Bolsonaro X Maia  a trama se adensa enquanto o dólar tem forte alta                                                                                                                                          Investidores expressaram cautela em meio a mais um dia de trocas de farpas.\n",
              "109                               Só sete jovens negros no Olimpo da educação pública de Nova York                             O célebre colégio Stuyvesant se torna também o epicentro da segregação: apenas 7 dos 895 novos alunos para o próximo ano letivo são afro-americanos  enquanto três quartos são asiáticos\n",
              "232                     Ministro promete mudar livros didáticos por “visão mais ampla” da ditadura                                                                                                                           Em entrevista ao 'Valor'  Ricardo Vélez  da Educação  diz que não ocorreu um golpe em 1964\n",
              "204                                            A guerra de todos contra todos no Governo Bolsonaro                                                                                                               Com chamado aberto à comemoração do golpe de 1964  presidente dobra sua aposta na polarização política"
            ]
          },
          "metadata": {
            "tags": []
          },
          "execution_count": 201
        }
      ]
    },
    {
      "cell_type": "markdown",
      "metadata": {
        "id": "moqqpkOBS8bb",
        "colab_type": "text"
      },
      "source": [
        "A query será expandida para os top-3 termos de acordo com o método usado na questão 1."
      ]
    },
    {
      "cell_type": "code",
      "metadata": {
        "id": "b7ahTS8IVYCd",
        "colab_type": "code",
        "colab": {
          "base_uri": "https://localhost:8080/",
          "height": 34
        },
        "outputId": "5447c3fe-92e9-4324-87df-02f6e43fe55e"
      },
      "source": [
        "q3 = get_similar_terms(query, 3)\n",
        "docs = print_docs(q3)"
      ],
      "execution_count": 191,
      "outputs": [
        {
          "output_type": "stream",
          "text": [
            "Os top 10 documentos processados para \"educação social alunos escolas\" foram: [221, 239, 130, 110, 222, 214, 203, 248, 160, 215]\n"
          ],
          "name": "stdout"
        }
      ]
    },
    {
      "cell_type": "code",
      "metadata": {
        "id": "2nSnb1oQWg75",
        "colab_type": "code",
        "colab": {
          "base_uri": "https://localhost:8080/",
          "height": 485
        },
        "outputId": "ee9ccdbb-0d8f-4b80-bd61-a8cc180c529b"
      },
      "source": [
        "print_title(docs)"
      ],
      "execution_count": 192,
      "outputs": [
        {
          "output_type": "execute_result",
          "data": {
            "text/html": [
              "<div>\n",
              "<style scoped>\n",
              "    .dataframe tbody tr th:only-of-type {\n",
              "        vertical-align: middle;\n",
              "    }\n",
              "\n",
              "    .dataframe tbody tr th {\n",
              "        vertical-align: top;\n",
              "    }\n",
              "\n",
              "    .dataframe thead th {\n",
              "        text-align: right;\n",
              "    }\n",
              "</style>\n",
              "<table border=\"1\" class=\"dataframe\">\n",
              "  <thead>\n",
              "    <tr style=\"text-align: right;\">\n",
              "      <th></th>\n",
              "      <th>title</th>\n",
              "      <th>subtitle</th>\n",
              "    </tr>\n",
              "  </thead>\n",
              "  <tbody>\n",
              "    <tr>\n",
              "      <th>220</th>\n",
              "      <td>“A gente está vendo a corrosão geral das políticas estabelecidas no MEC”</td>\n",
              "      <td>Para diretor da Ação Educativa  pautas reais vêm sendo abandonadas por questões ideológicas.</td>\n",
              "    </tr>\n",
              "    <tr>\n",
              "      <th>238</th>\n",
              "      <td>Saúde mental dos estudantes  mais um desafio para as escolas brasileiras</td>\n",
              "      <td>Massacre de Suzano reabre debate sobre papel das instituições de ensino em identificar transtornos psiquiátricos. 80% dos alunos da rede pública com algum problema não recebem tratamento</td>\n",
              "    </tr>\n",
              "    <tr>\n",
              "      <th>129</th>\n",
              "      <td>A universidade que quer oferecer uma educação do nível de Harvard pela metade do preço</td>\n",
              "      <td>Chama-se Minerva  e seus alunos estudam em sete cidades espalhadas pelo mundo  provocando uma revolução no panorama universitário dos EUA</td>\n",
              "    </tr>\n",
              "    <tr>\n",
              "      <th>109</th>\n",
              "      <td>Só sete jovens negros no Olimpo da educação pública de Nova York</td>\n",
              "      <td>O célebre colégio Stuyvesant se torna também o epicentro da segregação: apenas 7 dos 895 novos alunos para o próximo ano letivo são afro-americanos  enquanto três quartos são asiáticos</td>\n",
              "    </tr>\n",
              "    <tr>\n",
              "      <th>221</th>\n",
              "      <td>A jovem deputada que jogou contra as cordas o ministro da Educação e sua “lista de desejos”</td>\n",
              "      <td>Neófita no Congresso  Tabata Amaral (PDT-SP) sugere que Ricardo Vélez se demita do MEC  o deixa em silêncio  e agrava ainda mais a situação do ministro olavista de Bolsonaro</td>\n",
              "    </tr>\n",
              "    <tr>\n",
              "      <th>213</th>\n",
              "      <td>A tensão em escolas e universidades na esteira do massacre de Suzano</td>\n",
              "      <td>Instituições buscam formas para lidar com ameaças  várias delas já identificadas pelas autoridades policiais como trote de adolescentes</td>\n",
              "    </tr>\n",
              "    <tr>\n",
              "      <th>202</th>\n",
              "      <td>Bolsonaro e o desenvolvimento dos filhos do Bolsa Família: o que os pesquisadores realmente dizem</td>\n",
              "      <td>Presidente afirmou de forma imprecisa que estudo do Governo chegou a conclusão que o desenvolvimento intelectual de crianças do programa equivalia a 1/3 da média mundial</td>\n",
              "    </tr>\n",
              "    <tr>\n",
              "      <th>247</th>\n",
              "      <td>Tatiana Roque: “O problema da esquerda não é a pauta dita identitária  mas sim a lacração”</td>\n",
              "      <td>Para filósofa e matemática  campo progressista deve se opor à reforma da Previdência de Bolsonaro apresentando seu próprio projeto. Defende que a renovação deve vir a partir dos municípios</td>\n",
              "    </tr>\n",
              "    <tr>\n",
              "      <th>159</th>\n",
              "      <td>Querer colocar a Bíblia no centro da educação escolar significa devolver o Brasil às cavernas</td>\n",
              "      <td>A ideia do novo Governo ultraconservador de Bolsonaro é colocar a Bíblia no centro do ensino  não somente como matéria religiosa  e sim para servir de base até para matérias como matemática  história e geografia</td>\n",
              "    </tr>\n",
              "    <tr>\n",
              "      <th>214</th>\n",
              "      <td>Bolsonaro X Maia  a trama se adensa enquanto o dólar tem forte alta</td>\n",
              "      <td>Investidores expressaram cautela em meio a mais um dia de trocas de farpas.</td>\n",
              "    </tr>\n",
              "  </tbody>\n",
              "</table>\n",
              "</div>"
            ],
            "text/plain": [
              "                                                                                                 title                                                                                                                                                                                                             subtitle\n",
              "220                           “A gente está vendo a corrosão geral das políticas estabelecidas no MEC”                                                                                                                         Para diretor da Ação Educativa  pautas reais vêm sendo abandonadas por questões ideológicas.\n",
              "238                           Saúde mental dos estudantes  mais um desafio para as escolas brasileiras                           Massacre de Suzano reabre debate sobre papel das instituições de ensino em identificar transtornos psiquiátricos. 80% dos alunos da rede pública com algum problema não recebem tratamento\n",
              "129             A universidade que quer oferecer uma educação do nível de Harvard pela metade do preço                                                                            Chama-se Minerva  e seus alunos estudam em sete cidades espalhadas pelo mundo  provocando uma revolução no panorama universitário dos EUA\n",
              "109                                   Só sete jovens negros no Olimpo da educação pública de Nova York                             O célebre colégio Stuyvesant se torna também o epicentro da segregação: apenas 7 dos 895 novos alunos para o próximo ano letivo são afro-americanos  enquanto três quartos são asiáticos\n",
              "221        A jovem deputada que jogou contra as cordas o ministro da Educação e sua “lista de desejos”                                        Neófita no Congresso  Tabata Amaral (PDT-SP) sugere que Ricardo Vélez se demita do MEC  o deixa em silêncio  e agrava ainda mais a situação do ministro olavista de Bolsonaro\n",
              "213                               A tensão em escolas e universidades na esteira do massacre de Suzano                                                                              Instituições buscam formas para lidar com ameaças  várias delas já identificadas pelas autoridades policiais como trote de adolescentes\n",
              "202  Bolsonaro e o desenvolvimento dos filhos do Bolsa Família: o que os pesquisadores realmente dizem                                            Presidente afirmou de forma imprecisa que estudo do Governo chegou a conclusão que o desenvolvimento intelectual de crianças do programa equivalia a 1/3 da média mundial\n",
              "247         Tatiana Roque: “O problema da esquerda não é a pauta dita identitária  mas sim a lacração”                         Para filósofa e matemática  campo progressista deve se opor à reforma da Previdência de Bolsonaro apresentando seu próprio projeto. Defende que a renovação deve vir a partir dos municípios\n",
              "159      Querer colocar a Bíblia no centro da educação escolar significa devolver o Brasil às cavernas  A ideia do novo Governo ultraconservador de Bolsonaro é colocar a Bíblia no centro do ensino  não somente como matéria religiosa  e sim para servir de base até para matérias como matemática  história e geografia\n",
              "214                                Bolsonaro X Maia  a trama se adensa enquanto o dólar tem forte alta                                                                                                                                          Investidores expressaram cautela em meio a mais um dia de trocas de farpas."
            ]
          },
          "metadata": {
            "tags": []
          },
          "execution_count": 192
        }
      ]
    },
    {
      "cell_type": "markdown",
      "metadata": {
        "id": "lVDU8mTqXgWN",
        "colab_type": "text"
      },
      "source": [
        "Agora, a query expandida para os top-5 termos."
      ]
    },
    {
      "cell_type": "code",
      "metadata": {
        "id": "bG5GGLh1WpaW",
        "colab_type": "code",
        "colab": {
          "base_uri": "https://localhost:8080/",
          "height": 34
        },
        "outputId": "4e6eb11c-eb0e-42bc-af9c-61bfc2cd1095"
      },
      "source": [
        "q5 = get_similar_terms(query, 5)\n",
        "docs = print_docs(q5)"
      ],
      "execution_count": 193,
      "outputs": [
        {
          "output_type": "stream",
          "text": [
            "Os top 10 documentos processados para \"educação social alunos escolas discurso escola\" foram: [239, 221, 130, 214, 110, 222, 203, 160, 115, 37]\n"
          ],
          "name": "stdout"
        }
      ]
    },
    {
      "cell_type": "code",
      "metadata": {
        "id": "mtgG2IEVWtMi",
        "colab_type": "code",
        "colab": {
          "base_uri": "https://localhost:8080/",
          "height": 485
        },
        "outputId": "1658df36-6e59-4273-c52a-29edeb6e7d40"
      },
      "source": [
        "print_title(docs)"
      ],
      "execution_count": 194,
      "outputs": [
        {
          "output_type": "execute_result",
          "data": {
            "text/html": [
              "<div>\n",
              "<style scoped>\n",
              "    .dataframe tbody tr th:only-of-type {\n",
              "        vertical-align: middle;\n",
              "    }\n",
              "\n",
              "    .dataframe tbody tr th {\n",
              "        vertical-align: top;\n",
              "    }\n",
              "\n",
              "    .dataframe thead th {\n",
              "        text-align: right;\n",
              "    }\n",
              "</style>\n",
              "<table border=\"1\" class=\"dataframe\">\n",
              "  <thead>\n",
              "    <tr style=\"text-align: right;\">\n",
              "      <th></th>\n",
              "      <th>title</th>\n",
              "      <th>subtitle</th>\n",
              "    </tr>\n",
              "  </thead>\n",
              "  <tbody>\n",
              "    <tr>\n",
              "      <th>238</th>\n",
              "      <td>Saúde mental dos estudantes  mais um desafio para as escolas brasileiras</td>\n",
              "      <td>Massacre de Suzano reabre debate sobre papel das instituições de ensino em identificar transtornos psiquiátricos. 80% dos alunos da rede pública com algum problema não recebem tratamento</td>\n",
              "    </tr>\n",
              "    <tr>\n",
              "      <th>220</th>\n",
              "      <td>“A gente está vendo a corrosão geral das políticas estabelecidas no MEC”</td>\n",
              "      <td>Para diretor da Ação Educativa  pautas reais vêm sendo abandonadas por questões ideológicas.</td>\n",
              "    </tr>\n",
              "    <tr>\n",
              "      <th>129</th>\n",
              "      <td>A universidade que quer oferecer uma educação do nível de Harvard pela metade do preço</td>\n",
              "      <td>Chama-se Minerva  e seus alunos estudam em sete cidades espalhadas pelo mundo  provocando uma revolução no panorama universitário dos EUA</td>\n",
              "    </tr>\n",
              "    <tr>\n",
              "      <th>213</th>\n",
              "      <td>A tensão em escolas e universidades na esteira do massacre de Suzano</td>\n",
              "      <td>Instituições buscam formas para lidar com ameaças  várias delas já identificadas pelas autoridades policiais como trote de adolescentes</td>\n",
              "    </tr>\n",
              "    <tr>\n",
              "      <th>109</th>\n",
              "      <td>Só sete jovens negros no Olimpo da educação pública de Nova York</td>\n",
              "      <td>O célebre colégio Stuyvesant se torna também o epicentro da segregação: apenas 7 dos 895 novos alunos para o próximo ano letivo são afro-americanos  enquanto três quartos são asiáticos</td>\n",
              "    </tr>\n",
              "    <tr>\n",
              "      <th>221</th>\n",
              "      <td>A jovem deputada que jogou contra as cordas o ministro da Educação e sua “lista de desejos”</td>\n",
              "      <td>Neófita no Congresso  Tabata Amaral (PDT-SP) sugere que Ricardo Vélez se demita do MEC  o deixa em silêncio  e agrava ainda mais a situação do ministro olavista de Bolsonaro</td>\n",
              "    </tr>\n",
              "    <tr>\n",
              "      <th>202</th>\n",
              "      <td>Bolsonaro e o desenvolvimento dos filhos do Bolsa Família: o que os pesquisadores realmente dizem</td>\n",
              "      <td>Presidente afirmou de forma imprecisa que estudo do Governo chegou a conclusão que o desenvolvimento intelectual de crianças do programa equivalia a 1/3 da média mundial</td>\n",
              "    </tr>\n",
              "    <tr>\n",
              "      <th>159</th>\n",
              "      <td>Querer colocar a Bíblia no centro da educação escolar significa devolver o Brasil às cavernas</td>\n",
              "      <td>A ideia do novo Governo ultraconservador de Bolsonaro é colocar a Bíblia no centro do ensino  não somente como matéria religiosa  e sim para servir de base até para matérias como matemática  história e geografia</td>\n",
              "    </tr>\n",
              "    <tr>\n",
              "      <th>114</th>\n",
              "      <td>Esportes vivem paralisia sem planos detalhados e nomeações travadas</td>\n",
              "      <td>Rebaixada de ministério a secretaria  política esportiva de Bolsonaro espelha modelo do regime ditatorial  com militares na linha de frente  engessada pela falta de autonomia</td>\n",
              "    </tr>\n",
              "    <tr>\n",
              "      <th>36</th>\n",
              "      <td>Os percalços dos planos A e B de Paulo Guedes para controlar o gasto público</td>\n",
              "      <td>Superministro propõe incluir sistema de capitalização em reforma da Previdência. Ele já pôs na mesa banir regras de gasto obrigatório com saúde e educação</td>\n",
              "    </tr>\n",
              "  </tbody>\n",
              "</table>\n",
              "</div>"
            ],
            "text/plain": [
              "                                                                                                 title                                                                                                                                                                                                             subtitle\n",
              "238                           Saúde mental dos estudantes  mais um desafio para as escolas brasileiras                           Massacre de Suzano reabre debate sobre papel das instituições de ensino em identificar transtornos psiquiátricos. 80% dos alunos da rede pública com algum problema não recebem tratamento\n",
              "220                           “A gente está vendo a corrosão geral das políticas estabelecidas no MEC”                                                                                                                         Para diretor da Ação Educativa  pautas reais vêm sendo abandonadas por questões ideológicas.\n",
              "129             A universidade que quer oferecer uma educação do nível de Harvard pela metade do preço                                                                            Chama-se Minerva  e seus alunos estudam em sete cidades espalhadas pelo mundo  provocando uma revolução no panorama universitário dos EUA\n",
              "213                               A tensão em escolas e universidades na esteira do massacre de Suzano                                                                              Instituições buscam formas para lidar com ameaças  várias delas já identificadas pelas autoridades policiais como trote de adolescentes\n",
              "109                                   Só sete jovens negros no Olimpo da educação pública de Nova York                             O célebre colégio Stuyvesant se torna também o epicentro da segregação: apenas 7 dos 895 novos alunos para o próximo ano letivo são afro-americanos  enquanto três quartos são asiáticos\n",
              "221        A jovem deputada que jogou contra as cordas o ministro da Educação e sua “lista de desejos”                                        Neófita no Congresso  Tabata Amaral (PDT-SP) sugere que Ricardo Vélez se demita do MEC  o deixa em silêncio  e agrava ainda mais a situação do ministro olavista de Bolsonaro\n",
              "202  Bolsonaro e o desenvolvimento dos filhos do Bolsa Família: o que os pesquisadores realmente dizem                                            Presidente afirmou de forma imprecisa que estudo do Governo chegou a conclusão que o desenvolvimento intelectual de crianças do programa equivalia a 1/3 da média mundial\n",
              "159      Querer colocar a Bíblia no centro da educação escolar significa devolver o Brasil às cavernas  A ideia do novo Governo ultraconservador de Bolsonaro é colocar a Bíblia no centro do ensino  não somente como matéria religiosa  e sim para servir de base até para matérias como matemática  história e geografia\n",
              "114                                Esportes vivem paralisia sem planos detalhados e nomeações travadas                                       Rebaixada de ministério a secretaria  política esportiva de Bolsonaro espelha modelo do regime ditatorial  com militares na linha de frente  engessada pela falta de autonomia\n",
              "36                        Os percalços dos planos A e B de Paulo Guedes para controlar o gasto público                                                           Superministro propõe incluir sistema de capitalização em reforma da Previdência. Ele já pôs na mesa banir regras de gasto obrigatório com saúde e educação"
            ]
          },
          "metadata": {
            "tags": []
          },
          "execution_count": 194
        }
      ]
    },
    {
      "cell_type": "markdown",
      "metadata": {
        "id": "q4PWm60YXn5R",
        "colab_type": "text"
      },
      "source": [
        "Por último, query expandida para os top-10 termos."
      ]
    },
    {
      "cell_type": "code",
      "metadata": {
        "id": "mn7Ytc_6Ww84",
        "colab_type": "code",
        "colab": {
          "base_uri": "https://localhost:8080/",
          "height": 34
        },
        "outputId": "b230887f-dc00-4b7f-98bf-05b6e8908e1c"
      },
      "source": [
        "q10 = get_similar_terms(query, 10)\n",
        "docs = print_docs(q10)"
      ],
      "execution_count": 195,
      "outputs": [
        {
          "output_type": "stream",
          "text": [
            "Os top 10 documentos processados para \"educação social alunos escolas discurso escola governo mudanças comissão vélez pasta\" foram: [221, 239, 115, 130, 248, 222, 214, 173, 166, 215]\n"
          ],
          "name": "stdout"
        }
      ]
    },
    {
      "cell_type": "code",
      "metadata": {
        "id": "v_Cqf304W04F",
        "colab_type": "code",
        "colab": {
          "base_uri": "https://localhost:8080/",
          "height": 450
        },
        "outputId": "ad056979-f3d8-4e5f-99a6-ba92664a508d"
      },
      "source": [
        "print_title(docs)"
      ],
      "execution_count": 196,
      "outputs": [
        {
          "output_type": "execute_result",
          "data": {
            "text/html": [
              "<div>\n",
              "<style scoped>\n",
              "    .dataframe tbody tr th:only-of-type {\n",
              "        vertical-align: middle;\n",
              "    }\n",
              "\n",
              "    .dataframe tbody tr th {\n",
              "        vertical-align: top;\n",
              "    }\n",
              "\n",
              "    .dataframe thead th {\n",
              "        text-align: right;\n",
              "    }\n",
              "</style>\n",
              "<table border=\"1\" class=\"dataframe\">\n",
              "  <thead>\n",
              "    <tr style=\"text-align: right;\">\n",
              "      <th></th>\n",
              "      <th>title</th>\n",
              "      <th>subtitle</th>\n",
              "    </tr>\n",
              "  </thead>\n",
              "  <tbody>\n",
              "    <tr>\n",
              "      <th>220</th>\n",
              "      <td>“A gente está vendo a corrosão geral das políticas estabelecidas no MEC”</td>\n",
              "      <td>Para diretor da Ação Educativa  pautas reais vêm sendo abandonadas por questões ideológicas.</td>\n",
              "    </tr>\n",
              "    <tr>\n",
              "      <th>238</th>\n",
              "      <td>Saúde mental dos estudantes  mais um desafio para as escolas brasileiras</td>\n",
              "      <td>Massacre de Suzano reabre debate sobre papel das instituições de ensino em identificar transtornos psiquiátricos. 80% dos alunos da rede pública com algum problema não recebem tratamento</td>\n",
              "    </tr>\n",
              "    <tr>\n",
              "      <th>114</th>\n",
              "      <td>Esportes vivem paralisia sem planos detalhados e nomeações travadas</td>\n",
              "      <td>Rebaixada de ministério a secretaria  política esportiva de Bolsonaro espelha modelo do regime ditatorial  com militares na linha de frente  engessada pela falta de autonomia</td>\n",
              "    </tr>\n",
              "    <tr>\n",
              "      <th>129</th>\n",
              "      <td>A universidade que quer oferecer uma educação do nível de Harvard pela metade do preço</td>\n",
              "      <td>Chama-se Minerva  e seus alunos estudam em sete cidades espalhadas pelo mundo  provocando uma revolução no panorama universitário dos EUA</td>\n",
              "    </tr>\n",
              "    <tr>\n",
              "      <th>247</th>\n",
              "      <td>Tatiana Roque: “O problema da esquerda não é a pauta dita identitária  mas sim a lacração”</td>\n",
              "      <td>Para filósofa e matemática  campo progressista deve se opor à reforma da Previdência de Bolsonaro apresentando seu próprio projeto. Defende que a renovação deve vir a partir dos municípios</td>\n",
              "    </tr>\n",
              "    <tr>\n",
              "      <th>221</th>\n",
              "      <td>A jovem deputada que jogou contra as cordas o ministro da Educação e sua “lista de desejos”</td>\n",
              "      <td>Neófita no Congresso  Tabata Amaral (PDT-SP) sugere que Ricardo Vélez se demita do MEC  o deixa em silêncio  e agrava ainda mais a situação do ministro olavista de Bolsonaro</td>\n",
              "    </tr>\n",
              "    <tr>\n",
              "      <th>213</th>\n",
              "      <td>A tensão em escolas e universidades na esteira do massacre de Suzano</td>\n",
              "      <td>Instituições buscam formas para lidar com ameaças  várias delas já identificadas pelas autoridades policiais como trote de adolescentes</td>\n",
              "    </tr>\n",
              "    <tr>\n",
              "      <th>172</th>\n",
              "      <td>Não temos tempo a perder. A hora de unir as forças democráticas é agora</td>\n",
              "      <td>Essa articulação requererá deixar de lado diferenças e firmar um compromisso pela defesa do interesse da sociedade brasileira como um todo</td>\n",
              "    </tr>\n",
              "    <tr>\n",
              "      <th>165</th>\n",
              "      <td>Bolsonaro manda festejar o crime</td>\n",
              "      <td>Ao determinar a comemoração do golpe militar de 1964  o antipresidente busca manter o ódio ativo e barrar qualquer possibilidade de justiça</td>\n",
              "    </tr>\n",
              "    <tr>\n",
              "      <th>214</th>\n",
              "      <td>Bolsonaro X Maia  a trama se adensa enquanto o dólar tem forte alta</td>\n",
              "      <td>Investidores expressaram cautela em meio a mais um dia de trocas de farpas.</td>\n",
              "    </tr>\n",
              "  </tbody>\n",
              "</table>\n",
              "</div>"
            ],
            "text/plain": [
              "                                                                                           title                                                                                                                                                                                      subtitle\n",
              "220                     “A gente está vendo a corrosão geral das políticas estabelecidas no MEC”                                                                                                  Para diretor da Ação Educativa  pautas reais vêm sendo abandonadas por questões ideológicas.\n",
              "238                     Saúde mental dos estudantes  mais um desafio para as escolas brasileiras    Massacre de Suzano reabre debate sobre papel das instituições de ensino em identificar transtornos psiquiátricos. 80% dos alunos da rede pública com algum problema não recebem tratamento\n",
              "114                          Esportes vivem paralisia sem planos detalhados e nomeações travadas                Rebaixada de ministério a secretaria  política esportiva de Bolsonaro espelha modelo do regime ditatorial  com militares na linha de frente  engessada pela falta de autonomia\n",
              "129       A universidade que quer oferecer uma educação do nível de Harvard pela metade do preço                                                     Chama-se Minerva  e seus alunos estudam em sete cidades espalhadas pelo mundo  provocando uma revolução no panorama universitário dos EUA\n",
              "247   Tatiana Roque: “O problema da esquerda não é a pauta dita identitária  mas sim a lacração”  Para filósofa e matemática  campo progressista deve se opor à reforma da Previdência de Bolsonaro apresentando seu próprio projeto. Defende que a renovação deve vir a partir dos municípios\n",
              "221  A jovem deputada que jogou contra as cordas o ministro da Educação e sua “lista de desejos”                 Neófita no Congresso  Tabata Amaral (PDT-SP) sugere que Ricardo Vélez se demita do MEC  o deixa em silêncio  e agrava ainda mais a situação do ministro olavista de Bolsonaro\n",
              "213                         A tensão em escolas e universidades na esteira do massacre de Suzano                                                       Instituições buscam formas para lidar com ameaças  várias delas já identificadas pelas autoridades policiais como trote de adolescentes\n",
              "172                      Não temos tempo a perder. A hora de unir as forças democráticas é agora                                                    Essa articulação requererá deixar de lado diferenças e firmar um compromisso pela defesa do interesse da sociedade brasileira como um todo\n",
              "165                                                             Bolsonaro manda festejar o crime                                                   Ao determinar a comemoração do golpe militar de 1964  o antipresidente busca manter o ódio ativo e barrar qualquer possibilidade de justiça\n",
              "214                          Bolsonaro X Maia  a trama se adensa enquanto o dólar tem forte alta                                                                                                                   Investidores expressaram cautela em meio a mais um dia de trocas de farpas."
            ]
          },
          "metadata": {
            "tags": []
          },
          "execution_count": 196
        }
      ]
    },
    {
      "cell_type": "markdown",
      "metadata": {
        "id": "m4o3woVrXsOZ",
        "colab_type": "text"
      },
      "source": [
        "É possível observar pelos títulos que a medida que realizamos as expansões o conteúdo dos mesmos tornou-se menos generalista, focando-se em conteúdo relacionado à educação, mas com forte viés político. Entretanto, isso é condizente com o termo \"governo\" é um dos termos que mais aparece em documentos, o que pode explicar essa tendência dos resultados apresentarem essa característica."
      ]
    }
  ]
}