{
 "cells": [
  {
   "cell_type": "code",
   "execution_count": 1,
   "metadata": {
    "colab": {},
    "colab_type": "code",
    "id": "CHnz8Cjc0sE5"
   },
   "outputs": [],
   "source": [
    "%%capture\n",
    "\n",
    "import pandas as pd\n",
    "import nltk\n",
    "from nltk.corpus import stopwords\n",
    "from nltk.tokenize import RegexpTokenizer\n",
    "from collections import Counter\n",
    "import math\n",
    "\n",
    "nltk.download('stopwords')"
   ]
  },
  {
   "cell_type": "code",
   "execution_count": 2,
   "metadata": {
    "colab": {},
    "colab_type": "code",
    "id": "NHKiVnrl1MG-"
   },
   "outputs": [],
   "source": [
    "data = pd.read_csv('https://raw.githubusercontent.com/dnrocha1/information_retrieval/master/lab02/data/results.csv')"
   ]
  },
  {
   "cell_type": "code",
   "execution_count": 3,
   "metadata": {
    "colab": {},
    "colab_type": "code",
    "id": "pxIXvmRY1NzW"
   },
   "outputs": [],
   "source": [
    "#pre-process\n",
    "\n",
    "stopwords = stopwords.words('portuguese')\n",
    "documents = data['text'].apply(lambda x: x.lower())\n",
    "\n",
    "regex = RegexpTokenizer(r'\\b[A-zÀ-ú-\\'\\d]{3,}')\n",
    "# tokens = regex.tokenize(texts)"
   ]
  },
  {
   "cell_type": "code",
   "execution_count": 4,
   "metadata": {
    "colab": {},
    "colab_type": "code",
    "id": "26JkzaIq1TGm"
   },
   "outputs": [],
   "source": [
    "M = len(documents)\n",
    "\n",
    "def build_index(documents=documents):\n",
    "  inverted_list = {}\n",
    "\n",
    "  n_doc = 0\n",
    "  for document in documents:\n",
    "    token = [w for w in regex.tokenize(document) if w not in stopwords]\n",
    "    counter = list(Counter(token).items())\n",
    "    for elem in counter:\n",
    "      key = elem[0]\n",
    "      freq = elem[1]\n",
    "      if key in inverted_list.keys():\n",
    "        if n_doc not in inverted_list[key][0]:\n",
    "          inverted_list[key].append((n_doc,freq))\n",
    "      else:\n",
    "        inverted_list[key] = [(n_doc,freq)]\n",
    "    n_doc += 1\n",
    "  \n",
    "  for elem in inverted_list:\n",
    "    k = len(inverted_list[elem])\n",
    "    idf = math.log((M+1)/k)\n",
    "    inverted_list[elem].append(idf)\n",
    "  \n",
    "  return inverted_list\n",
    "\n",
    "index = build_index()"
   ]
  },
  {
   "cell_type": "markdown",
   "metadata": {
    "colab_type": "text",
    "id": "jCfTNJ65SmI_"
   },
   "source": [
    "TENTAR MUDAR INTERNAMENTE NOS METODOS PRA NÃO TOKENIZAR E SIM BUSCAR A PARTIR DO INDICE"
   ]
  },
  {
   "cell_type": "code",
   "execution_count": 5,
   "metadata": {
    "colab": {
     "base_uri": "https://localhost:8080/",
     "height": 34
    },
    "colab_type": "code",
    "id": "_v1iocP61qe9",
    "outputId": "140d9c65-7528-405b-d1c1-253dfb774eaf"
   },
   "outputs": [
    {
     "data": {
      "text/plain": [
       "2"
      ]
     },
     "execution_count": 5,
     "metadata": {},
     "output_type": "execute_result"
    }
   ],
   "source": [
    "vocabulary = list(index.keys())\n",
    "\n",
    "def vec_model_bin(query,document,index=index):\n",
    "  q = {}\n",
    "  d = {}\n",
    "  \n",
    "  for word in vocabulary:\n",
    "    q[word] = 0\n",
    "    if word in query.split():\n",
    "      q[word] = 1\n",
    "      \n",
    "  tokens = [w for w in regex.tokenize(document) if w not in stopwords]\n",
    "  for word in vocabulary:\n",
    "    d[word] = 0\n",
    "    if word in list(set(tokens)):\n",
    "      d[word] = 1\n",
    "      \n",
    "  acc = 0\n",
    "  for word in vocabulary:\n",
    "    if q[word] > 0 and d[word] > 0:\n",
    "      acc = acc + q[word]*d[word]\n",
    "      \n",
    "  return acc\n",
    "\n",
    "vec_model_bin(\"forças armadas\",documents[149])"
   ]
  },
  {
   "cell_type": "code",
   "execution_count": 6,
   "metadata": {
    "colab": {
     "base_uri": "https://localhost:8080/",
     "height": 34
    },
    "colab_type": "code",
    "id": "7jQtEV8UPCSc",
    "outputId": "5d33107a-6c5d-4b7f-d437-5d9bfcdef63b"
   },
   "outputs": [
    {
     "data": {
      "text/plain": [
       "4"
      ]
     },
     "execution_count": 6,
     "metadata": {},
     "output_type": "execute_result"
    }
   ],
   "source": [
    "def vec_model_tf(query,document,index=index):\n",
    "  q = {}\n",
    "  d = {}\n",
    "  \n",
    "  for word in vocabulary:\n",
    "    q[word] = 0\n",
    "    if word in query.split():\n",
    "      q[word] = 1\n",
    "  \n",
    "  tokens = [w for w in regex.tokenize(document) if w not in stopwords]\n",
    "  counter = Counter(tokens)\n",
    "  \n",
    "  for word in vocabulary:\n",
    "    d[word] = 0\n",
    "    if word in list(counter.keys()):\n",
    "      d[word] = counter[word]\n",
    "      \n",
    "  acc = 0\n",
    "  for word in vocabulary:\n",
    "    if q[word] > 0 and d[word] > 0:\n",
    "      acc = acc + q[word]*d[word]\n",
    "      \n",
    "  return acc\n",
    "\n",
    "vec_model_tf(\"juíza federal\",documents[0])"
   ]
  },
  {
   "cell_type": "code",
   "execution_count": 7,
   "metadata": {
    "colab": {
     "base_uri": "https://localhost:8080/",
     "height": 34
    },
    "colab_type": "code",
    "id": "duyweJe3bCRu",
    "outputId": "a87f19ed-6c22-4b47-9340-5a962b0e1d77"
   },
   "outputs": [
    {
     "data": {
      "text/plain": [
       "1.6502599069543555"
      ]
     },
     "execution_count": 7,
     "metadata": {},
     "output_type": "execute_result"
    }
   ],
   "source": [
    "def vec_model_tf_idf(query,document,index=index):\n",
    "  q = {}\n",
    "  d = {}\n",
    "  \n",
    "  for word in vocabulary:\n",
    "    q[word] = 0\n",
    "    if word in query.split():\n",
    "      q[word] = 1\n",
    "  \n",
    "  tokens = [w for w in regex.tokenize(document) if w not in stopwords]\n",
    "  counter = Counter(tokens)\n",
    "  \n",
    "  for word in vocabulary:\n",
    "    d[word] = 0\n",
    "    if word in list(counter.keys()):\n",
    "      d[word] = counter[word]\n",
    "      \n",
    "  acc = 0\n",
    "  for word in vocabulary:\n",
    "    idf = index[word][-1]\n",
    "    if q[word] > 0 and d[word] > 0:\n",
    "      acc = acc + q[word]*d[word]*idf\n",
    "      \n",
    "  return acc\n",
    "\n",
    "vec_model_tf_idf(\"juíza federal\",documents[14])"
   ]
  },
  {
   "cell_type": "code",
   "execution_count": 8,
   "metadata": {
    "colab": {
     "base_uri": "https://localhost:8080/",
     "height": 34
    },
    "colab_type": "code",
    "id": "TRg3qe6KOevw",
    "outputId": "c6c2177d-64b9-4707-e122-579ed1114cbf"
   },
   "outputs": [
    {
     "data": {
      "text/plain": [
       "33.323497612614815"
      ]
     },
     "execution_count": 8,
     "metadata": {},
     "output_type": "execute_result"
    }
   ],
   "source": [
    "vec_model_tf_idf(\"forças armadas\", documents[149])\n",
    "# vec_model_tf(\"forças armadas\", documents[149])"
   ]
  },
  {
   "cell_type": "code",
   "execution_count": 9,
   "metadata": {
    "colab": {
     "base_uri": "https://localhost:8080/",
     "height": 34
    },
    "colab_type": "code",
    "id": "ymlll0NEWJmq",
    "outputId": "4e3faada-eff6-4b99-c0cf-afc3f5e0ef96"
   },
   "outputs": [
    {
     "data": {
      "text/plain": [
       "16.073889420086477"
      ]
     },
     "execution_count": 9,
     "metadata": {},
     "output_type": "execute_result"
    }
   ],
   "source": [
    "def bm25(query,document,k=1,index=index):\n",
    "  doc_tokens = [w for w in regex.tokenize(document) if w not in stopwords]\n",
    "  query_words = query.split()\n",
    "  \n",
    "  matched_words = list(set(doc_tokens) & set(query_words))\n",
    "  \n",
    "  score = 0\n",
    "  \n",
    "  for word in matched_words:\n",
    "    cwq = query_words.count(word)\n",
    "    cwd = doc_tokens.count(word)\n",
    "    dfw = len(index[word][:-1])\n",
    "    y = ((k+1)*cwd)/(cwd+k)\n",
    "    score += cwq * y * math.log((M+1)/dfw)\n",
    "  \n",
    "  return score\n",
    "\n",
    "bm25(\"forças armadas\",documents[149],k=5)"
   ]
  }
 ],
 "metadata": {
  "colab": {
   "collapsed_sections": [],
   "name": "vectorial_model.ipynb",
   "provenance": [],
   "version": "0.3.2"
  },
  "kernelspec": {
   "display_name": "Python 3",
   "language": "python",
   "name": "python3"
  },
  "language_info": {
   "codemirror_mode": {
    "name": "ipython",
    "version": 3
   },
   "file_extension": ".py",
   "mimetype": "text/x-python",
   "name": "python",
   "nbconvert_exporter": "python",
   "pygments_lexer": "ipython3",
   "version": "3.7.1"
  }
 },
 "nbformat": 4,
 "nbformat_minor": 1
}
