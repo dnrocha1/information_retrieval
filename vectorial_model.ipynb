{
  "nbformat": 4,
  "nbformat_minor": 0,
  "metadata": {
    "colab": {
      "name": "vectorial_model.ipynb",
      "version": "0.3.2",
      "provenance": [],
      "collapsed_sections": []
    },
    "kernelspec": {
      "name": "python3",
      "display_name": "Python 3"
    }
  },
  "cells": [
    {
      "cell_type": "code",
      "metadata": {
        "id": "CHnz8Cjc0sE5",
        "colab_type": "code",
        "colab": {}
      },
      "source": [
        "%%capture\n",
        "\n",
        "import pandas as pd\n",
        "import nltk\n",
        "from nltk.corpus import stopwords\n",
        "from nltk.tokenize import RegexpTokenizer\n",
        "from collections import Counter\n",
        "import math\n",
        "from tabulate import tabulate\n",
        "\n",
        "nltk.download('stopwords')"
      ],
      "execution_count": 0,
      "outputs": []
    },
    {
      "cell_type": "code",
      "metadata": {
        "id": "NHKiVnrl1MG-",
        "colab_type": "code",
        "colab": {}
      },
      "source": [
        "data = pd.read_csv('https://raw.githubusercontent.com/dnrocha1/information_retrieval/master/lab02/data/results.csv')"
      ],
      "execution_count": 0,
      "outputs": []
    },
    {
      "cell_type": "code",
      "metadata": {
        "id": "pxIXvmRY1NzW",
        "colab_type": "code",
        "colab": {}
      },
      "source": [
        "#pre-process\n",
        "\n",
        "stopwords = stopwords.words('portuguese')\n",
        "documents = data['text'].apply(lambda x: x.lower())\n",
        "\n",
        "regex = RegexpTokenizer(r'\\b[A-zÀ-ú-\\'\\d]{3,}')\n",
        "# tokens = regex.tokenize(texts)"
      ],
      "execution_count": 0,
      "outputs": []
    },
    {
      "cell_type": "code",
      "metadata": {
        "id": "26JkzaIq1TGm",
        "colab_type": "code",
        "colab": {}
      },
      "source": [
        "M = len(documents)\n",
        "\n",
        "def build_index(documents=documents):\n",
        "  inverted_list = {}\n",
        "\n",
        "  n_doc = 0\n",
        "  for document in documents:\n",
        "    token = [w for w in regex.tokenize(document) if w not in stopwords]\n",
        "    counter = list(Counter(token).items())\n",
        "    for elem in counter:\n",
        "      key = elem[0]\n",
        "      freq = elem[1]\n",
        "      if key in inverted_list.keys():\n",
        "        if n_doc not in inverted_list[key][0]:\n",
        "          inverted_list[key].append((n_doc,freq))\n",
        "      else:\n",
        "        inverted_list[key] = [(n_doc,freq)]\n",
        "    n_doc += 1\n",
        "  \n",
        "  for elem in inverted_list:\n",
        "    k = len(inverted_list[elem])\n",
        "    idf = math.log((M+1)/k)\n",
        "    inverted_list[elem].append(idf)\n",
        "  \n",
        "  return inverted_list\n",
        "\n",
        "index = build_index()"
      ],
      "execution_count": 0,
      "outputs": []
    },
    {
      "cell_type": "markdown",
      "metadata": {
        "id": "jCfTNJ65SmI_",
        "colab_type": "text"
      },
      "source": [
        "TENTAR MUDAR INTERNAMENTE NOS METODOS PRA NÃO TOKENIZAR E SIM BUSCAR A PARTIR DO INDICE"
      ]
    },
    {
      "cell_type": "code",
      "metadata": {
        "id": "_v1iocP61qe9",
        "colab_type": "code",
        "outputId": "bbaf53b5-53f0-496b-ce20-5265486b63f3",
        "colab": {
          "base_uri": "https://localhost:8080/",
          "height": 34
        }
      },
      "source": [
        "vocabulary = list(index.keys())\n",
        "\n",
        "def vec_model_bin(query,document,index=index):\n",
        "  q = {}\n",
        "  d = {}\n",
        "  \n",
        "  for word in vocabulary:\n",
        "    q[word] = 0\n",
        "    if word in query.split():\n",
        "      q[word] = 1\n",
        "      \n",
        "  tokens = [w for w in regex.tokenize(document) if w not in stopwords]\n",
        "  for word in vocabulary:\n",
        "    d[word] = 0\n",
        "    if word in list(set(tokens)):\n",
        "      d[word] = 1\n",
        "      \n",
        "  acc = 0\n",
        "  for word in vocabulary:\n",
        "    if q[word] > 0 and d[word] > 0:\n",
        "      acc = acc + q[word]*d[word]\n",
        "      \n",
        "  return acc\n",
        "\n",
        "vec_model_bin(\"forças armadas\",documents[149])"
      ],
      "execution_count": 5,
      "outputs": [
        {
          "output_type": "execute_result",
          "data": {
            "text/plain": [
              "2"
            ]
          },
          "metadata": {
            "tags": []
          },
          "execution_count": 5
        }
      ]
    },
    {
      "cell_type": "code",
      "metadata": {
        "id": "7jQtEV8UPCSc",
        "colab_type": "code",
        "outputId": "ba694ab2-0e7c-482c-8098-7dd8044bcb53",
        "colab": {
          "base_uri": "https://localhost:8080/",
          "height": 34
        }
      },
      "source": [
        "def vec_model_tf(query,document,index=index):\n",
        "  q = {}\n",
        "  d = {}\n",
        "  \n",
        "  for word in vocabulary:\n",
        "    q[word] = 0\n",
        "    if word in query.split():\n",
        "      q[word] = 1\n",
        "  \n",
        "  tokens = [w for w in regex.tokenize(document) if w not in stopwords]\n",
        "  counter = Counter(tokens)\n",
        "  \n",
        "  for word in vocabulary:\n",
        "    d[word] = 0\n",
        "    if word in list(counter.keys()):\n",
        "      d[word] = counter[word]\n",
        "      \n",
        "  acc = 0\n",
        "  for word in vocabulary:\n",
        "    if q[word] > 0 and d[word] > 0:\n",
        "      acc = acc + q[word]*d[word]\n",
        "      \n",
        "  return acc\n",
        "\n",
        "vec_model_tf(\"juíza federal\",documents[0])"
      ],
      "execution_count": 6,
      "outputs": [
        {
          "output_type": "execute_result",
          "data": {
            "text/plain": [
              "4"
            ]
          },
          "metadata": {
            "tags": []
          },
          "execution_count": 6
        }
      ]
    },
    {
      "cell_type": "code",
      "metadata": {
        "id": "duyweJe3bCRu",
        "colab_type": "code",
        "outputId": "da54f205-0ead-417a-ad33-26b19a66ad6f",
        "colab": {
          "base_uri": "https://localhost:8080/",
          "height": 34
        }
      },
      "source": [
        "def vec_model_tf_idf(query,document,index=index):\n",
        "  q = {}\n",
        "  d = {}\n",
        "  \n",
        "  for word in vocabulary:\n",
        "    q[word] = 0\n",
        "    if word in query.split():\n",
        "      q[word] = 1\n",
        "  \n",
        "  tokens = [w for w in regex.tokenize(document) if w not in stopwords]\n",
        "  counter = Counter(tokens)\n",
        "  \n",
        "  for word in vocabulary:\n",
        "    d[word] = 0\n",
        "    if word in list(counter.keys()):\n",
        "      d[word] = counter[word]\n",
        "      \n",
        "  acc = 0\n",
        "  for word in vocabulary:\n",
        "    idf = index[word][-1]\n",
        "    if q[word] > 0 and d[word] > 0:\n",
        "      acc = acc + q[word]*d[word]*idf\n",
        "      \n",
        "  return acc\n",
        "\n",
        "vec_model_tf_idf(\"juíza federal\",documents[14])"
      ],
      "execution_count": 7,
      "outputs": [
        {
          "output_type": "execute_result",
          "data": {
            "text/plain": [
              "1.6502599069543555"
            ]
          },
          "metadata": {
            "tags": []
          },
          "execution_count": 7
        }
      ]
    },
    {
      "cell_type": "code",
      "metadata": {
        "id": "TRg3qe6KOevw",
        "colab_type": "code",
        "colab": {
          "base_uri": "https://localhost:8080/",
          "height": 34
        },
        "outputId": "f28d16de-a3fd-418d-d506-c0685c2657a8"
      },
      "source": [
        "vec_model_tf_idf(\"forças armadas\", documents[149])\n",
        "# vec_model_tf(\"forças armadas\", documents[149])"
      ],
      "execution_count": 8,
      "outputs": [
        {
          "output_type": "execute_result",
          "data": {
            "text/plain": [
              "33.323497612614815"
            ]
          },
          "metadata": {
            "tags": []
          },
          "execution_count": 8
        }
      ]
    },
    {
      "cell_type": "code",
      "metadata": {
        "id": "ymlll0NEWJmq",
        "colab_type": "code",
        "colab": {
          "base_uri": "https://localhost:8080/",
          "height": 34
        },
        "outputId": "9671495b-5d88-45b0-cabc-ffb0cd41baf0"
      },
      "source": [
        "k = 1\n",
        "def bm25(query,document,index=index):\n",
        "  doc_tokens = [w for w in regex.tokenize(document) if w not in stopwords]\n",
        "  query_words = query.split()\n",
        "  \n",
        "  matched_words = list(set(doc_tokens) & set(query_words))\n",
        "  \n",
        "  score = 0\n",
        "  \n",
        "  for word in matched_words:\n",
        "    cwq = query_words.count(word)\n",
        "    cwd = doc_tokens.count(word)\n",
        "    dfw = len(index[word][:-1])\n",
        "    y = ((k+1)*cwd)/(cwd+k)\n",
        "    score += cwq * y * math.log((M+1)/dfw)\n",
        "    \n",
        "  \n",
        "  return score\n",
        "\n",
        "bm25(\"forças armadas\",documents[149])"
      ],
      "execution_count": 40,
      "outputs": [
        {
          "output_type": "execute_result",
          "data": {
            "text/plain": [
              "7.906309290883032"
            ]
          },
          "metadata": {
            "tags": []
          },
          "execution_count": 40
        }
      ]
    },
    {
      "cell_type": "code",
      "metadata": {
        "id": "SqRYnJfzhu4j",
        "colab_type": "code",
        "colab": {
          "base_uri": "https://localhost:8080/",
          "height": 143
        },
        "outputId": "671ca178-a841-4e18-82c6-56eda4b0a144"
      },
      "source": [
        "results = []\n",
        "best_k = []\n",
        "for k in [x * 0.1 for x in range(0,200,5)]:\n",
        "  res = bm25(\"forças armadas\",documents[149],k)\n",
        "  results.append(res)\n",
        "  best_k.append(k)\n",
        "  \n",
        "df = pd.DataFrame({'res':results, 'k':best_k})\n",
        "\n",
        "# df.quantile([0.25,0.5,0.75]).iloc[0,:].k\n",
        "df.quantile([0.25,0.5,0.75])"
      ],
      "execution_count": 10,
      "outputs": [
        {
          "output_type": "execute_result",
          "data": {
            "text/html": [
              "<div>\n",
              "<style scoped>\n",
              "    .dataframe tbody tr th:only-of-type {\n",
              "        vertical-align: middle;\n",
              "    }\n",
              "\n",
              "    .dataframe tbody tr th {\n",
              "        vertical-align: top;\n",
              "    }\n",
              "\n",
              "    .dataframe thead th {\n",
              "        text-align: right;\n",
              "    }\n",
              "</style>\n",
              "<table border=\"1\" class=\"dataframe\">\n",
              "  <thead>\n",
              "    <tr style=\"text-align: right;\">\n",
              "      <th></th>\n",
              "      <th>res</th>\n",
              "      <th>k</th>\n",
              "    </tr>\n",
              "  </thead>\n",
              "  <tbody>\n",
              "    <tr>\n",
              "      <th>0.25</th>\n",
              "      <td>15.893550</td>\n",
              "      <td>4.875</td>\n",
              "    </tr>\n",
              "    <tr>\n",
              "      <th>0.50</th>\n",
              "      <td>20.831447</td>\n",
              "      <td>9.750</td>\n",
              "    </tr>\n",
              "    <tr>\n",
              "      <th>0.75</th>\n",
              "      <td>23.588632</td>\n",
              "      <td>14.625</td>\n",
              "    </tr>\n",
              "  </tbody>\n",
              "</table>\n",
              "</div>"
            ],
            "text/plain": [
              "            res       k\n",
              "0.25  15.893550   4.875\n",
              "0.50  20.831447   9.750\n",
              "0.75  23.588632  14.625"
            ]
          },
          "metadata": {
            "tags": []
          },
          "execution_count": 10
        }
      ]
    },
    {
      "cell_type": "code",
      "metadata": {
        "id": "J2u_-GQ_wRuA",
        "colab_type": "code",
        "colab": {
          "base_uri": "https://localhost:8080/",
          "height": 52
        },
        "outputId": "072c5022-1dda-4a5d-cb0d-641ec6809def"
      },
      "source": [
        "print(bm25(\"forças armadas\",documents[149]))\n",
        "k = 4.875\n",
        "print(bm25(\"forças armadas\",documents[149]))"
      ],
      "execution_count": 41,
      "outputs": [
        {
          "output_type": "stream",
          "text": [
            "7.906309290883032\n",
            "15.89904328901099\n"
          ],
          "name": "stdout"
        }
      ]
    },
    {
      "cell_type": "code",
      "metadata": {
        "id": "liuiyuS_wiir",
        "colab_type": "code",
        "colab": {}
      },
      "source": [
        "queries = [\"forças armadas\", \"governo federal\", \"golpe de estado\"]"
      ],
      "execution_count": 0,
      "outputs": []
    },
    {
      "cell_type": "code",
      "metadata": {
        "id": "zmFFjX3g3RKn",
        "colab_type": "code",
        "colab": {}
      },
      "source": [
        "def get_top5(query,fun):\n",
        "  doc_id = 0\n",
        "  scores = []\n",
        "  docs = {}\n",
        "  for document in documents:\n",
        "    score = fun(query,document)\n",
        "    docs[doc_id] = score\n",
        "    doc_id += 1\n",
        "    \n",
        "  return sorted(docs.items(), key=lambda kv:kv[1], reverse=True)[:5]\n",
        "    \n",
        "# pd.DataFrame(get_top5(queries[0],bm25),columns=['Document','Score'])"
      ],
      "execution_count": 0,
      "outputs": []
    },
    {
      "cell_type": "code",
      "metadata": {
        "id": "lfBzzhdH6WAT",
        "colab_type": "code",
        "colab": {
          "base_uri": "https://localhost:8080/",
          "height": 642
        },
        "outputId": "f7e05496-a748-4159-9241-175bcf763e63"
      },
      "source": [
        "# binary representation\n",
        "for query in queries:\n",
        "  top5 = get_top5(query,vec_model_bin)\n",
        "  df = pd.DataFrame(top5,columns=['Document','Score'])\n",
        "  print(query)\n",
        "  print(tabulate(df, headers='keys', tablefmt='psql'))\n",
        "  print('\\n')"
      ],
      "execution_count": 14,
      "outputs": [
        {
          "output_type": "stream",
          "text": [
            "forças armadas\n",
            "+----+------------+---------+\n",
            "|    |   Document |   Score |\n",
            "|----+------------+---------|\n",
            "|  0 |          0 |       2 |\n",
            "|  1 |          5 |       2 |\n",
            "|  2 |         11 |       2 |\n",
            "|  3 |         24 |       2 |\n",
            "|  4 |         41 |       2 |\n",
            "+----+------------+---------+\n",
            "\n",
            "\n",
            "governo federal\n",
            "+----+------------+---------+\n",
            "|    |   Document |   Score |\n",
            "|----+------------+---------|\n",
            "|  0 |          2 |       2 |\n",
            "|  1 |         23 |       2 |\n",
            "|  2 |         33 |       2 |\n",
            "|  3 |         36 |       2 |\n",
            "|  4 |         41 |       2 |\n",
            "+----+------------+---------+\n",
            "\n",
            "\n",
            "golpe de estado\n",
            "+----+------------+---------+\n",
            "|    |   Document |   Score |\n",
            "|----+------------+---------|\n",
            "|  0 |          0 |       2 |\n",
            "|  1 |          1 |       2 |\n",
            "|  2 |          2 |       2 |\n",
            "|  3 |         24 |       2 |\n",
            "|  4 |         97 |       2 |\n",
            "+----+------------+---------+\n",
            "\n",
            "\n"
          ],
          "name": "stdout"
        }
      ]
    },
    {
      "cell_type": "code",
      "metadata": {
        "id": "OUYRodxQ6hc3",
        "colab_type": "code",
        "colab": {
          "base_uri": "https://localhost:8080/",
          "height": 642
        },
        "outputId": "fb0579c9-3d6f-4227-c822-2e22ee254e18"
      },
      "source": [
        "# tf\n",
        "for query in queries:\n",
        "  top5 = get_top5(query,vec_model_tf)\n",
        "  df = pd.DataFrame(top5,columns=['Document','Score'])\n",
        "  print(query)\n",
        "  print(tabulate(df, headers='keys', tablefmt='psql'))\n",
        "  print('\\n')"
      ],
      "execution_count": 15,
      "outputs": [
        {
          "output_type": "stream",
          "text": [
            "forças armadas\n",
            "+----+------------+---------+\n",
            "|    |   Document |   Score |\n",
            "|----+------------+---------|\n",
            "|  0 |        149 |      15 |\n",
            "|  1 |         24 |       9 |\n",
            "|  2 |        165 |       8 |\n",
            "|  3 |        207 |       8 |\n",
            "|  4 |          0 |       6 |\n",
            "+----+------------+---------+\n",
            "\n",
            "\n",
            "governo federal\n",
            "+----+------------+---------+\n",
            "|    |   Document |   Score |\n",
            "|----+------------+---------|\n",
            "|  0 |        172 |      19 |\n",
            "|  1 |        165 |      14 |\n",
            "|  2 |        247 |      13 |\n",
            "|  3 |        114 |      12 |\n",
            "|  4 |        228 |      11 |\n",
            "+----+------------+---------+\n",
            "\n",
            "\n",
            "golpe de estado\n",
            "+----+------------+---------+\n",
            "|    |   Document |   Score |\n",
            "|----+------------+---------|\n",
            "|  0 |         24 |      14 |\n",
            "|  1 |          2 |       8 |\n",
            "|  2 |          6 |       8 |\n",
            "|  3 |        165 |       8 |\n",
            "|  4 |        248 |       8 |\n",
            "+----+------------+---------+\n",
            "\n",
            "\n"
          ],
          "name": "stdout"
        }
      ]
    },
    {
      "cell_type": "code",
      "metadata": {
        "id": "VY3tXpQl6tHa",
        "colab_type": "code",
        "colab": {
          "base_uri": "https://localhost:8080/",
          "height": 642
        },
        "outputId": "55bfad6b-cfd8-4fc1-d068-66451d218987"
      },
      "source": [
        "# tf-idf\n",
        "for query in queries:\n",
        "  top5 = get_top5(query,vec_model_tf_idf)\n",
        "  df = pd.DataFrame(top5,columns=['Document','Score'])\n",
        "  print(query)\n",
        "  print(tabulate(df, headers='keys', tablefmt='psql'))\n",
        "  print('\\n')"
      ],
      "execution_count": 16,
      "outputs": [
        {
          "output_type": "stream",
          "text": [
            "forças armadas\n",
            "+----+------------+---------+\n",
            "|    |   Document |   Score |\n",
            "|----+------------+---------|\n",
            "|  0 |        149 | 33.3235 |\n",
            "|  1 |         24 | 19.8608 |\n",
            "|  2 |        165 | 17.9503 |\n",
            "|  3 |        207 | 17.9503 |\n",
            "|  4 |          0 | 13.4627 |\n",
            "+----+------------+---------+\n",
            "\n",
            "\n",
            "governo federal\n",
            "+----+------------+---------+\n",
            "|    |   Document |   Score |\n",
            "|----+------------+---------|\n",
            "|  0 |        172 | 19.902  |\n",
            "|  1 |        247 | 13.8181 |\n",
            "|  2 |        165 | 13.1778 |\n",
            "|  3 |        114 | 12.1678 |\n",
            "|  4 |        228 | 12.0446 |\n",
            "+----+------------+---------+\n",
            "\n",
            "\n",
            "golpe de estado\n",
            "+----+------------+---------+\n",
            "|    |   Document |   Score |\n",
            "|----+------------+---------|\n",
            "|  0 |         24 | 32.7731 |\n",
            "|  1 |          2 | 18.1906 |\n",
            "|  2 |        165 | 16.9378 |\n",
            "|  3 |        164 | 14.5074 |\n",
            "|  4 |        207 | 13.3297 |\n",
            "+----+------------+---------+\n",
            "\n",
            "\n"
          ],
          "name": "stdout"
        }
      ]
    },
    {
      "cell_type": "code",
      "metadata": {
        "id": "IJnzUFpJ5_7a",
        "colab_type": "code",
        "colab": {
          "base_uri": "https://localhost:8080/",
          "height": 642
        },
        "outputId": "291c649e-a6ed-431b-85a3-20fcdca77ad3"
      },
      "source": [
        "# bm25\n",
        "for query in queries:\n",
        "  top5 = get_top5(query,bm25)\n",
        "  df = pd.DataFrame(top5,columns=['Document','Score'])\n",
        "  print(query)\n",
        "  print(tabulate(df, headers='keys', tablefmt='psql'))\n",
        "  print('\\n')"
      ],
      "execution_count": 42,
      "outputs": [
        {
          "output_type": "stream",
          "text": [
            "forças armadas\n",
            "+----+------------+---------+\n",
            "|    |   Document |   Score |\n",
            "|----+------------+---------|\n",
            "|  0 |        149 | 15.899  |\n",
            "|  1 |         24 | 12.5069 |\n",
            "|  2 |        165 | 11.8826 |\n",
            "|  3 |        207 | 11.8826 |\n",
            "|  4 |          0 | 10.0436 |\n",
            "+----+------------+---------+\n",
            "\n",
            "\n",
            "governo federal\n",
            "+----+------------+---------+\n",
            "|    |   Document |   Score |\n",
            "|----+------------+---------|\n",
            "|  0 |        172 | 8.30144 |\n",
            "|  1 |        247 | 7.19566 |\n",
            "|  2 |        228 | 6.93044 |\n",
            "|  3 |        114 | 6.32266 |\n",
            "|  4 |        219 | 6.04141 |\n",
            "+----+------------+---------+\n",
            "\n",
            "\n",
            "golpe de estado\n",
            "+----+------------+----------+\n",
            "|    |   Document |    Score |\n",
            "|----+------------+----------|\n",
            "|  0 |         24 | 11.5622  |\n",
            "|  1 |        165 |  9.89063 |\n",
            "|  2 |          2 |  9.59458 |\n",
            "|  3 |        164 |  9.24245 |\n",
            "|  4 |          0 |  8.44819 |\n",
            "+----+------------+----------+\n",
            "\n",
            "\n"
          ],
          "name": "stdout"
        }
      ]
    }
  ]
}