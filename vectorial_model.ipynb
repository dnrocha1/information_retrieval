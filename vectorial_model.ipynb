{
  "nbformat": 4,
  "nbformat_minor": 0,
  "metadata": {
    "colab": {
      "name": "vectorial_model.ipynb",
      "version": "0.3.2",
      "provenance": [],
      "collapsed_sections": []
    },
    "kernelspec": {
      "name": "python3",
      "display_name": "Python 3"
    }
  },
  "cells": [
    {
      "cell_type": "code",
      "metadata": {
        "id": "CHnz8Cjc0sE5",
        "colab_type": "code",
        "colab": {}
      },
      "source": [
        "%%capture\n",
        "\n",
        "import pandas as pd\n",
        "import nltk\n",
        "from nltk.corpus import stopwords\n",
        "from nltk.tokenize import RegexpTokenizer\n",
        "from collections import Counter\n",
        "import math\n",
        "from tabulate import tabulate\n",
        "\n",
        "nltk.download('stopwords')"
      ],
      "execution_count": 0,
      "outputs": []
    },
    {
      "cell_type": "code",
      "metadata": {
        "id": "NHKiVnrl1MG-",
        "colab_type": "code",
        "colab": {}
      },
      "source": [
        "data = pd.read_csv('https://raw.githubusercontent.com/dnrocha1/information_retrieval/master/lab02/data/results.csv')"
      ],
      "execution_count": 0,
      "outputs": []
    },
    {
      "cell_type": "code",
      "metadata": {
        "id": "pxIXvmRY1NzW",
        "colab_type": "code",
        "colab": {}
      },
      "source": [
        "#pre-process\n",
        "\n",
        "stopwords = stopwords.words('portuguese')\n",
        "documents = data['text'].apply(lambda x: x.lower())\n",
        "\n",
        "regex = RegexpTokenizer(r'\\b[A-zÀ-ú-\\'\\d]{3,}')\n",
        "# tokens = regex.tokenize(texts)"
      ],
      "execution_count": 0,
      "outputs": []
    },
    {
      "cell_type": "code",
      "metadata": {
        "id": "26JkzaIq1TGm",
        "colab_type": "code",
        "colab": {}
      },
      "source": [
        "M = len(documents)\n",
        "\n",
        "def build_index(documents=documents):\n",
        "  inverted_list = {}\n",
        "\n",
        "  n_doc = 0\n",
        "  for document in documents:\n",
        "    token = [w for w in regex.tokenize(document) if w not in stopwords]\n",
        "    counter = list(Counter(token).items())\n",
        "    for elem in counter:\n",
        "      key = elem[0]\n",
        "      freq = elem[1]\n",
        "      if key in inverted_list.keys():\n",
        "        if n_doc not in inverted_list[key][0]:\n",
        "          inverted_list[key].append((n_doc,freq))\n",
        "      else:\n",
        "        inverted_list[key] = [(n_doc,freq)]\n",
        "    n_doc += 1\n",
        "  \n",
        "  for elem in inverted_list:\n",
        "    k = len(inverted_list[elem])\n",
        "    idf = math.log((M+1)/k)\n",
        "    inverted_list[elem].append(idf)\n",
        "  \n",
        "  return inverted_list\n",
        "\n",
        "index = build_index()"
      ],
      "execution_count": 0,
      "outputs": []
    },
    {
      "cell_type": "markdown",
      "metadata": {
        "id": "jCfTNJ65SmI_",
        "colab_type": "text"
      },
      "source": [
        "TENTAR MUDAR INTERNAMENTE NOS METODOS PRA NÃO TOKENIZAR E SIM BUSCAR A PARTIR DO INDICE"
      ]
    },
    {
      "cell_type": "code",
      "metadata": {
        "id": "_v1iocP61qe9",
        "colab_type": "code",
        "outputId": "bbaf53b5-53f0-496b-ce20-5265486b63f3",
        "colab": {
          "base_uri": "https://localhost:8080/",
          "height": 34
        }
      },
      "source": [
        "vocabulary = list(index.keys())\n",
        "\n",
        "def vec_model_bin(query,document,index=index):\n",
        "  q = {}\n",
        "  d = {}\n",
        "  \n",
        "  for word in vocabulary:\n",
        "    q[word] = 0\n",
        "    if word in query.split():\n",
        "      q[word] = 1\n",
        "      \n",
        "  tokens = [w for w in regex.tokenize(document) if w not in stopwords]\n",
        "  for word in vocabulary:\n",
        "    d[word] = 0\n",
        "    if word in list(set(tokens)):\n",
        "      d[word] = 1\n",
        "      \n",
        "  acc = 0\n",
        "  for word in vocabulary:\n",
        "    if q[word] > 0 and d[word] > 0:\n",
        "      acc = acc + q[word]*d[word]\n",
        "      \n",
        "  return acc\n",
        "\n",
        "vec_model_bin(\"forças armadas\",documents[149])"
      ],
      "execution_count": 5,
      "outputs": [
        {
          "output_type": "execute_result",
          "data": {
            "text/plain": [
              "2"
            ]
          },
          "metadata": {
            "tags": []
          },
          "execution_count": 5
        }
      ]
    },
    {
      "cell_type": "code",
      "metadata": {
        "id": "7jQtEV8UPCSc",
        "colab_type": "code",
        "outputId": "ba694ab2-0e7c-482c-8098-7dd8044bcb53",
        "colab": {
          "base_uri": "https://localhost:8080/",
          "height": 34
        }
      },
      "source": [
        "def vec_model_tf(query,document,index=index):\n",
        "  q = {}\n",
        "  d = {}\n",
        "  \n",
        "  for word in vocabulary:\n",
        "    q[word] = 0\n",
        "    if word in query.split():\n",
        "      q[word] = 1\n",
        "  \n",
        "  tokens = [w for w in regex.tokenize(document) if w not in stopwords]\n",
        "  counter = Counter(tokens)\n",
        "  \n",
        "  for word in vocabulary:\n",
        "    d[word] = 0\n",
        "    if word in list(counter.keys()):\n",
        "      d[word] = counter[word]\n",
        "      \n",
        "  acc = 0\n",
        "  for word in vocabulary:\n",
        "    if q[word] > 0 and d[word] > 0:\n",
        "      acc = acc + q[word]*d[word]\n",
        "      \n",
        "  return acc\n",
        "\n",
        "vec_model_tf(\"juíza federal\",documents[0])"
      ],
      "execution_count": 6,
      "outputs": [
        {
          "output_type": "execute_result",
          "data": {
            "text/plain": [
              "4"
            ]
          },
          "metadata": {
            "tags": []
          },
          "execution_count": 6
        }
      ]
    },
    {
      "cell_type": "code",
      "metadata": {
        "id": "duyweJe3bCRu",
        "colab_type": "code",
        "outputId": "da54f205-0ead-417a-ad33-26b19a66ad6f",
        "colab": {
          "base_uri": "https://localhost:8080/",
          "height": 34
        }
      },
      "source": [
        "def vec_model_tf_idf(query,document,index=index):\n",
        "  q = {}\n",
        "  d = {}\n",
        "  \n",
        "  for word in vocabulary:\n",
        "    q[word] = 0\n",
        "    if word in query.split():\n",
        "      q[word] = 1\n",
        "  \n",
        "  tokens = [w for w in regex.tokenize(document) if w not in stopwords]\n",
        "  counter = Counter(tokens)\n",
        "  \n",
        "  for word in vocabulary:\n",
        "    d[word] = 0\n",
        "    if word in list(counter.keys()):\n",
        "      d[word] = counter[word]\n",
        "      \n",
        "  acc = 0\n",
        "  for word in vocabulary:\n",
        "    idf = index[word][-1]\n",
        "    if q[word] > 0 and d[word] > 0:\n",
        "      acc = acc + q[word]*d[word]*idf\n",
        "      \n",
        "  return acc\n",
        "\n",
        "vec_model_tf_idf(\"juíza federal\",documents[14])"
      ],
      "execution_count": 7,
      "outputs": [
        {
          "output_type": "execute_result",
          "data": {
            "text/plain": [
              "1.6502599069543555"
            ]
          },
          "metadata": {
            "tags": []
          },
          "execution_count": 7
        }
      ]
    },
    {
      "cell_type": "code",
      "metadata": {
        "id": "TRg3qe6KOevw",
        "colab_type": "code",
        "colab": {
          "base_uri": "https://localhost:8080/",
          "height": 34
        },
        "outputId": "f28d16de-a3fd-418d-d506-c0685c2657a8"
      },
      "source": [
        "vec_model_tf_idf(\"forças armadas\", documents[149])\n",
        "# vec_model_tf(\"forças armadas\", documents[149])"
      ],
      "execution_count": 8,
      "outputs": [
        {
          "output_type": "execute_result",
          "data": {
            "text/plain": [
              "33.323497612614815"
            ]
          },
          "metadata": {
            "tags": []
          },
          "execution_count": 8
        }
      ]
    },
    {
      "cell_type": "code",
      "metadata": {
        "id": "ymlll0NEWJmq",
        "colab_type": "code",
        "colab": {
          "base_uri": "https://localhost:8080/",
          "height": 34
        },
        "outputId": "9671495b-5d88-45b0-cabc-ffb0cd41baf0"
      },
      "source": [
        "k = 1\n",
        "def bm25(query,document,index=index):\n",
        "  doc_tokens = [w for w in regex.tokenize(document) if w not in stopwords]\n",
        "  query_words = query.split()\n",
        "  \n",
        "  matched_words = list(set(doc_tokens) & set(query_words))\n",
        "  \n",
        "  score = 0\n",
        "  \n",
        "  for word in matched_words:\n",
        "    cwq = query_words.count(word)\n",
        "    cwd = doc_tokens.count(word)\n",
        "    dfw = len(index[word][:-1])\n",
        "    y = ((k+1)*cwd)/(cwd+k)\n",
        "    score += cwq * y * math.log((M+1)/dfw)\n",
        "    \n",
        "  \n",
        "  return score\n",
        "\n",
        "bm25(\"forças armadas\",documents[149])"
      ],
      "execution_count": 40,
      "outputs": [
        {
          "output_type": "execute_result",
          "data": {
            "text/plain": [
              "7.906309290883032"
            ]
          },
          "metadata": {
            "tags": []
          },
          "execution_count": 40
        }
      ]
    },
    {
      "cell_type": "code",
      "metadata": {
        "id": "SqRYnJfzhu4j",
        "colab_type": "code",
        "colab": {
          "base_uri": "https://localhost:8080/",
          "height": 143
        },
        "outputId": "671ca178-a841-4e18-82c6-56eda4b0a144"
      },
      "source": [
        "results = []\n",
        "best_k = []\n",
        "for k in [x * 0.1 for x in range(0,200,5)]:\n",
        "  res = bm25(\"forças armadas\",documents[149],k)\n",
        "  results.append(res)\n",
        "  best_k.append(k)\n",
        "  \n",
        "df = pd.DataFrame({'res':results, 'k':best_k})\n",
        "\n",
        "# df.quantile([0.25,0.5,0.75]).iloc[0,:].k\n",
        "df.quantile([0.25,0.5,0.75])"
      ],
      "execution_count": 10,
      "outputs": [
        {
          "output_type": "execute_result",
          "data": {
            "text/html": [
              "<div>\n",
              "<style scoped>\n",
              "    .dataframe tbody tr th:only-of-type {\n",
              "        vertical-align: middle;\n",
              "    }\n",
              "\n",
              "    .dataframe tbody tr th {\n",
              "        vertical-align: top;\n",
              "    }\n",
              "\n",
              "    .dataframe thead th {\n",
              "        text-align: right;\n",
              "    }\n",
              "</style>\n",
              "<table border=\"1\" class=\"dataframe\">\n",
              "  <thead>\n",
              "    <tr style=\"text-align: right;\">\n",
              "      <th></th>\n",
              "      <th>res</th>\n",
              "      <th>k</th>\n",
              "    </tr>\n",
              "  </thead>\n",
              "  <tbody>\n",
              "    <tr>\n",
              "      <th>0.25</th>\n",
              "      <td>15.893550</td>\n",
              "      <td>4.875</td>\n",
              "    </tr>\n",
              "    <tr>\n",
              "      <th>0.50</th>\n",
              "      <td>20.831447</td>\n",
              "      <td>9.750</td>\n",
              "    </tr>\n",
              "    <tr>\n",
              "      <th>0.75</th>\n",
              "      <td>23.588632</td>\n",
              "      <td>14.625</td>\n",
              "    </tr>\n",
              "  </tbody>\n",
              "</table>\n",
              "</div>"
            ],
            "text/plain": [
              "            res       k\n",
              "0.25  15.893550   4.875\n",
              "0.50  20.831447   9.750\n",
              "0.75  23.588632  14.625"
            ]
          },
          "metadata": {
            "tags": []
          },
          "execution_count": 10
        }
      ]
    },
    {
      "cell_type": "code",
      "metadata": {
        "id": "J2u_-GQ_wRuA",
        "colab_type": "code",
        "colab": {
          "base_uri": "https://localhost:8080/",
          "height": 52
        },
        "outputId": "072c5022-1dda-4a5d-cb0d-641ec6809def"
      },
      "source": [
        "print(bm25(\"forças armadas\",documents[149]))\n",
        "k = 4.875\n",
        "print(bm25(\"forças armadas\",documents[149]))"
      ],
      "execution_count": 41,
      "outputs": [
        {
          "output_type": "stream",
          "text": [
            "7.906309290883032\n",
            "15.89904328901099\n"
          ],
          "name": "stdout"
        }
      ]
    },
    {
      "cell_type": "code",
      "metadata": {
        "id": "liuiyuS_wiir",
        "colab_type": "code",
        "colab": {}
      },
      "source": [
        "queries = [\"forças armadas\", \"governo federal\", \"golpe de estado\"]"
      ],
      "execution_count": 0,
      "outputs": []
    },
    {
      "cell_type": "code",
      "metadata": {
        "id": "zmFFjX3g3RKn",
        "colab_type": "code",
        "colab": {}
      },
      "source": [
        "def get_top5(query,fun):\n",
        "  doc_id = 0\n",
        "  scores = []\n",
        "  docs = {}\n",
        "  for document in documents:\n",
        "    score = fun(query,document)\n",
        "    docs[doc_id] = score\n",
        "    doc_id += 1\n",
        "    \n",
        "  return sorted(docs.items(), key=lambda kv:kv[1], reverse=True)\n",
        "\n",
        "def build_query(query):\n",
        "  funs = [vec_model_bin,vec_model_tf,vec_model_tf_idf,bm25]\n",
        "  table = {}\n",
        "  for fun in funs:\n",
        "    top = get_top5(query,fun)\n",
        "    table[fun.__name__] = top\n",
        "    \n",
        "  return pd.DataFrame(table)\n",
        "    \n",
        "# pd.DataFrame(get_top5(queries[0],bm25),columns=['Document','Score'])\n",
        "# get_top5(queries[0],bm25)\n",
        "# table = build_query(\"forças armadas\")\n",
        "# table.head(5)"
      ],
      "execution_count": 0,
      "outputs": []
    },
    {
      "cell_type": "code",
      "metadata": {
        "id": "Ak5ABvGsZo28",
        "colab_type": "code",
        "colab": {
          "base_uri": "https://localhost:8080/",
          "height": 642
        },
        "outputId": "d778cb74-b918-4114-b5d0-627d752e2b1a"
      },
      "source": [
        "for query in queries:\n",
        "  table = build_query(query)\n",
        "  print(query)\n",
        "  print(tabulate(table.head(5), headers='keys', tablefmt='psql'))\n",
        "  print('\\n')"
      ],
      "execution_count": 68,
      "outputs": [
        {
          "output_type": "stream",
          "text": [
            "forças armadas\n",
            "+----+-----------------+----------------+---------------------------+---------------------------+\n",
            "|    | vec_model_bin   | vec_model_tf   | vec_model_tf_idf          | bm25                      |\n",
            "|----+-----------------+----------------+---------------------------+---------------------------|\n",
            "|  0 | (0, 2)          | (149, 15)      | (149, 33.323497612614815) | (149, 15.89904328901099)  |\n",
            "|  1 | (5, 2)          | (24, 9)        | (24, 19.860802780873335)  | (24, 12.506924563304118)  |\n",
            "|  2 | (11, 2)         | (165, 8)       | (165, 17.95025977565531)  | (165, 11.882566330363375) |\n",
            "|  3 | (24, 2)         | (207, 8)       | (207, 17.95025977565531)  | (207, 11.882566330363375) |\n",
            "|  4 | (41, 2)         | (0, 6)         | (0, 13.462694831741484)   | (0, 10.043597731616662)   |\n",
            "+----+-----------------+----------------+---------------------------+---------------------------+\n",
            "\n",
            "\n",
            "governo federal\n",
            "+----+-----------------+----------------+---------------------------+---------------------------+\n",
            "|    | vec_model_bin   | vec_model_tf   | vec_model_tf_idf          | bm25                      |\n",
            "|----+-----------------+----------------+---------------------------+---------------------------|\n",
            "|  0 | (2, 2)          | (172, 19)      | (172, 19.90201857230658)  | (172, 8.301438203245631)  |\n",
            "|  1 | (23, 2)         | (165, 14)      | (247, 13.818099017189173) | (247, 7.195657384981824)  |\n",
            "|  2 | (33, 2)         | (247, 13)      | (165, 13.177774992178293) | (228, 6.930440834926088)  |\n",
            "|  3 | (36, 2)         | (114, 12)      | (114, 12.167839110234816) | (114, 6.3226627502206885) |\n",
            "|  4 | (41, 2)         | (228, 11)      | (228, 12.044635157923953) | (219, 6.041405075584327)  |\n",
            "+----+-----------------+----------------+---------------------------+---------------------------+\n",
            "\n",
            "\n",
            "golpe de estado\n",
            "+----+-----------------+----------------+---------------------------+--------------------------+\n",
            "|    | vec_model_bin   | vec_model_tf   | vec_model_tf_idf          | bm25                     |\n",
            "|----+-----------------+----------------+---------------------------+--------------------------|\n",
            "|  0 | (0, 2)          | (24, 14)       | (24, 32.77309553455966)   | (24, 11.562170753434446) |\n",
            "|  1 | (1, 2)          | (2, 8)         | (2, 18.190584747536075)   | (165, 9.890628428592263) |\n",
            "|  2 | (2, 2)          | (6, 8)         | (165, 16.937821779040707) | (2, 9.594578388869541)   |\n",
            "|  3 | (24, 2)         | (165, 8)       | (164, 14.507403314536777) | (164, 9.242446114401124) |\n",
            "|  4 | (97, 2)         | (248, 8)       | (207, 13.329747818528213) | (0, 8.448194546307755)   |\n",
            "+----+-----------------+----------------+---------------------------+--------------------------+\n",
            "\n",
            "\n"
          ],
          "name": "stdout"
        }
      ]
    },
    {
      "cell_type": "code",
      "metadata": {
        "id": "qT7J3CXzjM08",
        "colab_type": "code",
        "colab": {
          "base_uri": "https://localhost:8080/",
          "height": 206
        },
        "outputId": "73bb5097-8909-4060-d0c1-1239fad5a923"
      },
      "source": [
        "# get only docs\n",
        "table_docs = table.applymap(lambda x: x[0])\n",
        "table_docs"
      ],
      "execution_count": 82,
      "outputs": [
        {
          "output_type": "execute_result",
          "data": {
            "text/html": [
              "<div>\n",
              "<style scoped>\n",
              "    .dataframe tbody tr th:only-of-type {\n",
              "        vertical-align: middle;\n",
              "    }\n",
              "\n",
              "    .dataframe tbody tr th {\n",
              "        vertical-align: top;\n",
              "    }\n",
              "\n",
              "    .dataframe thead th {\n",
              "        text-align: right;\n",
              "    }\n",
              "</style>\n",
              "<table border=\"1\" class=\"dataframe\">\n",
              "  <thead>\n",
              "    <tr style=\"text-align: right;\">\n",
              "      <th></th>\n",
              "      <th>vec_model_bin</th>\n",
              "      <th>vec_model_tf</th>\n",
              "      <th>vec_model_tf_idf</th>\n",
              "      <th>bm25</th>\n",
              "    </tr>\n",
              "  </thead>\n",
              "  <tbody>\n",
              "    <tr>\n",
              "      <th>0</th>\n",
              "      <td>0</td>\n",
              "      <td>24</td>\n",
              "      <td>24</td>\n",
              "      <td>24</td>\n",
              "    </tr>\n",
              "    <tr>\n",
              "      <th>1</th>\n",
              "      <td>1</td>\n",
              "      <td>2</td>\n",
              "      <td>2</td>\n",
              "      <td>165</td>\n",
              "    </tr>\n",
              "    <tr>\n",
              "      <th>2</th>\n",
              "      <td>2</td>\n",
              "      <td>6</td>\n",
              "      <td>165</td>\n",
              "      <td>2</td>\n",
              "    </tr>\n",
              "    <tr>\n",
              "      <th>3</th>\n",
              "      <td>24</td>\n",
              "      <td>165</td>\n",
              "      <td>164</td>\n",
              "      <td>164</td>\n",
              "    </tr>\n",
              "    <tr>\n",
              "      <th>4</th>\n",
              "      <td>97</td>\n",
              "      <td>248</td>\n",
              "      <td>207</td>\n",
              "      <td>0</td>\n",
              "    </tr>\n",
              "  </tbody>\n",
              "</table>\n",
              "</div>"
            ],
            "text/plain": [
              "   vec_model_bin  vec_model_tf  vec_model_tf_idf  bm25\n",
              "0              0            24                24    24\n",
              "1              1             2                 2   165\n",
              "2              2             6               165     2\n",
              "3             24           165               164   164\n",
              "4             97           248               207     0"
            ]
          },
          "metadata": {
            "tags": []
          },
          "execution_count": 82
        }
      ]
    },
    {
      "cell_type": "code",
      "metadata": {
        "id": "xCKiQcBokm9r",
        "colab_type": "code",
        "colab": {
          "base_uri": "https://localhost:8080/",
          "height": 660
        },
        "outputId": "3f52cddb-687c-4eaa-c9a9-4955e2479cfe"
      },
      "source": [
        "print(query)\n",
        "\n",
        "for model in table_docs:\n",
        "  docs = table_docs[model]\n",
        "  df = data[['title','subtitle']].iloc[docs]\n",
        "  print(model)\n",
        "#   print(tabulate(df,headers='keys',tablefmt='psql'))\n",
        "  print(df)\n",
        "  print('\\n')\n",
        "    "
      ],
      "execution_count": 160,
      "outputs": [
        {
          "output_type": "stream",
          "text": [
            "golpe de estado\n",
            "vec_model_bin\n",
            "                                                title                                           subtitle\n",
            "0   “A sociedade foi Rubens Paiva  não os facínora...  A decisão da juíza que proíbe as Forças Armada...\n",
            "1   Justiça suspende decisão que proibia Forças Ar...  Liminar havia sido concedida na sexta-feira a ...\n",
            "2   Governo Bolsonaro prega “negacionismo históric...  Marcos Napolitano  professor da USP  diz que o...\n",
            "24  Boris Fausto e o golpe de 64: “É impossível ir...  Historiador diz que as Forças Armadas nunca re...\n",
            "97  Maduro anuncia 30 dias de racionamento de ener...  Presidente adota as medidas após os graves ble...\n",
            "\n",
            "\n",
            "vec_model_tf\n",
            "                                                 title                                           subtitle\n",
            "24   Boris Fausto e o golpe de 64: “É impossível ir...  Historiador diz que as Forças Armadas nunca re...\n",
            "2    Governo Bolsonaro prega “negacionismo históric...  Marcos Napolitano  professor da USP  diz que o...\n",
            "6    “Lógica de usar torturadores da ditadura no cr...  Aloy Jupiara  coautor de 'Os porões da contrav...\n",
            "165                   Bolsonaro manda festejar o crime  Ao determinar a comemoração do golpe militar d...\n",
            "248  As três espanholas do Estado Islâmico: “Só que...  EL PAÍS localiza  em meio a milhares de famíli...\n",
            "\n",
            "\n",
            "vec_model_tf_idf\n",
            "                                                 title                                           subtitle\n",
            "24   Boris Fausto e o golpe de 64: “É impossível ir...  Historiador diz que as Forças Armadas nunca re...\n",
            "2    Governo Bolsonaro prega “negacionismo históric...  Marcos Napolitano  professor da USP  diz que o...\n",
            "165                   Bolsonaro manda festejar o crime  Ao determinar a comemoração do golpe militar d...\n",
            "164  Celebrar o golpe representa uma derrota para a...  A eleição de Bolsonaro e sua decisão de comemo...\n",
            "207  Bolsonaro escancara cadáver insepulto da ditad...  Com medida simbólica  presidente determinou qu...\n",
            "\n",
            "\n",
            "bm25\n",
            "                                                 title                                           subtitle\n",
            "24   Boris Fausto e o golpe de 64: “É impossível ir...  Historiador diz que as Forças Armadas nunca re...\n",
            "165                   Bolsonaro manda festejar o crime  Ao determinar a comemoração do golpe militar d...\n",
            "2    Governo Bolsonaro prega “negacionismo históric...  Marcos Napolitano  professor da USP  diz que o...\n",
            "164  Celebrar o golpe representa uma derrota para a...  A eleição de Bolsonaro e sua decisão de comemo...\n",
            "0    “A sociedade foi Rubens Paiva  não os facínora...  A decisão da juíza que proíbe as Forças Armada...\n",
            "\n",
            "\n"
          ],
          "name": "stdout"
        }
      ]
    }
  ]
}