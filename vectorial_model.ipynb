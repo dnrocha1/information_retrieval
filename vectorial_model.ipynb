{
  "nbformat": 4,
  "nbformat_minor": 0,
  "metadata": {
    "colab": {
      "name": "vectorial_model.ipynb",
      "version": "0.3.2",
      "provenance": [],
      "collapsed_sections": [],
      "toc_visible": true
    },
    "kernelspec": {
      "name": "python3",
      "display_name": "Python 3"
    }
  },
  "cells": [
    {
      "cell_type": "code",
      "metadata": {
        "id": "CHnz8Cjc0sE5",
        "colab_type": "code",
        "colab": {}
      },
      "source": [
        "%%capture\n",
        "\n",
        "import pandas as pd\n",
        "import nltk\n",
        "from nltk.corpus import stopwords\n",
        "from nltk.tokenize import RegexpTokenizer\n",
        "from collections import Counter\n",
        "import math\n",
        "from tabulate import tabulate\n",
        "import itertools\n",
        "\n",
        "from IPython.display import display\n",
        "\n",
        "nltk.download('stopwords')"
      ],
      "execution_count": 0,
      "outputs": []
    },
    {
      "cell_type": "code",
      "metadata": {
        "id": "NHKiVnrl1MG-",
        "colab_type": "code",
        "colab": {}
      },
      "source": [
        "data = pd.read_csv('https://raw.githubusercontent.com/dnrocha1/information_retrieval/master/lab02/data/results.csv')"
      ],
      "execution_count": 0,
      "outputs": []
    },
    {
      "cell_type": "markdown",
      "metadata": {
        "id": "3i20d7UOYevG",
        "colab_type": "text"
      },
      "source": [
        "## Pré-processamento e construção do índice"
      ]
    },
    {
      "cell_type": "markdown",
      "metadata": {
        "id": "cPlaCkr6Yhie",
        "colab_type": "text"
      },
      "source": [
        "Os dados serão tratados da mesma forma que os exercícios anteriores: os conteúdos dos documentos tiveram as letras transformadas para minúsculas, contendo caractéres alfanuméricos. Novamente, os tokens criados consideram apenas palavras com tamanho maior ou igual a três e inclui termos que possuam hífen e apóstrofo.   \n",
        "As stopwords também serão desconsideradas para a construção dos índices."
      ]
    },
    {
      "cell_type": "code",
      "metadata": {
        "id": "pxIXvmRY1NzW",
        "colab_type": "code",
        "colab": {}
      },
      "source": [
        "#pre-process\n",
        "\n",
        "stopwords = stopwords.words('portuguese')\n",
        "documents = data['text'].apply(lambda x: x.lower())\n",
        "\n",
        "regex = RegexpTokenizer(r'\\b[A-zÀ-ú-\\'\\d]{3,}')\n",
        "# tokens = regex.tokenize(texts)"
      ],
      "execution_count": 0,
      "outputs": []
    },
    {
      "cell_type": "markdown",
      "metadata": {
        "id": "5PCTWeRZZPPu",
        "colab_type": "text"
      },
      "source": [
        "## 2. Reconstruir e refinar o índice invertido de forma a também incluir o IDF (inverse document frequency) de cada termo do dicionário"
      ]
    },
    {
      "cell_type": "code",
      "metadata": {
        "id": "26JkzaIq1TGm",
        "colab_type": "code",
        "colab": {}
      },
      "source": [
        "M = len(documents)\n",
        "\n",
        "def build_index(documents=documents):\n",
        "  inverted_list = {}\n",
        "\n",
        "  n_doc = 0\n",
        "  for document in documents:\n",
        "    token = [w for w in regex.tokenize(document) if w not in stopwords]\n",
        "    counter = list(Counter(token).items())\n",
        "    for elem in counter:\n",
        "      key = elem[0]\n",
        "      freq = elem[1]\n",
        "      if key in inverted_list.keys():\n",
        "        if n_doc not in inverted_list[key][0]:\n",
        "          inverted_list[key].append((n_doc,freq))\n",
        "      else:\n",
        "        inverted_list[key] = [(n_doc,freq)]\n",
        "    n_doc += 1\n",
        "  \n",
        "  for elem in inverted_list:\n",
        "    k = len(inverted_list[elem])\n",
        "    idf = math.log((M+1)/k)\n",
        "    inverted_list[elem].append(idf)\n",
        "  \n",
        "  return inverted_list\n",
        "\n",
        "index = build_index()"
      ],
      "execution_count": 0,
      "outputs": []
    },
    {
      "cell_type": "markdown",
      "metadata": {
        "id": "5tKu3USvZiZC",
        "colab_type": "text"
      },
      "source": [
        "## 3. Implementar as seguintes versões do modelo vetorial:\n",
        "\n",
        "- Representação binária;\n",
        "- TF (lembre-se que esse modelo já está implementado);\n",
        "- TF-IDF;\n",
        "- BM25* (não usaremos Okapi já que os documentos não tem grande variação de tamanho)."
      ]
    },
    {
      "cell_type": "markdown",
      "metadata": {
        "id": "AlHhGmwsaOPn",
        "colab_type": "text"
      },
      "source": [
        "### Representação binária"
      ]
    },
    {
      "cell_type": "code",
      "metadata": {
        "id": "_v1iocP61qe9",
        "colab_type": "code",
        "colab": {}
      },
      "source": [
        "vocabulary = list(index.keys())\n",
        "\n",
        "def vec_model_bin(query,document,index=index):\n",
        "  q = {}\n",
        "  d = {}\n",
        "  \n",
        "  for word in vocabulary:\n",
        "    q[word] = 0\n",
        "    if word in query.split():\n",
        "      q[word] = 1\n",
        "      \n",
        "  tokens = [w for w in regex.tokenize(document) if w not in stopwords]\n",
        "  for word in vocabulary:\n",
        "    d[word] = 0\n",
        "    if word in list(set(tokens)):\n",
        "      d[word] = 1\n",
        "      \n",
        "  acc = 0\n",
        "  for word in vocabulary:\n",
        "    if q[word] > 0 and d[word] > 0:\n",
        "      acc = acc + q[word]*d[word]\n",
        "      \n",
        "  return acc\n",
        "\n",
        "# vec_model_bin(\"forças armadas\",documents[149])"
      ],
      "execution_count": 0,
      "outputs": []
    },
    {
      "cell_type": "markdown",
      "metadata": {
        "id": "i-rbpKoyajnB",
        "colab_type": "text"
      },
      "source": [
        "### TF"
      ]
    },
    {
      "cell_type": "code",
      "metadata": {
        "id": "7jQtEV8UPCSc",
        "colab_type": "code",
        "colab": {}
      },
      "source": [
        "def vec_model_tf(query,document,index=index):\n",
        "  q = {}\n",
        "  d = {}\n",
        "  \n",
        "  for word in vocabulary:\n",
        "    q[word] = 0\n",
        "    if word in query.split():\n",
        "      q[word] = 1\n",
        "  \n",
        "  tokens = [w for w in regex.tokenize(document) if w not in stopwords]\n",
        "  counter = Counter(tokens)\n",
        "  \n",
        "  for word in vocabulary:\n",
        "    d[word] = 0\n",
        "    if word in list(counter.keys()):\n",
        "      d[word] = counter[word]\n",
        "      \n",
        "  acc = 0\n",
        "  for word in vocabulary:\n",
        "    if q[word] > 0 and d[word] > 0:\n",
        "      acc = acc + q[word]*d[word]\n",
        "      \n",
        "  return acc\n",
        "\n",
        "# vec_model_tf(\"juíza federal\",documents[0])"
      ],
      "execution_count": 0,
      "outputs": []
    },
    {
      "cell_type": "markdown",
      "metadata": {
        "id": "G3ACq3Jdan85",
        "colab_type": "text"
      },
      "source": [
        "### TF-IDF"
      ]
    },
    {
      "cell_type": "code",
      "metadata": {
        "id": "duyweJe3bCRu",
        "colab_type": "code",
        "colab": {}
      },
      "source": [
        "def vec_model_tf_idf(query,document,index=index):\n",
        "  q = {}\n",
        "  d = {}\n",
        "  \n",
        "  for word in vocabulary:\n",
        "    q[word] = 0\n",
        "    if word in query.split():\n",
        "      q[word] = 1\n",
        "  \n",
        "  tokens = [w for w in regex.tokenize(document) if w not in stopwords]\n",
        "  counter = Counter(tokens)\n",
        "  \n",
        "  for word in vocabulary:\n",
        "    d[word] = 0\n",
        "    if word in list(counter.keys()):\n",
        "      d[word] = counter[word]\n",
        "      \n",
        "  acc = 0\n",
        "  for word in vocabulary:\n",
        "    idf = index[word][-1]\n",
        "    if q[word] > 0 and d[word] > 0:\n",
        "      acc = acc + q[word]*d[word]*idf\n",
        "      \n",
        "  return acc\n",
        "\n",
        "# vec_model_tf_idf(\"juíza federal\",documents[14])"
      ],
      "execution_count": 0,
      "outputs": []
    },
    {
      "cell_type": "markdown",
      "metadata": {
        "id": "WtKcqGX3ar6f",
        "colab_type": "text"
      },
      "source": [
        "### BM25"
      ]
    },
    {
      "cell_type": "code",
      "metadata": {
        "id": "ymlll0NEWJmq",
        "colab_type": "code",
        "colab": {}
      },
      "source": [
        "k = 1\n",
        "def bm25(query,document,index=index):\n",
        "  doc_tokens = [w for w in regex.tokenize(document) if w not in stopwords]\n",
        "  query_words = query.split()\n",
        "  \n",
        "  matched_words = list(set(doc_tokens) & set(query_words))\n",
        "  \n",
        "  score = 0\n",
        "  \n",
        "  for word in matched_words:\n",
        "    cwq = query_words.count(word)\n",
        "    cwd = doc_tokens.count(word)\n",
        "    dfw = len(index[word][:-1])\n",
        "    y = ((k+1)*cwd)/(cwd+k)\n",
        "    score += cwq * y * math.log((M+1)/dfw)\n",
        "    \n",
        "  \n",
        "  return score\n",
        "\n",
        "# bm25(\"forças armadas\",documents[149])"
      ],
      "execution_count": 0,
      "outputs": []
    },
    {
      "cell_type": "markdown",
      "metadata": {
        "id": "7QvCD2IObWP5",
        "colab_type": "text"
      },
      "source": [
        "#### Teste alguns valores diferentes de k e reporte como os resultados foram afetados."
      ]
    },
    {
      "cell_type": "markdown",
      "metadata": {
        "id": "KpEGVakRba6t",
        "colab_type": "text"
      },
      "source": [
        "Inicialmente o k foi definido como k = 1 para propósitos de implementação do algoritmo.  \n",
        "Para testar valores diferentes para k, será utilizado o intervalo entre 0 e 20 com um step de 0.5. Uma consulta aleatória será testada todas as vezes pelo BM25, variando somente o valor de k. Os resultados serão então salvos e o k final será definido pelo valor do 1º quartil."
      ]
    },
    {
      "cell_type": "code",
      "metadata": {
        "id": "SqRYnJfzhu4j",
        "colab_type": "code",
        "outputId": "af82f068-4bfc-457e-ac09-f16480dd070d",
        "colab": {
          "base_uri": "https://localhost:8080/",
          "height": 143
        }
      },
      "source": [
        "results = []\n",
        "best_k = []\n",
        "for k in [x * 0.1 for x in range(0,200,5)]:\n",
        "  res = bm25(\"forças armadas\",documents[149])\n",
        "  results.append(res)\n",
        "  best_k.append(k)\n",
        "  \n",
        "df = pd.DataFrame({'res':results, 'k':best_k})\n",
        "\n",
        "# df.quantile([0.25,0.5,0.75]).iloc[0,:].k\n",
        "df.quantile([0.25,0.5,0.75])"
      ],
      "execution_count": 0,
      "outputs": [
        {
          "output_type": "execute_result",
          "data": {
            "text/html": [
              "<div>\n",
              "<style scoped>\n",
              "    .dataframe tbody tr th:only-of-type {\n",
              "        vertical-align: middle;\n",
              "    }\n",
              "\n",
              "    .dataframe tbody tr th {\n",
              "        vertical-align: top;\n",
              "    }\n",
              "\n",
              "    .dataframe thead th {\n",
              "        text-align: right;\n",
              "    }\n",
              "</style>\n",
              "<table border=\"1\" class=\"dataframe\">\n",
              "  <thead>\n",
              "    <tr style=\"text-align: right;\">\n",
              "      <th></th>\n",
              "      <th>res</th>\n",
              "      <th>k</th>\n",
              "    </tr>\n",
              "  </thead>\n",
              "  <tbody>\n",
              "    <tr>\n",
              "      <th>0.25</th>\n",
              "      <td>15.893550</td>\n",
              "      <td>4.875</td>\n",
              "    </tr>\n",
              "    <tr>\n",
              "      <th>0.50</th>\n",
              "      <td>20.831447</td>\n",
              "      <td>9.750</td>\n",
              "    </tr>\n",
              "    <tr>\n",
              "      <th>0.75</th>\n",
              "      <td>23.588632</td>\n",
              "      <td>14.625</td>\n",
              "    </tr>\n",
              "  </tbody>\n",
              "</table>\n",
              "</div>"
            ],
            "text/plain": [
              "            res       k\n",
              "0.25  15.893550   4.875\n",
              "0.50  20.831447   9.750\n",
              "0.75  23.588632  14.625"
            ]
          },
          "metadata": {
            "tags": []
          },
          "execution_count": 9
        }
      ]
    },
    {
      "cell_type": "markdown",
      "metadata": {
        "id": "AKNYa_Tpc80s",
        "colab_type": "text"
      },
      "source": [
        "O k então será definido como sendo igual a 4.875. Abaixo é possível observar a alteração do score em relação ao produzido pela consulta com o k = 1, que era o valor anterior. Dessa forma, será possível observar uma suavização dos resultados do BM25 para scores muito grandes."
      ]
    },
    {
      "cell_type": "code",
      "metadata": {
        "id": "J2u_-GQ_wRuA",
        "colab_type": "code",
        "outputId": "01f0b5e7-0592-4c1a-b7e8-063782f43bbe",
        "colab": {
          "base_uri": "https://localhost:8080/",
          "height": 52
        }
      },
      "source": [
        "print(f'Para k = {k} o score foi {bm25(\"forças armadas\",documents[149]):.3}.')\n",
        "k = 4.875\n",
        "print(f'Para k = {k} o score foi {bm25(\"forças armadas\",documents[149]):.3}.')"
      ],
      "execution_count": 0,
      "outputs": [
        {
          "output_type": "stream",
          "text": [
            "Para k = 19.5 o score foi 25.3.\n",
            "Para k = 4.875 o score foi 15.9.\n"
          ],
          "name": "stdout"
        }
      ]
    },
    {
      "cell_type": "markdown",
      "metadata": {
        "id": "TAZUK5nxbEjl",
        "colab_type": "text"
      },
      "source": [
        "## 4. Execute os algoritmos separadamente em 3 consultas de sua escolha e retorne os top-5 documentos mais similares à cada consulta"
      ]
    },
    {
      "cell_type": "markdown",
      "metadata": {
        "id": "pT-6ENe3eZsb",
        "colab_type": "text"
      },
      "source": [
        "As consultas serão definidas por:\n",
        " - \"governo federal\"\n",
        " - \"golpe de estado\"\n",
        " - \"\"forças armadas\""
      ]
    },
    {
      "cell_type": "code",
      "metadata": {
        "id": "liuiyuS_wiir",
        "colab_type": "code",
        "colab": {}
      },
      "source": [
        "queries = [\"forças armadas\", \"governo federal\", \"golpe de estado\"]"
      ],
      "execution_count": 0,
      "outputs": []
    },
    {
      "cell_type": "code",
      "metadata": {
        "id": "zmFFjX3g3RKn",
        "colab_type": "code",
        "colab": {}
      },
      "source": [
        "def get_top5(query,fun):\n",
        "  doc_id = 0\n",
        "  scores = []\n",
        "  docs = {}\n",
        "  for document in documents:\n",
        "    score = fun(query,document)\n",
        "    docs[doc_id] = score\n",
        "    doc_id += 1\n",
        "    \n",
        "  return sorted(docs.items(), key=lambda kv:kv[1], reverse=True)\n",
        "\n",
        "def build_query(query):\n",
        "  funs = [vec_model_bin,vec_model_tf,vec_model_tf_idf,bm25]\n",
        "  table = {}\n",
        "  for fun in funs:\n",
        "    top = get_top5(query,fun)\n",
        "    table[fun.__name__] = top\n",
        "    \n",
        "  return pd.DataFrame(table)"
      ],
      "execution_count": 0,
      "outputs": []
    },
    {
      "cell_type": "markdown",
      "metadata": {
        "id": "9spCXBcceq-6",
        "colab_type": "text"
      },
      "source": [
        "As consultas serão executadas e serão calculados scores para todos os documentos disponíveis. Então para cada consulta será construída uma tabela referente aos top-5 resultados (documentos) de cada um dos métodos."
      ]
    },
    {
      "cell_type": "code",
      "metadata": {
        "id": "urRU7SkT_Nml",
        "colab_type": "code",
        "outputId": "93722399-662c-4d97-e2da-f19b0b431c30",
        "colab": {
          "base_uri": "https://localhost:8080/",
          "height": 741
        }
      },
      "source": [
        "for query in queries:\n",
        "  table = build_query(query)\n",
        "  print(query)\n",
        "  display(table.head(5))\n",
        "  print('\\n')"
      ],
      "execution_count": 0,
      "outputs": [
        {
          "output_type": "stream",
          "text": [
            "forças armadas\n"
          ],
          "name": "stdout"
        },
        {
          "output_type": "display_data",
          "data": {
            "text/html": [
              "<div>\n",
              "<style scoped>\n",
              "    .dataframe tbody tr th:only-of-type {\n",
              "        vertical-align: middle;\n",
              "    }\n",
              "\n",
              "    .dataframe tbody tr th {\n",
              "        vertical-align: top;\n",
              "    }\n",
              "\n",
              "    .dataframe thead th {\n",
              "        text-align: right;\n",
              "    }\n",
              "</style>\n",
              "<table border=\"1\" class=\"dataframe\">\n",
              "  <thead>\n",
              "    <tr style=\"text-align: right;\">\n",
              "      <th></th>\n",
              "      <th>vec_model_bin</th>\n",
              "      <th>vec_model_tf</th>\n",
              "      <th>vec_model_tf_idf</th>\n",
              "      <th>bm25</th>\n",
              "    </tr>\n",
              "  </thead>\n",
              "  <tbody>\n",
              "    <tr>\n",
              "      <th>0</th>\n",
              "      <td>(0, 2)</td>\n",
              "      <td>(149, 15)</td>\n",
              "      <td>(149, 33.323497612614815)</td>\n",
              "      <td>(149, 15.89904328901099)</td>\n",
              "    </tr>\n",
              "    <tr>\n",
              "      <th>1</th>\n",
              "      <td>(5, 2)</td>\n",
              "      <td>(24, 9)</td>\n",
              "      <td>(24, 19.860802780873335)</td>\n",
              "      <td>(24, 12.506924563304118)</td>\n",
              "    </tr>\n",
              "    <tr>\n",
              "      <th>2</th>\n",
              "      <td>(11, 2)</td>\n",
              "      <td>(165, 8)</td>\n",
              "      <td>(165, 17.95025977565531)</td>\n",
              "      <td>(165, 11.882566330363375)</td>\n",
              "    </tr>\n",
              "    <tr>\n",
              "      <th>3</th>\n",
              "      <td>(24, 2)</td>\n",
              "      <td>(207, 8)</td>\n",
              "      <td>(207, 17.95025977565531)</td>\n",
              "      <td>(207, 11.882566330363375)</td>\n",
              "    </tr>\n",
              "    <tr>\n",
              "      <th>4</th>\n",
              "      <td>(41, 2)</td>\n",
              "      <td>(0, 6)</td>\n",
              "      <td>(0, 13.462694831741484)</td>\n",
              "      <td>(0, 10.043597731616662)</td>\n",
              "    </tr>\n",
              "  </tbody>\n",
              "</table>\n",
              "</div>"
            ],
            "text/plain": [
              "  vec_model_bin  ...                       bm25\n",
              "0        (0, 2)  ...   (149, 15.89904328901099)\n",
              "1        (5, 2)  ...   (24, 12.506924563304118)\n",
              "2       (11, 2)  ...  (165, 11.882566330363375)\n",
              "3       (24, 2)  ...  (207, 11.882566330363375)\n",
              "4       (41, 2)  ...    (0, 10.043597731616662)\n",
              "\n",
              "[5 rows x 4 columns]"
            ]
          },
          "metadata": {
            "tags": []
          }
        },
        {
          "output_type": "stream",
          "text": [
            "\n",
            "\n",
            "governo federal\n"
          ],
          "name": "stdout"
        },
        {
          "output_type": "display_data",
          "data": {
            "text/html": [
              "<div>\n",
              "<style scoped>\n",
              "    .dataframe tbody tr th:only-of-type {\n",
              "        vertical-align: middle;\n",
              "    }\n",
              "\n",
              "    .dataframe tbody tr th {\n",
              "        vertical-align: top;\n",
              "    }\n",
              "\n",
              "    .dataframe thead th {\n",
              "        text-align: right;\n",
              "    }\n",
              "</style>\n",
              "<table border=\"1\" class=\"dataframe\">\n",
              "  <thead>\n",
              "    <tr style=\"text-align: right;\">\n",
              "      <th></th>\n",
              "      <th>vec_model_bin</th>\n",
              "      <th>vec_model_tf</th>\n",
              "      <th>vec_model_tf_idf</th>\n",
              "      <th>bm25</th>\n",
              "    </tr>\n",
              "  </thead>\n",
              "  <tbody>\n",
              "    <tr>\n",
              "      <th>0</th>\n",
              "      <td>(2, 2)</td>\n",
              "      <td>(172, 19)</td>\n",
              "      <td>(172, 19.90201857230658)</td>\n",
              "      <td>(172, 8.301438203245631)</td>\n",
              "    </tr>\n",
              "    <tr>\n",
              "      <th>1</th>\n",
              "      <td>(23, 2)</td>\n",
              "      <td>(165, 14)</td>\n",
              "      <td>(247, 13.818099017189173)</td>\n",
              "      <td>(247, 7.195657384981824)</td>\n",
              "    </tr>\n",
              "    <tr>\n",
              "      <th>2</th>\n",
              "      <td>(33, 2)</td>\n",
              "      <td>(247, 13)</td>\n",
              "      <td>(165, 13.177774992178293)</td>\n",
              "      <td>(228, 6.930440834926088)</td>\n",
              "    </tr>\n",
              "    <tr>\n",
              "      <th>3</th>\n",
              "      <td>(36, 2)</td>\n",
              "      <td>(114, 12)</td>\n",
              "      <td>(114, 12.167839110234816)</td>\n",
              "      <td>(114, 6.3226627502206885)</td>\n",
              "    </tr>\n",
              "    <tr>\n",
              "      <th>4</th>\n",
              "      <td>(41, 2)</td>\n",
              "      <td>(228, 11)</td>\n",
              "      <td>(228, 12.044635157923953)</td>\n",
              "      <td>(219, 6.041405075584327)</td>\n",
              "    </tr>\n",
              "  </tbody>\n",
              "</table>\n",
              "</div>"
            ],
            "text/plain": [
              "  vec_model_bin  ...                       bm25\n",
              "0        (2, 2)  ...   (172, 8.301438203245631)\n",
              "1       (23, 2)  ...   (247, 7.195657384981824)\n",
              "2       (33, 2)  ...   (228, 6.930440834926088)\n",
              "3       (36, 2)  ...  (114, 6.3226627502206885)\n",
              "4       (41, 2)  ...   (219, 6.041405075584327)\n",
              "\n",
              "[5 rows x 4 columns]"
            ]
          },
          "metadata": {
            "tags": []
          }
        },
        {
          "output_type": "stream",
          "text": [
            "\n",
            "\n",
            "golpe de estado\n"
          ],
          "name": "stdout"
        },
        {
          "output_type": "display_data",
          "data": {
            "text/html": [
              "<div>\n",
              "<style scoped>\n",
              "    .dataframe tbody tr th:only-of-type {\n",
              "        vertical-align: middle;\n",
              "    }\n",
              "\n",
              "    .dataframe tbody tr th {\n",
              "        vertical-align: top;\n",
              "    }\n",
              "\n",
              "    .dataframe thead th {\n",
              "        text-align: right;\n",
              "    }\n",
              "</style>\n",
              "<table border=\"1\" class=\"dataframe\">\n",
              "  <thead>\n",
              "    <tr style=\"text-align: right;\">\n",
              "      <th></th>\n",
              "      <th>vec_model_bin</th>\n",
              "      <th>vec_model_tf</th>\n",
              "      <th>vec_model_tf_idf</th>\n",
              "      <th>bm25</th>\n",
              "    </tr>\n",
              "  </thead>\n",
              "  <tbody>\n",
              "    <tr>\n",
              "      <th>0</th>\n",
              "      <td>(0, 2)</td>\n",
              "      <td>(24, 14)</td>\n",
              "      <td>(24, 32.77309553455966)</td>\n",
              "      <td>(24, 11.562170753434446)</td>\n",
              "    </tr>\n",
              "    <tr>\n",
              "      <th>1</th>\n",
              "      <td>(1, 2)</td>\n",
              "      <td>(2, 8)</td>\n",
              "      <td>(2, 18.190584747536075)</td>\n",
              "      <td>(165, 9.890628428592263)</td>\n",
              "    </tr>\n",
              "    <tr>\n",
              "      <th>2</th>\n",
              "      <td>(2, 2)</td>\n",
              "      <td>(6, 8)</td>\n",
              "      <td>(165, 16.937821779040707)</td>\n",
              "      <td>(2, 9.594578388869541)</td>\n",
              "    </tr>\n",
              "    <tr>\n",
              "      <th>3</th>\n",
              "      <td>(24, 2)</td>\n",
              "      <td>(165, 8)</td>\n",
              "      <td>(164, 14.507403314536777)</td>\n",
              "      <td>(164, 9.242446114401124)</td>\n",
              "    </tr>\n",
              "    <tr>\n",
              "      <th>4</th>\n",
              "      <td>(97, 2)</td>\n",
              "      <td>(248, 8)</td>\n",
              "      <td>(207, 13.329747818528213)</td>\n",
              "      <td>(0, 8.448194546307755)</td>\n",
              "    </tr>\n",
              "  </tbody>\n",
              "</table>\n",
              "</div>"
            ],
            "text/plain": [
              "  vec_model_bin  ...                      bm25\n",
              "0        (0, 2)  ...  (24, 11.562170753434446)\n",
              "1        (1, 2)  ...  (165, 9.890628428592263)\n",
              "2        (2, 2)  ...    (2, 9.594578388869541)\n",
              "3       (24, 2)  ...  (164, 9.242446114401124)\n",
              "4       (97, 2)  ...    (0, 8.448194546307755)\n",
              "\n",
              "[5 rows x 4 columns]"
            ]
          },
          "metadata": {
            "tags": []
          }
        },
        {
          "output_type": "stream",
          "text": [
            "\n",
            "\n"
          ],
          "name": "stdout"
        }
      ]
    },
    {
      "cell_type": "markdown",
      "metadata": {
        "id": "c0NypHErfbze",
        "colab_type": "text"
      },
      "source": [
        "## 5. Compare os resultados encontrados e responda:"
      ]
    },
    {
      "cell_type": "markdown",
      "metadata": {
        "id": "zwogx37rfjFj",
        "colab_type": "text"
      },
      "source": [
        "### Quais modelos você acha que trouxe os melhores resultados? Por que? Inspecione os documentos retornados para melhor embasar sua resposta."
      ]
    },
    {
      "cell_type": "code",
      "metadata": {
        "id": "qT7J3CXzjM08",
        "colab_type": "code",
        "colab": {}
      },
      "source": [
        "# get only docs\n",
        "table_docs = table.applymap(lambda x: x[0])[:5]"
      ],
      "execution_count": 0,
      "outputs": []
    },
    {
      "cell_type": "code",
      "metadata": {
        "colab_type": "code",
        "id": "pNC5Dl7AmIzA",
        "outputId": "9165afd6-875f-4ad1-9953-32b0a69160fb",
        "colab": {
          "base_uri": "https://localhost:8080/",
          "height": 1382
        }
      },
      "source": [
        "pd.options.display.max_colwidth = 500\n",
        "BOLD = '\\033[1m'\n",
        "END = '\\033[0m'\n",
        "\n",
        "print(f'A consulta realizada foi {BOLD}\"{query}\"{END}.\\nAbaixo os resultados de cada modelo:\\n')\n",
        "\n",
        "for model in table_docs:\n",
        "  docs = table_docs[model]\n",
        "  df = data[['title','subtitle']].iloc[docs]\n",
        "  print(f'{BOLD}{model}{END}')\n",
        "  display(df)\n",
        "  print('\\n')"
      ],
      "execution_count": 0,
      "outputs": [
        {
          "output_type": "stream",
          "text": [
            "A consulta realizada foi \u001b[1m\"golpe de estado\"\u001b[0m.\n",
            "Abaixo os resultados de cada modelo:\n",
            "\n",
            "\u001b[1mvec_model_bin\u001b[0m\n"
          ],
          "name": "stdout"
        },
        {
          "output_type": "display_data",
          "data": {
            "text/html": [
              "<div>\n",
              "<style scoped>\n",
              "    .dataframe tbody tr th:only-of-type {\n",
              "        vertical-align: middle;\n",
              "    }\n",
              "\n",
              "    .dataframe tbody tr th {\n",
              "        vertical-align: top;\n",
              "    }\n",
              "\n",
              "    .dataframe thead th {\n",
              "        text-align: right;\n",
              "    }\n",
              "</style>\n",
              "<table border=\"1\" class=\"dataframe\">\n",
              "  <thead>\n",
              "    <tr style=\"text-align: right;\">\n",
              "      <th></th>\n",
              "      <th>title</th>\n",
              "      <th>subtitle</th>\n",
              "    </tr>\n",
              "  </thead>\n",
              "  <tbody>\n",
              "    <tr>\n",
              "      <th>0</th>\n",
              "      <td>“A sociedade foi Rubens Paiva  não os facínoras que o mataram”</td>\n",
              "      <td>A decisão da juíza que proíbe as Forças Armadas de celebrarem golpe de 1964 contrapõe texto de militares ao de Ulysses Guimarães na Constituinte. Gilmar Mendes rejeita análise do tema</td>\n",
              "    </tr>\n",
              "    <tr>\n",
              "      <th>1</th>\n",
              "      <td>Justiça suspende decisão que proibia Forças Armadas de celebrarem golpe de 1964</td>\n",
              "      <td>Liminar havia sido concedida na sexta-feira a noite  mas menos de 24 horas depois foi derrubada</td>\n",
              "    </tr>\n",
              "    <tr>\n",
              "      <th>2</th>\n",
              "      <td>Governo Bolsonaro prega “negacionismo histórico” sobre a ditadura</td>\n",
              "      <td>Marcos Napolitano  professor da USP  diz que o discurso do Governo Bolsonaro sobre o golpe de 64 está mais para negacionismo  pois “tem um ponto de partida ideológico  com objetivo de ocultar o passado”</td>\n",
              "    </tr>\n",
              "    <tr>\n",
              "      <th>24</th>\n",
              "      <td>Boris Fausto e o golpe de 64: “É impossível ir contra fatos estabelecidos”</td>\n",
              "      <td>Historiador diz que as Forças Armadas nunca reconheceram os aspectos mais negativos do regime militar e que não havia ameaça imediata de implantação de um regime comunista</td>\n",
              "    </tr>\n",
              "    <tr>\n",
              "      <th>97</th>\n",
              "      <td>Maduro anuncia 30 dias de racionamento de energia na Venezuela</td>\n",
              "      <td>Presidente adota as medidas após os graves blecautes que deixaram o país sem água e luz no último dia 7</td>\n",
              "    </tr>\n",
              "  </tbody>\n",
              "</table>\n",
              "</div>"
            ],
            "text/plain": [
              "                                                                              title                                                                                                                                                                                                    subtitle\n",
              "0                    “A sociedade foi Rubens Paiva  não os facínoras que o mataram”                     A decisão da juíza que proíbe as Forças Armadas de celebrarem golpe de 1964 contrapõe texto de militares ao de Ulysses Guimarães na Constituinte. Gilmar Mendes rejeita análise do tema\n",
              "1   Justiça suspende decisão que proibia Forças Armadas de celebrarem golpe de 1964                                                                                                             Liminar havia sido concedida na sexta-feira a noite  mas menos de 24 horas depois foi derrubada\n",
              "2                 Governo Bolsonaro prega “negacionismo histórico” sobre a ditadura  Marcos Napolitano  professor da USP  diz que o discurso do Governo Bolsonaro sobre o golpe de 64 está mais para negacionismo  pois “tem um ponto de partida ideológico  com objetivo de ocultar o passado”\n",
              "24       Boris Fausto e o golpe de 64: “É impossível ir contra fatos estabelecidos”                                 Historiador diz que as Forças Armadas nunca reconheceram os aspectos mais negativos do regime militar e que não havia ameaça imediata de implantação de um regime comunista\n",
              "97                   Maduro anuncia 30 dias de racionamento de energia na Venezuela                                                                                                     Presidente adota as medidas após os graves blecautes que deixaram o país sem água e luz no último dia 7"
            ]
          },
          "metadata": {
            "tags": []
          }
        },
        {
          "output_type": "stream",
          "text": [
            "\n",
            "\n",
            "\u001b[1mvec_model_tf\u001b[0m\n"
          ],
          "name": "stdout"
        },
        {
          "output_type": "display_data",
          "data": {
            "text/html": [
              "<div>\n",
              "<style scoped>\n",
              "    .dataframe tbody tr th:only-of-type {\n",
              "        vertical-align: middle;\n",
              "    }\n",
              "\n",
              "    .dataframe tbody tr th {\n",
              "        vertical-align: top;\n",
              "    }\n",
              "\n",
              "    .dataframe thead th {\n",
              "        text-align: right;\n",
              "    }\n",
              "</style>\n",
              "<table border=\"1\" class=\"dataframe\">\n",
              "  <thead>\n",
              "    <tr style=\"text-align: right;\">\n",
              "      <th></th>\n",
              "      <th>title</th>\n",
              "      <th>subtitle</th>\n",
              "    </tr>\n",
              "  </thead>\n",
              "  <tbody>\n",
              "    <tr>\n",
              "      <th>24</th>\n",
              "      <td>Boris Fausto e o golpe de 64: “É impossível ir contra fatos estabelecidos”</td>\n",
              "      <td>Historiador diz que as Forças Armadas nunca reconheceram os aspectos mais negativos do regime militar e que não havia ameaça imediata de implantação de um regime comunista</td>\n",
              "    </tr>\n",
              "    <tr>\n",
              "      <th>2</th>\n",
              "      <td>Governo Bolsonaro prega “negacionismo histórico” sobre a ditadura</td>\n",
              "      <td>Marcos Napolitano  professor da USP  diz que o discurso do Governo Bolsonaro sobre o golpe de 64 está mais para negacionismo  pois “tem um ponto de partida ideológico  com objetivo de ocultar o passado”</td>\n",
              "    </tr>\n",
              "    <tr>\n",
              "      <th>6</th>\n",
              "      <td>“Lógica de usar torturadores da ditadura no crime foi usada nas milícias”</td>\n",
              "      <td>Aloy Jupiara  coautor de 'Os porões da contravenção'  fala sobre o legado de profissionalização do crime deixado pelos anos de chumbo que perdura até hoje</td>\n",
              "    </tr>\n",
              "    <tr>\n",
              "      <th>165</th>\n",
              "      <td>Bolsonaro manda festejar o crime</td>\n",
              "      <td>Ao determinar a comemoração do golpe militar de 1964  o antipresidente busca manter o ódio ativo e barrar qualquer possibilidade de justiça</td>\n",
              "    </tr>\n",
              "    <tr>\n",
              "      <th>248</th>\n",
              "      <td>As três espanholas do Estado Islâmico: “Só queremos ir embora”</td>\n",
              "      <td>EL PAÍS localiza  em meio a milhares de famílias jihadistas num campo de acolhida  três mulheres que viajaram com seus maridos para a Síria em 2014 e sobreviveram ao desmoronamento do califado</td>\n",
              "    </tr>\n",
              "  </tbody>\n",
              "</table>\n",
              "</div>"
            ],
            "text/plain": [
              "                                                                          title                                                                                                                                                                                                    subtitle\n",
              "24   Boris Fausto e o golpe de 64: “É impossível ir contra fatos estabelecidos”                                 Historiador diz que as Forças Armadas nunca reconheceram os aspectos mais negativos do regime militar e que não havia ameaça imediata de implantação de um regime comunista\n",
              "2             Governo Bolsonaro prega “negacionismo histórico” sobre a ditadura  Marcos Napolitano  professor da USP  diz que o discurso do Governo Bolsonaro sobre o golpe de 64 está mais para negacionismo  pois “tem um ponto de partida ideológico  com objetivo de ocultar o passado”\n",
              "6     “Lógica de usar torturadores da ditadura no crime foi usada nas milícias”                                                  Aloy Jupiara  coautor de 'Os porões da contravenção'  fala sobre o legado de profissionalização do crime deixado pelos anos de chumbo que perdura até hoje\n",
              "165                                            Bolsonaro manda festejar o crime                                                                 Ao determinar a comemoração do golpe militar de 1964  o antipresidente busca manter o ódio ativo e barrar qualquer possibilidade de justiça\n",
              "248              As três espanholas do Estado Islâmico: “Só queremos ir embora”            EL PAÍS localiza  em meio a milhares de famílias jihadistas num campo de acolhida  três mulheres que viajaram com seus maridos para a Síria em 2014 e sobreviveram ao desmoronamento do califado"
            ]
          },
          "metadata": {
            "tags": []
          }
        },
        {
          "output_type": "stream",
          "text": [
            "\n",
            "\n",
            "\u001b[1mvec_model_tf_idf\u001b[0m\n"
          ],
          "name": "stdout"
        },
        {
          "output_type": "display_data",
          "data": {
            "text/html": [
              "<div>\n",
              "<style scoped>\n",
              "    .dataframe tbody tr th:only-of-type {\n",
              "        vertical-align: middle;\n",
              "    }\n",
              "\n",
              "    .dataframe tbody tr th {\n",
              "        vertical-align: top;\n",
              "    }\n",
              "\n",
              "    .dataframe thead th {\n",
              "        text-align: right;\n",
              "    }\n",
              "</style>\n",
              "<table border=\"1\" class=\"dataframe\">\n",
              "  <thead>\n",
              "    <tr style=\"text-align: right;\">\n",
              "      <th></th>\n",
              "      <th>title</th>\n",
              "      <th>subtitle</th>\n",
              "    </tr>\n",
              "  </thead>\n",
              "  <tbody>\n",
              "    <tr>\n",
              "      <th>24</th>\n",
              "      <td>Boris Fausto e o golpe de 64: “É impossível ir contra fatos estabelecidos”</td>\n",
              "      <td>Historiador diz que as Forças Armadas nunca reconheceram os aspectos mais negativos do regime militar e que não havia ameaça imediata de implantação de um regime comunista</td>\n",
              "    </tr>\n",
              "    <tr>\n",
              "      <th>2</th>\n",
              "      <td>Governo Bolsonaro prega “negacionismo histórico” sobre a ditadura</td>\n",
              "      <td>Marcos Napolitano  professor da USP  diz que o discurso do Governo Bolsonaro sobre o golpe de 64 está mais para negacionismo  pois “tem um ponto de partida ideológico  com objetivo de ocultar o passado”</td>\n",
              "    </tr>\n",
              "    <tr>\n",
              "      <th>165</th>\n",
              "      <td>Bolsonaro manda festejar o crime</td>\n",
              "      <td>Ao determinar a comemoração do golpe militar de 1964  o antipresidente busca manter o ódio ativo e barrar qualquer possibilidade de justiça</td>\n",
              "    </tr>\n",
              "    <tr>\n",
              "      <th>164</th>\n",
              "      <td>Celebrar o golpe representa uma derrota para a democracia</td>\n",
              "      <td>A eleição de Bolsonaro e sua decisão de comemorar o golpe representam simbólica e  espero  provisoriamente  a vitória da memória e do sentimento autoritário</td>\n",
              "    </tr>\n",
              "    <tr>\n",
              "      <th>207</th>\n",
              "      <td>Bolsonaro escancara cadáver insepulto da ditadura com celebração do golpe</td>\n",
              "      <td>Com medida simbólica  presidente determinou que Forças Armadas façam \"comemorações devidas\" da data</td>\n",
              "    </tr>\n",
              "  </tbody>\n",
              "</table>\n",
              "</div>"
            ],
            "text/plain": [
              "                                                                          title                                                                                                                                                                                                    subtitle\n",
              "24   Boris Fausto e o golpe de 64: “É impossível ir contra fatos estabelecidos”                                 Historiador diz que as Forças Armadas nunca reconheceram os aspectos mais negativos do regime militar e que não havia ameaça imediata de implantação de um regime comunista\n",
              "2             Governo Bolsonaro prega “negacionismo histórico” sobre a ditadura  Marcos Napolitano  professor da USP  diz que o discurso do Governo Bolsonaro sobre o golpe de 64 está mais para negacionismo  pois “tem um ponto de partida ideológico  com objetivo de ocultar o passado”\n",
              "165                                            Bolsonaro manda festejar o crime                                                                 Ao determinar a comemoração do golpe militar de 1964  o antipresidente busca manter o ódio ativo e barrar qualquer possibilidade de justiça\n",
              "164                   Celebrar o golpe representa uma derrota para a democracia                                                A eleição de Bolsonaro e sua decisão de comemorar o golpe representam simbólica e  espero  provisoriamente  a vitória da memória e do sentimento autoritário\n",
              "207   Bolsonaro escancara cadáver insepulto da ditadura com celebração do golpe                                                                                                         Com medida simbólica  presidente determinou que Forças Armadas façam \"comemorações devidas\" da data"
            ]
          },
          "metadata": {
            "tags": []
          }
        },
        {
          "output_type": "stream",
          "text": [
            "\n",
            "\n",
            "\u001b[1mbm25\u001b[0m\n"
          ],
          "name": "stdout"
        },
        {
          "output_type": "display_data",
          "data": {
            "text/html": [
              "<div>\n",
              "<style scoped>\n",
              "    .dataframe tbody tr th:only-of-type {\n",
              "        vertical-align: middle;\n",
              "    }\n",
              "\n",
              "    .dataframe tbody tr th {\n",
              "        vertical-align: top;\n",
              "    }\n",
              "\n",
              "    .dataframe thead th {\n",
              "        text-align: right;\n",
              "    }\n",
              "</style>\n",
              "<table border=\"1\" class=\"dataframe\">\n",
              "  <thead>\n",
              "    <tr style=\"text-align: right;\">\n",
              "      <th></th>\n",
              "      <th>title</th>\n",
              "      <th>subtitle</th>\n",
              "    </tr>\n",
              "  </thead>\n",
              "  <tbody>\n",
              "    <tr>\n",
              "      <th>24</th>\n",
              "      <td>Boris Fausto e o golpe de 64: “É impossível ir contra fatos estabelecidos”</td>\n",
              "      <td>Historiador diz que as Forças Armadas nunca reconheceram os aspectos mais negativos do regime militar e que não havia ameaça imediata de implantação de um regime comunista</td>\n",
              "    </tr>\n",
              "    <tr>\n",
              "      <th>165</th>\n",
              "      <td>Bolsonaro manda festejar o crime</td>\n",
              "      <td>Ao determinar a comemoração do golpe militar de 1964  o antipresidente busca manter o ódio ativo e barrar qualquer possibilidade de justiça</td>\n",
              "    </tr>\n",
              "    <tr>\n",
              "      <th>2</th>\n",
              "      <td>Governo Bolsonaro prega “negacionismo histórico” sobre a ditadura</td>\n",
              "      <td>Marcos Napolitano  professor da USP  diz que o discurso do Governo Bolsonaro sobre o golpe de 64 está mais para negacionismo  pois “tem um ponto de partida ideológico  com objetivo de ocultar o passado”</td>\n",
              "    </tr>\n",
              "    <tr>\n",
              "      <th>164</th>\n",
              "      <td>Celebrar o golpe representa uma derrota para a democracia</td>\n",
              "      <td>A eleição de Bolsonaro e sua decisão de comemorar o golpe representam simbólica e  espero  provisoriamente  a vitória da memória e do sentimento autoritário</td>\n",
              "    </tr>\n",
              "    <tr>\n",
              "      <th>0</th>\n",
              "      <td>“A sociedade foi Rubens Paiva  não os facínoras que o mataram”</td>\n",
              "      <td>A decisão da juíza que proíbe as Forças Armadas de celebrarem golpe de 1964 contrapõe texto de militares ao de Ulysses Guimarães na Constituinte. Gilmar Mendes rejeita análise do tema</td>\n",
              "    </tr>\n",
              "  </tbody>\n",
              "</table>\n",
              "</div>"
            ],
            "text/plain": [
              "                                                                          title                                                                                                                                                                                                    subtitle\n",
              "24   Boris Fausto e o golpe de 64: “É impossível ir contra fatos estabelecidos”                                 Historiador diz que as Forças Armadas nunca reconheceram os aspectos mais negativos do regime militar e que não havia ameaça imediata de implantação de um regime comunista\n",
              "165                                            Bolsonaro manda festejar o crime                                                                 Ao determinar a comemoração do golpe militar de 1964  o antipresidente busca manter o ódio ativo e barrar qualquer possibilidade de justiça\n",
              "2             Governo Bolsonaro prega “negacionismo histórico” sobre a ditadura  Marcos Napolitano  professor da USP  diz que o discurso do Governo Bolsonaro sobre o golpe de 64 está mais para negacionismo  pois “tem um ponto de partida ideológico  com objetivo de ocultar o passado”\n",
              "164                   Celebrar o golpe representa uma derrota para a democracia                                                A eleição de Bolsonaro e sua decisão de comemorar o golpe representam simbólica e  espero  provisoriamente  a vitória da memória e do sentimento autoritário\n",
              "0                “A sociedade foi Rubens Paiva  não os facínoras que o mataram”                     A decisão da juíza que proíbe as Forças Armadas de celebrarem golpe de 1964 contrapõe texto de militares ao de Ulysses Guimarães na Constituinte. Gilmar Mendes rejeita análise do tema"
            ]
          },
          "metadata": {
            "tags": []
          }
        },
        {
          "output_type": "stream",
          "text": [
            "\n",
            "\n"
          ],
          "name": "stdout"
        }
      ]
    },
    {
      "cell_type": "markdown",
      "metadata": {
        "id": "vjP58lsOmM-i",
        "colab_type": "text"
      },
      "source": [
        "Considerando a consulta observada acima, é possível observar que tanto o TF-IDF quanto o BM25 apresentaram melhores resultados. Entretanto, ao meu ver o TF-IDF foi melhor por conta do último resultado do seu top-5 ser mais condizente com a consulta em relação ao último resultado do BM25. Para essa conclusão os títulos e subtitulos dos melhores documentos foram levados em conta."
      ]
    },
    {
      "cell_type": "markdown",
      "metadata": {
        "id": "0TNssE3Cfotq",
        "colab_type": "text"
      },
      "source": [
        "### Calcule e reporte o overlap par-a-par entre os resultados de cada modelo (usando o índice de Jaccard)"
      ]
    },
    {
      "cell_type": "code",
      "metadata": {
        "id": "7cSssR9fRGKw",
        "colab_type": "code",
        "outputId": "3c9fd131-8be9-4757-8ac2-e32ee8b09f2a",
        "colab": {
          "base_uri": "https://localhost:8080/",
          "height": 156
        }
      },
      "source": [
        "funs = [vec_model_bin,vec_model_tf,vec_model_tf_idf,bm25]\n",
        "fun_names = [(x.__name__,y.__name__) for x,y in [tup for tup in list(itertools.combinations(funs,2))]]\n",
        "\n",
        "print(f'Abaixo estão os resultados da consulta \"{query}\":\\n')\n",
        "for fun1,fun2 in fun_names:\n",
        "  inter = len(set(table_docs[fun1]) & set(table_docs[fun2]))\n",
        "  union = len(set(table_docs[fun1])) + len(set(table_docs[fun2])) - inter\n",
        "  jaccard = inter/union\n",
        "  print(f'O overlap entre {fun1} e {fun2} foi de {jaccard:.3}.')"
      ],
      "execution_count": 0,
      "outputs": [
        {
          "output_type": "stream",
          "text": [
            "Abaixo estão os resultados da consulta \"golpe de estado\":\n",
            "\n",
            "O overlap entre vec_model_bin e vec_model_tf foi de 0.25.\n",
            "O overlap entre vec_model_bin e vec_model_tf_idf foi de 0.25.\n",
            "O overlap entre vec_model_bin e bm25 foi de 0.429.\n",
            "O overlap entre vec_model_tf e vec_model_tf_idf foi de 0.429.\n",
            "O overlap entre vec_model_tf e bm25 foi de 0.429.\n",
            "O overlap entre vec_model_tf_idf e bm25 foi de 0.667.\n"
          ],
          "name": "stdout"
        }
      ]
    },
    {
      "cell_type": "markdown",
      "metadata": {
        "id": "-TMOFXG4nYvj",
        "colab_type": "text"
      },
      "source": [
        "De acordo com o observado, o maior overlap foi entre o TF-IDF e o BM25, o que remete reforça o observado em relação a observação dos melhores resultados. Com isso, verifica-se que são técnicas que produziram resultados similares para essa consulta."
      ]
    }
  ]
}